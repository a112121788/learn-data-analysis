{
 "cells": [
  {
   "cell_type": "markdown",
   "metadata": {},
   "source": [
    "# KNN 分类"
   ]
  },
  {
   "cell_type": "code",
   "execution_count": 9,
   "metadata": {},
   "outputs": [],
   "source": [
    "# 加载库\n",
    "%matplotlib inline\n",
    "import os\n",
    "import numpy as np\n",
    "from scipy import stats\n",
    "import pandas as pd\n",
    "import sklearn.model_selection as cross_validation\n",
    "import matplotlib.pyplot as plt\n",
    "\n",
    "# 显示的最大行数和列数，如果超额就显示省略号，这个指的是多少个dataFrame的列。如果比较多又不允许换行，就会显得很乱。\n",
    "# None 表示不限制列数\n",
    "pd.set_option('display.max_columns', None)"
   ]
  },
  {
   "cell_type": "code",
   "execution_count": 10,
   "metadata": {},
   "outputs": [
    {
     "data": {
      "text/html": [
       "<div>\n",
       "<style scoped>\n",
       "    .dataframe tbody tr th:only-of-type {\n",
       "        vertical-align: middle;\n",
       "    }\n",
       "\n",
       "    .dataframe tbody tr th {\n",
       "        vertical-align: top;\n",
       "    }\n",
       "\n",
       "    .dataframe thead th {\n",
       "        text-align: right;\n",
       "    }\n",
       "</style>\n",
       "<table border=\"1\" class=\"dataframe\">\n",
       "  <thead>\n",
       "    <tr style=\"text-align: right;\">\n",
       "      <th></th>\n",
       "      <th>income</th>\n",
       "      <th>attractive</th>\n",
       "      <th>assets</th>\n",
       "      <th>edueduclass</th>\n",
       "      <th>Dated</th>\n",
       "      <th>income_rank</th>\n",
       "      <th>attractive_rank</th>\n",
       "      <th>assets_rank</th>\n",
       "    </tr>\n",
       "  </thead>\n",
       "  <tbody>\n",
       "    <tr>\n",
       "      <th>count</th>\n",
       "      <td>100.000000</td>\n",
       "      <td>100.000000</td>\n",
       "      <td>100.000000</td>\n",
       "      <td>100.000000</td>\n",
       "      <td>100.000000</td>\n",
       "      <td>100.000000</td>\n",
       "      <td>100.000000</td>\n",
       "      <td>100.000000</td>\n",
       "    </tr>\n",
       "    <tr>\n",
       "      <th>mean</th>\n",
       "      <td>9010.000000</td>\n",
       "      <td>50.500000</td>\n",
       "      <td>96.006300</td>\n",
       "      <td>3.710000</td>\n",
       "      <td>0.500000</td>\n",
       "      <td>1.550000</td>\n",
       "      <td>1.560000</td>\n",
       "      <td>1.510000</td>\n",
       "    </tr>\n",
       "    <tr>\n",
       "      <th>std</th>\n",
       "      <td>5832.675288</td>\n",
       "      <td>28.810948</td>\n",
       "      <td>91.082226</td>\n",
       "      <td>1.225116</td>\n",
       "      <td>0.502519</td>\n",
       "      <td>1.140397</td>\n",
       "      <td>1.103896</td>\n",
       "      <td>1.123621</td>\n",
       "    </tr>\n",
       "    <tr>\n",
       "      <th>min</th>\n",
       "      <td>3000.000000</td>\n",
       "      <td>1.000000</td>\n",
       "      <td>3.728400</td>\n",
       "      <td>1.000000</td>\n",
       "      <td>0.000000</td>\n",
       "      <td>0.000000</td>\n",
       "      <td>0.000000</td>\n",
       "      <td>0.000000</td>\n",
       "    </tr>\n",
       "    <tr>\n",
       "      <th>25%</th>\n",
       "      <td>5000.000000</td>\n",
       "      <td>28.000000</td>\n",
       "      <td>31.665269</td>\n",
       "      <td>3.000000</td>\n",
       "      <td>0.000000</td>\n",
       "      <td>1.000000</td>\n",
       "      <td>1.000000</td>\n",
       "      <td>0.750000</td>\n",
       "    </tr>\n",
       "    <tr>\n",
       "      <th>50%</th>\n",
       "      <td>7500.000000</td>\n",
       "      <td>51.000000</td>\n",
       "      <td>70.746924</td>\n",
       "      <td>4.000000</td>\n",
       "      <td>0.500000</td>\n",
       "      <td>2.000000</td>\n",
       "      <td>2.000000</td>\n",
       "      <td>2.000000</td>\n",
       "    </tr>\n",
       "    <tr>\n",
       "      <th>75%</th>\n",
       "      <td>11500.000000</td>\n",
       "      <td>68.875000</td>\n",
       "      <td>131.481061</td>\n",
       "      <td>4.000000</td>\n",
       "      <td>1.000000</td>\n",
       "      <td>3.000000</td>\n",
       "      <td>2.250000</td>\n",
       "      <td>2.250000</td>\n",
       "    </tr>\n",
       "    <tr>\n",
       "      <th>max</th>\n",
       "      <td>34000.000000</td>\n",
       "      <td>99.500000</td>\n",
       "      <td>486.311758</td>\n",
       "      <td>6.000000</td>\n",
       "      <td>1.000000</td>\n",
       "      <td>3.000000</td>\n",
       "      <td>3.000000</td>\n",
       "      <td>3.000000</td>\n",
       "    </tr>\n",
       "  </tbody>\n",
       "</table>\n",
       "</div>"
      ],
      "text/plain": [
       "             income  attractive      assets  edueduclass       Dated  \\\n",
       "count    100.000000  100.000000  100.000000   100.000000  100.000000   \n",
       "mean    9010.000000   50.500000   96.006300     3.710000    0.500000   \n",
       "std     5832.675288   28.810948   91.082226     1.225116    0.502519   \n",
       "min     3000.000000    1.000000    3.728400     1.000000    0.000000   \n",
       "25%     5000.000000   28.000000   31.665269     3.000000    0.000000   \n",
       "50%     7500.000000   51.000000   70.746924     4.000000    0.500000   \n",
       "75%    11500.000000   68.875000  131.481061     4.000000    1.000000   \n",
       "max    34000.000000   99.500000  486.311758     6.000000    1.000000   \n",
       "\n",
       "       income_rank  attractive_rank  assets_rank  \n",
       "count   100.000000       100.000000   100.000000  \n",
       "mean      1.550000         1.560000     1.510000  \n",
       "std       1.140397         1.103896     1.123621  \n",
       "min       0.000000         0.000000     0.000000  \n",
       "25%       1.000000         1.000000     0.750000  \n",
       "50%       2.000000         2.000000     2.000000  \n",
       "75%       3.000000         2.250000     2.250000  \n",
       "max       3.000000         3.000000     3.000000  "
      ]
     },
     "execution_count": 10,
     "metadata": {},
     "output_type": "execute_result"
    }
   ],
   "source": [
    "# 加载数据集\n",
    "orgData = pd.read_csv('data/date_data2.csv')\n",
    "orgData.describe()"
   ]
  },
  {
   "cell_type": "code",
   "execution_count": null,
   "metadata": {},
   "outputs": [],
   "source": []
  },
  {
   "cell_type": "code",
   "execution_count": 12,
   "metadata": {},
   "outputs": [
    {
     "data": {
      "text/plain": [
       "(100, 4)"
      ]
     },
     "execution_count": 12,
     "metadata": {},
     "output_type": "execute_result"
    }
   ],
   "source": [
    "# 选取自变量\n",
    "X = orgData.iloc[:, :4]\n",
    "y = orgData[['Dated']]\n",
    "X.head()\n",
    "X.shape"
   ]
  },
  {
   "cell_type": "code",
   "execution_count": 17,
   "metadata": {},
   "outputs": [
    {
     "name": "stderr",
     "output_type": "stream",
     "text": [
      "/anaconda3/lib/python3.7/site-packages/sklearn/preprocessing/data.py:334: DataConversionWarning: Data with input dtype int64, float64 were all converted to float64 by MinMaxScaler.\n",
      "  return self.partial_fit(X, y)\n"
     ]
    },
    {
     "data": {
      "text/plain": [
       "array([[0.        , 0.08121827, 0.00293644, 0.        ],\n",
       "       [0.        , 0.13705584, 0.07649535, 0.6       ],\n",
       "       [0.        , 0.05076142, 0.00293644, 0.        ],\n",
       "       [0.        , 0.        , 0.00691908, 0.        ]])"
      ]
     },
     "execution_count": 17,
     "metadata": {},
     "output_type": "execute_result"
    }
   ],
   "source": [
    "# 极值标准化\n",
    "from sklearn import preprocessing\n",
    "\n",
    "min_max_scaler = preprocessing.MinMaxScaler()\n",
    "X_scaled = min_max_scaler.fit_transform(X)\n",
    "X_scaled[0:4]# 看一下标准化后的结果"
   ]
  },
  {
   "cell_type": "code",
   "execution_count": 18,
   "metadata": {},
   "outputs": [
    {
     "name": "stderr",
     "output_type": "stream",
     "text": [
      "/anaconda3/lib/python3.7/site-packages/sklearn/model_selection/_split.py:2179: FutureWarning: From version 0.21, test_size will always complement train_size unless both are specified.\n",
      "  FutureWarning)\n"
     ]
    }
   ],
   "source": [
    "# 划分训练集和测试集\n",
    "train_data, test_data, train_target, test_target = cross_validation.train_test_split(\n",
    "    X_scaled, y, train_size=0.8, random_state=123)   #划分训练集和测试集"
   ]
  },
  {
   "cell_type": "code",
   "execution_count": 19,
   "metadata": {},
   "outputs": [],
   "source": [
    "# 建模\n",
    "from sklearn.neighbors import KNeighborsClassifier\n",
    "model = KNeighborsClassifier(n_neighbors=3)  # 默认欧氏距离\n",
    "model.fit(train_data, train_target.values.flatten())\n",
    "test_est = model.predict(test_data)"
   ]
  },
  {
   "cell_type": "code",
   "execution_count": 25,
   "metadata": {},
   "outputs": [
    {
     "name": "stdout",
     "output_type": "stream",
     "text": [
      "[[ 8  1]\n",
      " [ 1 10]]\n",
      "              precision    recall  f1-score   support\n",
      "\n",
      "           0       0.89      0.89      0.89         9\n",
      "           1       0.91      0.91      0.91        11\n",
      "\n",
      "   micro avg       0.90      0.90      0.90        20\n",
      "   macro avg       0.90      0.90      0.90        20\n",
      "weighted avg       0.90      0.90      0.90        20\n",
      "\n"
     ]
    }
   ],
   "source": [
    "# 验证\n",
    "import sklearn.metrics as metrics\n",
    "\n",
    "print(metrics.confusion_matrix(test_target, test_est, labels=[0, 1]))  # 混淆矩阵\n",
    "print(metrics.classification_report(test_target, test_est))"
   ]
  },
  {
   "cell_type": "code",
   "execution_count": 21,
   "metadata": {},
   "outputs": [
    {
     "data": {
      "text/plain": [
       "0.9"
      ]
     },
     "execution_count": 21,
     "metadata": {},
     "output_type": "execute_result"
    }
   ],
   "source": [
    "# 评分\n",
    "model.score(test_data, test_target)"
   ]
  },
  {
   "cell_type": "code",
   "execution_count": 29,
   "metadata": {},
   "outputs": [
    {
     "name": "stdout",
     "output_type": "stream",
     "text": [
      "1 \t 0.9\n",
      "2 \t 0.85\n",
      "3 \t 0.9\n",
      "4 \t 0.9\n",
      "5 \t 0.9\n",
      "6 \t 0.85\n",
      "7 \t 0.9\n",
      "8 \t 0.85\n",
      "9 \t 0.9\n",
      "10 \t 0.85\n",
      "11 \t 0.9\n",
      "12 \t 0.95\n",
      "13 \t 1.0\n",
      "14 \t 1.0\n",
      "15 \t 1.0\n",
      "16 \t 1.0\n",
      "17 \t 1.0\n",
      "18 \t 1.0\n",
      "19 \t 1.0\n",
      "20 \t 0.95\n",
      "21 \t 0.95\n",
      "22 \t 0.85\n",
      "23 \t 0.85\n",
      "24 \t 0.85\n"
     ]
    }
   ],
   "source": [
    "#选择k值\n",
    "for k in range(1, 25):\n",
    "    k_model = KNeighborsClassifier(n_neighbors=k)\n",
    "    k_model.fit(train_data, train_target.values.flatten())\n",
    "    score = k_model.score(test_data, test_target)\n",
    "#     print(metrics.confusion_matrix(test_target, test_est, labels=[0, 1]))  # 混淆矩阵\n",
    "#     print(metrics.classification_report(test_target, test_est))\n",
    "    print(k, '\\t', score)"
   ]
  },
  {
   "cell_type": "code",
   "execution_count": 31,
   "metadata": {},
   "outputs": [
    {
     "name": "stderr",
     "output_type": "stream",
     "text": [
      "/anaconda3/lib/python3.7/site-packages/sklearn/model_selection/_search.py:841: DeprecationWarning: The default of the `iid` parameter will change from True to False in version 0.22 and will be removed in 0.24. This will change numeric results when test-set sizes are unequal.\n",
      "  DeprecationWarning)\n"
     ]
    },
    {
     "data": {
      "text/plain": [
       "GridSearchCV(cv=KFold(n_splits=3, random_state=None, shuffle=False),\n",
       "       error_score='raise-deprecating',\n",
       "       estimator=KNeighborsClassifier(algorithm='auto', leaf_size=30, metric='minkowski',\n",
       "           metric_params=None, n_jobs=None, n_neighbors=5, p=2,\n",
       "           weights='uniform'),\n",
       "       fit_params=None, iid='warn', n_jobs=None,\n",
       "       param_grid=<sklearn.model_selection._search.ParameterGrid object at 0x1a1c30a7f0>,\n",
       "       pre_dispatch='2*n_jobs', refit=True, return_train_score='warn',\n",
       "       scoring=None, verbose=0)"
      ]
     },
     "execution_count": 31,
     "metadata": {},
     "output_type": "execute_result"
    }
   ],
   "source": [
    "#交叉验证 选择k值\n",
    "from sklearn.model_selection import ParameterGrid\n",
    "from sklearn.model_selection import GridSearchCV \n",
    "from sklearn.model_selection import KFold\n",
    "\n",
    "n_samples = len(train_data)\n",
    "kf = KFold(n_splits=3)\n",
    "\n",
    "grid = ParameterGrid({'n_neighbors':[np.arange(1,15)]})\n",
    "estimator = KNeighborsClassifier()\n",
    "\n",
    "gridSearchCV = GridSearchCV(estimator, grid, cv=kf)\n",
    "\n",
    "gridSearchCV.fit(train_data, train_target.values.flatten())\n",
    "\n",
    "# gridSearchCV.grid_scores_"
   ]
  },
  {
   "cell_type": "code",
   "execution_count": 33,
   "metadata": {},
   "outputs": [
    {
     "data": {
      "text/plain": [
       "{'n_neighbors': 7}"
      ]
     },
     "execution_count": 33,
     "metadata": {},
     "output_type": "execute_result"
    }
   ],
   "source": [
    "gridSearchCV.best_params_ #分类问题 最优模型选择F指标最好的。"
   ]
  },
  {
   "cell_type": "code",
   "execution_count": 34,
   "metadata": {},
   "outputs": [
    {
     "data": {
      "text/plain": [
       "0.9"
      ]
     },
     "execution_count": 34,
     "metadata": {},
     "output_type": "execute_result"
    }
   ],
   "source": [
    "best = gridSearchCV.best_estimator_ \n",
    "best.score(test_data, test_target)"
   ]
  },
  {
   "cell_type": "code",
   "execution_count": null,
   "metadata": {},
   "outputs": [],
   "source": []
  }
 ],
 "metadata": {
  "kernelspec": {
   "display_name": "Python 3",
   "language": "python",
   "name": "python3"
  },
  "language_info": {
   "codemirror_mode": {
    "name": "ipython",
    "version": 3
   },
   "file_extension": ".py",
   "mimetype": "text/x-python",
   "name": "python",
   "nbconvert_exporter": "python",
   "pygments_lexer": "ipython3",
   "version": "3.7.3"
  }
 },
 "nbformat": 4,
 "nbformat_minor": 2
}
