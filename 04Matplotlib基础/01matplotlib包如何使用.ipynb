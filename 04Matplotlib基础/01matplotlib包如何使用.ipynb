{
 "cells": [
  {
   "cell_type": "markdown",
   "metadata": {},
   "source": [
    "## 数据可视化教程"
   ]
  },
  {
   "cell_type": "markdown",
   "metadata": {},
   "source": [
    "pyplot官网教程https://matplotlib.org/users/pyplot_tutorial.html\n",
    "\n",
    "需要先在conda中安装matplotlib包，命令：\n",
    "conda install matplotlib\n",
    "\n",
    "如果还不会使用conda，可以参考《conda使用文档》：https://www.zhihu.com/question/58033789/answer/254673663"
   ]
  },
  {
   "cell_type": "code",
   "execution_count": 1,
   "metadata": {},
   "outputs": [
    {
     "name": "stdout",
     "output_type": "stream",
     "text": [
      "Requirement already satisfied: matplotlib in /anaconda3/lib/python3.7/site-packages (3.0.3)\n",
      "Requirement already satisfied: numpy>=1.10.0 in /anaconda3/lib/python3.7/site-packages (from matplotlib) (1.14.6)\n",
      "Requirement already satisfied: cycler>=0.10 in /anaconda3/lib/python3.7/site-packages (from matplotlib) (0.10.0)\n",
      "Requirement already satisfied: kiwisolver>=1.0.1 in /anaconda3/lib/python3.7/site-packages (from matplotlib) (1.0.1)\n",
      "Requirement already satisfied: pyparsing!=2.0.4,!=2.1.2,!=2.1.6,>=2.0.1 in /anaconda3/lib/python3.7/site-packages (from matplotlib) (2.3.1)\n",
      "Requirement already satisfied: python-dateutil>=2.1 in /anaconda3/lib/python3.7/site-packages (from matplotlib) (2.7.5)\n",
      "Requirement already satisfied: six in /anaconda3/lib/python3.7/site-packages (from cycler>=0.10->matplotlib) (1.12.0)\n",
      "Requirement already satisfied: setuptools in /anaconda3/lib/python3.7/site-packages (from kiwisolver>=1.0.1->matplotlib) (41.0.1)\n"
     ]
    }
   ],
   "source": [
    "!pip install matplotlib"
   ]
  },
  {
   "cell_type": "code",
   "execution_count": 1,
   "metadata": {},
   "outputs": [],
   "source": [
    "#导入matplotlib的pyplot模块\n",
    "import matplotlib.pyplot as plt"
   ]
  },
  {
   "cell_type": "markdown",
   "metadata": {},
   "source": [
    "## 线条"
   ]
  },
  {
   "cell_type": "code",
   "execution_count": 2,
   "metadata": {},
   "outputs": [
    {
     "data": {
      "image/png": "[encoded data removed]",
      "text/plain": [
       "<Figure size 432x288 with 1 Axes>"
      ]
     },
     "metadata": {
      "needs_background": "light"
     },
     "output_type": "display_data"
    }
   ],
   "source": [
    "'''\n",
    "第1步：定义x和y坐标轴上的点\n",
    "'''\n",
    "#x坐标轴上点的数值\n",
    "x=[1, 2, 3, 4]\n",
    "#y坐标轴上点的数值\n",
    "y=[1, 4, 9, 16]\n",
    "\n",
    "'''\n",
    "第2步：使用plot绘制线条\n",
    "第1个参数是x的坐标值，第2个参数是y的坐标值\n",
    "'''\n",
    "plt.plot(x,y)\n",
    "\n",
    "'''\n",
    "第3步：显示图形\n",
    "'''\n",
    "plt.show()"
   ]
  },
  {
   "cell_type": "markdown",
   "metadata": {},
   "source": [
    "设置线条属性,文档：https://matplotlib.org/api/_as_gen/matplotlib.lines.Line2D.html#matplotlib.lines.Line2D"
   ]
  },
  {
   "cell_type": "code",
   "execution_count": 3,
   "metadata": {},
   "outputs": [
    {
     "data": {
      "image/png": "[encoded data removed]",
      "text/plain": [
       "<Figure size 432x288 with 1 Axes>"
      ]
     },
     "metadata": {
      "needs_background": "light"
     },
     "output_type": "display_data"
    }
   ],
   "source": [
    "'''\n",
    "color：线条颜色，值r表示红色（red）\n",
    "marker：点的形状，值o表示点为圆圈标记（circle marker）\n",
    "linestyle：线条的形状，值dashed表示用虚线连接各点\n",
    "'''\n",
    "plt.plot(x, y, color='r',marker='o',linestyle='dashed')\n",
    "#plt.plot(x, y, 'ro')\n",
    "'''\n",
    "axis：坐标轴范围\n",
    "语法为axis[xmin, xmax, ymin, ymax]，\n",
    "也就是axis[x轴最小值, x轴最大值, y轴最小值, y轴最大值]\n",
    "'''\n",
    "plt.axis([0, 6, 0, 20])\n",
    "plt.show()"
   ]
  },
  {
   "cell_type": "markdown",
   "metadata": {},
   "source": [
    "如果matplotlib参入的参数只能是列表的话，这对数据处理很不利。一般，我们传入的是numpy的数组。实际上，所有参入的值内部都会转换为numpy的数组。"
   ]
  },
  {
   "cell_type": "code",
   "execution_count": 4,
   "metadata": {},
   "outputs": [
    {
     "data": {
      "text/plain": [
       "array([0. , 0.2, 0.4, 0.6, 0.8, 1. , 1.2, 1.4, 1.6, 1.8, 2. , 2.2, 2.4,\n",
       "       2.6, 2.8, 3. , 3.2, 3.4, 3.6, 3.8, 4. , 4.2, 4.4, 4.6, 4.8])"
      ]
     },
     "execution_count": 4,
     "metadata": {},
     "output_type": "execute_result"
    }
   ],
   "source": [
    "'''\n",
    "# arange用于生成一个等差数组，arange([start, ]stop, [step, ]\n",
    "使用见文档：https://docs.scipy.org/doc/numpy/reference/generated/numpy.arange.html\n",
    "'''\n",
    "import numpy as np\n",
    "t = np.arange(0, 5, 0.2)\n",
    "t"
   ]
  },
  {
   "cell_type": "code",
   "execution_count": 5,
   "metadata": {},
   "outputs": [
    {
     "data": {
      "image/png": "[encoded data removed]",
      "text/plain": [
       "<Figure size 432x288 with 1 Axes>"
      ]
     },
     "metadata": {
      "needs_background": "light"
     },
     "output_type": "display_data"
    },
    {
     "name": "stdout",
     "output_type": "stream",
     "text": [
      "返回的数据类型 <class 'list'>\n",
      "数据大小： 3\n"
     ]
    }
   ],
   "source": [
    "'''\n",
    "使用数组同时绘制多个线性\n",
    "'''\n",
    "#线条1\n",
    "x1=y1=t\n",
    "\n",
    "'''\n",
    "运算符**，表示幂 - 返回x的y次幂，例如10**20表示10的20次方\n",
    "详细见文档《Python3运算符》：http://www.runoob.com/python3/python3-basic-operators.html\n",
    "'''\n",
    "#线条2\n",
    "x2=x1\n",
    "y2=t**2\n",
    "\n",
    "#线条3\n",
    "x3=x1\n",
    "y3=t**3\n",
    "\n",
    "#使用plot绘制线条\n",
    "linesList=plt.plot(x1, y1,  \n",
    "         x2, y2,  \n",
    "         x3, y3 )\n",
    "\n",
    "#用setp方法可以同时设置多个线条的属性\n",
    "plt.setp(linesList, color='r')\n",
    "\n",
    "plt.show()\n",
    "\n",
    "print('返回的数据类型',type(linesList))\n",
    "print('数据大小：',len(linesList))"
   ]
  },
  {
   "cell_type": "markdown",
   "metadata": {},
   "source": [
    "## 在图上添加文本"
   ]
  },
  {
   "cell_type": "markdown",
   "metadata": {},
   "source": [
    "[参考文档：如何在图上添加文本](https://matplotlib.org/users/text_intro.html#text-intro)"
   ]
  },
  {
   "cell_type": "code",
   "execution_count": 6,
   "metadata": {},
   "outputs": [
    {
     "data": {
      "text/plain": [
       "'/anaconda3/lib/python3.7/site-packages/matplotlib/mpl-data/matplotlibrc'"
      ]
     },
     "execution_count": 6,
     "metadata": {},
     "output_type": "execute_result"
    }
   ],
   "source": [
    "#找到 matplotlib 加载的配置文件路径\n",
    "import matplotlib\n",
    "matplotlib.matplotlib_fname()"
   ]
  },
  {
   "cell_type": "code",
   "execution_count": 7,
   "metadata": {},
   "outputs": [
    {
     "data": {
      "image/png": "[encoded data removed]",
      "text/plain": [
       "<Figure size 432x288 with 1 Axes>"
      ]
     },
     "metadata": {
      "needs_background": "light"
     },
     "output_type": "display_data"
    }
   ],
   "source": [
    "'''\n",
    "第1步：定义x和y坐标轴上的点\n",
    "'''\n",
    "#x坐标轴上点的数值\n",
    "x=[1, 2, 3, 4]\n",
    "#y坐标轴上点的数值\n",
    "y=[1, 4, 9, 16]\n",
    "\n",
    "'''\n",
    "第2步：使用plot绘制线条\n",
    "第1个参数是x的坐标值，第2个参数是y的坐标值\n",
    "'''\n",
    "plt.plot(x,y)\n",
    "\n",
    "'''\n",
    "添加文本\n",
    "'''\n",
    "#x轴文本\n",
    "plt.xlabel('x坐标轴')\n",
    "#y轴文本\n",
    "plt.ylabel('y坐标轴')\n",
    "#标题\n",
    "plt.title('标题')\n",
    "#添加注释\n",
    "'''\n",
    "添加注释：\n",
    "参数名xy：箭头注释中箭头所在位置，\n",
    "参数名xytext：注释文本所在位置，\n",
    "arrowprops在xy和xytext之间绘制箭头,\n",
    "shrink表示注释点与注释文本之间的图标距离\n",
    "'''\n",
    "plt.annotate('我是注释', xy=(2,5), xytext=(2, 10),\n",
    "            arrowprops=dict(facecolor='black', shrink=0.01),\n",
    "            )\n",
    "'''\n",
    "第3步：显示图形\n",
    "'''\n",
    "plt.show()"
   ]
  },
  {
   "cell_type": "code",
   "execution_count": 2,
   "metadata": {},
   "outputs": [],
   "source": [
    "## 解决中文乱码"
   ]
  },
  {
   "cell_type": "markdown",
   "metadata": {},
   "source": [
    "## 多个图绘图"
   ]
  },
  {
   "cell_type": "code",
   "execution_count": 9,
   "metadata": {},
   "outputs": [
    {
     "data": {
      "image/png": "[encoded data removed]",
      "text/plain": [
       "<Figure size 432x288 with 2 Axes>"
      ]
     },
     "metadata": {
      "needs_background": "light"
     },
     "output_type": "display_data"
    }
   ],
   "source": [
    "#创建画板1\n",
    "fig = plt.figure(1) \n",
    "\n",
    "#第2步：创建画纸（子图）\n",
    "'''\n",
    "subplot()方法里面传入的三个数字\n",
    "前两个数字代表要生成几行几列的子图矩阵,第三个数字代表选中的子图位置\n",
    "subplot(211)生成一个2行1列的子图矩阵，当前是第一个子图\n",
    "'''\n",
    "#创建画纸，并选择画纸1\n",
    "#等价于ax1=fig.add_subplot(211)\n",
    "ax1=plt.subplot(2,1,1)   \n",
    "#在画纸上绘图\n",
    "plt.plot([1, 2, 3])\n",
    "#选择画纸2\n",
    "ax2=plt.subplot(2,1,2)\n",
    "#在画纸2上绘图\n",
    "plt.plot([4, 5, 6])\n",
    "\n",
    "plt.show()"
   ]
  },
  {
   "cell_type": "markdown",
   "metadata": {},
   "source": [
    "如果没有指明画板figure()和子图subplot，会默认创建一个画板figure(1) 和一个子图subplot(111)"
   ]
  },
  {
   "cell_type": "markdown",
   "metadata": {},
   "source": []
  }
 ],
 "metadata": {
  "kernelspec": {
   "display_name": "Python 3",
   "language": "python",
   "name": "python3"
  },
  "language_info": {
   "codemirror_mode": {
    "name": "ipython",
    "version": 3
   },
   "file_extension": ".py",
   "mimetype": "text/x-python",
   "name": "python",
   "nbconvert_exporter": "python",
   "pygments_lexer": "ipython3",
   "version": "3.7.3"
  }
 },
 "nbformat": 4,
 "nbformat_minor": 2
}
