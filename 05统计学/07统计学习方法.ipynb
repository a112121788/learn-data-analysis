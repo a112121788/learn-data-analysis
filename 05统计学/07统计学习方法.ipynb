{
 "cells": [
  {
   "cell_type": "markdown",
   "metadata": {},
   "source": [
    "《统计学习方法》\n",
    "https://book.douban.com/subject/10590856/\n",
    "\n",
    "详细介绍支持向量机、Boosting、最大熵、条件随机场等十个统计学习方法。"
   ]
  },
  {
   "cell_type": "markdown",
   "metadata": {},
   "source": [
    "## 目录\n",
    "第1章 统计学习方法概论\n",
    "\n",
    "第2章 感知机\n",
    "\n",
    "第3章 k近邻法\n",
    "\n",
    "第4章 朴素贝叶斯\n",
    "\n",
    "第5章 决策树\n",
    "\n",
    "第6章 逻辑斯谛回归\n",
    "\n",
    "第7章 支持向量机\n",
    "\n",
    "第8章 提升方法\n",
    "\n",
    "第9章 EM算法及其推广\n",
    "\n",
    "第10章 隐马尔可夫模型\n",
    "\n",
    "第11章 条件随机场\n",
    "\n",
    "第12章 统计学习方法总结"
   ]
  },
  {
   "cell_type": "code",
   "execution_count": null,
   "metadata": {},
   "outputs": [],
   "source": []
  }
 ],
 "metadata": {
  "kernelspec": {
   "display_name": "Python 3",
   "language": "python",
   "name": "python3"
  },
  "language_info": {
   "codemirror_mode": {
    "name": "ipython",
    "version": 3
   },
   "file_extension": ".py",
   "mimetype": "text/x-python",
   "name": "python",
   "nbconvert_exporter": "python",
   "pygments_lexer": "ipython3",
   "version": "3.7.3"
  }
 },
 "nbformat": 4,
 "nbformat_minor": 2
}
