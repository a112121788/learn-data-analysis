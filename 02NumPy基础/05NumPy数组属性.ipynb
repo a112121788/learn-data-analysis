{
 "cells": [
  {
   "cell_type": "markdown",
   "metadata": {},
   "source": [
    "- ndarray.ndim\t\n",
    "- ndarray.shape\n",
    "- ndarray.size\t\n",
    "- ndarray.dtype\n",
    "- ndarray.itemsize\t\n",
    "- ndarray.flags\n",
    "- ndarray.real\t\n",
    "- ndarray.imag\t\n",
    "- ndarray.data\t"
   ]
  },
  {
   "cell_type": "code",
   "execution_count": null,
   "metadata": {},
   "outputs": [],
   "source": []
  }
 ],
 "metadata": {
  "kernelspec": {
   "display_name": "Python 3",
   "language": "python",
   "name": "python3"
  },
  "language_info": {
   "codemirror_mode": {
    "name": "ipython",
    "version": 3
   },
   "file_extension": ".py",
   "mimetype": "text/x-python",
   "name": "python",
   "nbconvert_exporter": "python",
   "pygments_lexer": "ipython3",
   "version": "3.7.3"
  }
 },
 "nbformat": 4,
 "nbformat_minor": 2
}
