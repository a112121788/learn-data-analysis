{
 "cells": [
  {
   "cell_type": "code",
   "execution_count": 1,
   "metadata": {},
   "outputs": [
    {
     "name": "stdout",
     "output_type": "stream",
     "text": [
      "数组 a：\n",
      "[[0 1]\n",
      " [2 3]\n",
      " [4 5]]\n",
      "创建 a 的视图：\n",
      "[[0 1]\n",
      " [2 3]\n",
      " [4 5]]\n",
      "两个数组的 id() 不同：\n",
      "a 的 id()：\n",
      "4366119520\n",
      "b 的 id()：\n",
      "4366120240\n",
      "b 的形状：\n",
      "[[0 1 2]\n",
      " [3 4 5]]\n",
      "a 的形状：\n",
      "[[0 1]\n",
      " [2 3]\n",
      " [4 5]]\n"
     ]
    }
   ],
   "source": [
    "import numpy as np \n",
    " \n",
    "# 最开始 a 是个 3X2 的数组\n",
    "a = np.arange(6).reshape(3,2)  \n",
    "print ('数组 a：')\n",
    "print (a)\n",
    "print ('创建 a 的视图：')\n",
    "b = a.view()  \n",
    "print (b)\n",
    "print ('两个数组的 id() 不同：')\n",
    "print ('a 的 id()：')\n",
    "print (id(a))\n",
    "print ('b 的 id()：' )\n",
    "print (id(b))\n",
    "# 修改 b 的形状，并不会修改 a\n",
    "b.shape =  2,3\n",
    "print ('b 的形状：')\n",
    "print (b)\n",
    "print ('a 的形状：')\n",
    "print (a)"
   ]
  },
  {
   "cell_type": "code",
   "execution_count": null,
   "metadata": {},
   "outputs": [],
   "source": []
  }
 ],
 "metadata": {
  "kernelspec": {
   "display_name": "Python 3",
   "language": "python",
   "name": "python3"
  },
  "language_info": {
   "codemirror_mode": {
    "name": "ipython",
    "version": 3
   },
   "file_extension": ".py",
   "mimetype": "text/x-python",
   "name": "python",
   "nbconvert_exporter": "python",
   "pygments_lexer": "ipython3",
   "version": "3.7.3"
  }
 },
 "nbformat": 4,
 "nbformat_minor": 2
}
