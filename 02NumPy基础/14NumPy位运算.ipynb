{
 "cells": [
  {
   "cell_type": "markdown",
   "metadata": {},
   "source": [
    "- bitwise_and\t对数组元素执行位与操作\n",
    "- bitwise_or\t对数组元素执行位或操作\n",
    "- invert\t按位取反\n",
    "- left_shift\t向左移动二进制表示的位\n",
    "- right_shift\t向右移动二进制表示的位"
   ]
  },
  {
   "cell_type": "code",
   "execution_count": 1,
   "metadata": {},
   "outputs": [
    {
     "name": "stdout",
     "output_type": "stream",
     "text": [
      "13 和 17 的二进制形式：\n",
      "0b1101 0b10001\n",
      "\n",
      "\n",
      "13 和 17 的位与：\n",
      "1\n"
     ]
    }
   ],
   "source": [
    "import numpy as np \n",
    " \n",
    "print ('13 和 17 的二进制形式：')\n",
    "a,b = 13,17\n",
    "print (bin(a), bin(b))\n",
    "print ('\\n')\n",
    " \n",
    "print ('13 和 17 的位与：')\n",
    "print (np.bitwise_and(13, 17))"
   ]
  },
  {
   "cell_type": "code",
   "execution_count": null,
   "metadata": {},
   "outputs": [],
   "source": []
  }
 ],
 "metadata": {
  "kernelspec": {
   "display_name": "Python 3",
   "language": "python",
   "name": "python3"
  },
  "language_info": {
   "codemirror_mode": {
    "name": "ipython",
    "version": 3
   },
   "file_extension": ".py",
   "mimetype": "text/x-python",
   "name": "python",
   "nbconvert_exporter": "python",
   "pygments_lexer": "ipython3",
   "version": "3.7.3"
  }
 },
 "nbformat": 4,
 "nbformat_minor": 2
}
