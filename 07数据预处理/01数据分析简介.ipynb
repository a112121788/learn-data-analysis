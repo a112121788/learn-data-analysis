{
 "cells": [
  {
   "cell_type": "markdown",
   "metadata": {},
   "source": [
    "## 什么是数据分析"
   ]
  },
  {
   "cell_type": "markdown",
   "metadata": {},
   "source": [
    "数据分析，也称为数据分析或数据分析，是一个检查、清理、转换和建模数据的过程，目的是发现有用的信息、提出结论并支持决策。\n",
    "<hr>"
   ]
  },
  {
   "cell_type": "markdown",
   "metadata": {},
   "source": [
    "## 数据分析的流程是什么"
   ]
  },
  {
   "cell_type": "markdown",
   "metadata": {},
   "source": [
    "    1.数据清理\n",
    "    2.数据集成\n",
    "    3.数据选择\n",
    "    4.数据变换\n",
    "    5.数据挖掘\n",
    "    6.模式评估\n",
    "    7.知识表示\n",
    "<hr>"
   ]
  },
  {
   "cell_type": "markdown",
   "metadata": {},
   "source": [
    "## 数据分析师是做什么的"
   ]
  },
  {
   "cell_type": "markdown",
   "metadata": {},
   "source": [
    "数据分析师 是数据师的一种，指的是不同行业中，专门从事行业数据搜集、整理、分析，并依据数据做出行业研究、评估和预测的专业人员。\n",
    "--百度百科\n",
    "<hr>"
   ]
  },
  {
   "cell_type": "markdown",
   "metadata": {},
   "source": [
    "## 什么是数据思维"
   ]
  },
  {
   "cell_type": "markdown",
   "metadata": {},
   "source": [
    "把一些业务现状数据化的方法，有判断业务数据现状的逻辑，有基于判断结果反应的逻辑。\n",
    "<hr>"
   ]
  },
  {
   "cell_type": "markdown",
   "metadata": {},
   "source": [
    "## 数据分析师的前景"
   ]
  },
  {
   "cell_type": "markdown",
   "metadata": {},
   "source": [
    "多看看招聘网站\n",
    "<hr>"
   ]
  },
  {
   "cell_type": "markdown",
   "metadata": {},
   "source": [
    "## 数据分析师能否速成"
   ]
  },
  {
   "cell_type": "markdown",
   "metadata": {},
   "source": [
    "不能\n",
    "<hr>"
   ]
  },
  {
   "cell_type": "markdown",
   "metadata": {},
   "source": [
    "## 数据分析要学习那些东西"
   ]
  },
  {
   "cell_type": "markdown",
   "metadata": {},
   "source": [
    "1. 统计模型\n",
    "2. 数据挖掘模型\n",
    "3. 优化算法\n",
    "4. 统计\n",
    "5. 代数\n",
    "6. 微积分\n",
    "<hr>"
   ]
  },
  {
   "cell_type": "markdown",
   "metadata": {},
   "source": [
    "## 数据分析是否需要英语能力"
   ]
  },
  {
   "cell_type": "markdown",
   "metadata": {},
   "source": [
    "需要一些\n",
    "<hr>"
   ]
  },
  {
   "cell_type": "markdown",
   "metadata": {},
   "source": [
    "## 数据分析是否需要学习理论知识"
   ]
  },
  {
   "cell_type": "markdown",
   "metadata": {},
   "source": [
    "需要\n",
    "<hr>"
   ]
  },
  {
   "cell_type": "markdown",
   "metadata": {},
   "source": [
    "## 常用软件"
   ]
  },
  {
   "cell_type": "markdown",
   "metadata": {},
   "source": [
    "    1.SPSS\n",
    "    2.SAS\n",
    "    3.R\n",
    "    4.Python\n",
    "<hr>"
   ]
  },
  {
   "cell_type": "markdown",
   "metadata": {},
   "source": [
    "## 推荐资源网站"
   ]
  },
  {
   "cell_type": "markdown",
   "metadata": {},
   "source": [
    "    • https://www.zhihu.com/ 知乎\n",
    "    • http://bbs.pinggu.org/ 经管之家\n",
    "    • https://cosx.org/ 统计之都\n",
    "    • https://stackoverflow.com/\n",
    "    • https://github.com/"
   ]
  }
 ],
 "metadata": {
  "kernelspec": {
   "display_name": "Python 3",
   "language": "python",
   "name": "python3"
  },
  "language_info": {
   "codemirror_mode": {
    "name": "ipython",
    "version": 3
   },
   "file_extension": ".py",
   "mimetype": "text/x-python",
   "name": "python",
   "nbconvert_exporter": "python",
   "pygments_lexer": "ipython3",
   "version": "3.7.3"
  }
 },
 "nbformat": 4,
 "nbformat_minor": 2
}
