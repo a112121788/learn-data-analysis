{
 "cells": [
  {
   "cell_type": "markdown",
   "metadata": {},
   "source": [
    "## 参考下面的链接教程\n",
    "https://www.jianshu.com/p/731610dca805"
   ]
  },
  {
   "cell_type": "code",
   "execution_count": null,
   "metadata": {
    "ExecuteTime": {
     "end_time": "2019-06-10T05:02:02.133041Z",
     "start_time": "2019-06-10T05:02:02.093510Z"
    }
   },
   "outputs": [],
   "source": [
    "from sklearn import datasets\n",
    "iris = datasets.load_iris()\n",
    "x = iris.data\n",
    "t = iris.target\n",
    "from sklearn.model_selection import train_test_split\n",
    "X_train, X_test, y_train, y_test = train_test_split(x, t, test_size=0.3, random_state=42)\n",
    "\n",
    "# PCA（主成分分析）\n",
    "import sklearn.decomposition as sk_decomposition\n",
    "pca = sk_decomposition.PCA(n_components='mle',whiten=False,svd_solver='auto')\n",
    "pca.fit(X_train)\n",
    "reduced_X = pca.transform(X_train) #reduced_X为降维后的数据\n",
    "print('PCA:')\n",
    "print ('降维后的各主成分的方差值占总方差值的比例',pca.explained_variance_ratio_)\n",
    "print ('降维后的各主成分的方差值',pca.explained_variance_)\n",
    "print ('降维后的特征数',pca.n_components_)\n"
   ]
  },
  {
   "cell_type": "code",
   "execution_count": null,
   "metadata": {
    "ExecuteTime": {
     "end_time": "2019-06-10T05:03:09.209019Z",
     "start_time": "2019-06-10T05:03:09.194555Z"
    }
   },
   "outputs": [],
   "source": [
    "\n",
    "import sklearn.discriminant_analysis as sk_discriminant_analysis\n",
    "lda = sk_discriminant_analysis.LinearDiscriminantAnalysis(n_components=2)\n",
    "lda.fit(X_train,y_train)\n",
    "reduced_X = lda.transform(X_train) #reduced_X为降维后的数据\n",
    "print('LDA:')\n",
    "print ('LDA的数据中心点:',lda.means_) #中心点\n",
    "print ('LDA做分类时的正确率:',lda.score(X_test, y_test)) #score是指分类的正确率\n",
    "print ('LDA降维后特征空间的类中心:',lda.scalings_) #降维后特征空间的类中心"
   ]
  },
  {
   "cell_type": "code",
   "execution_count": null,
   "metadata": {
    "ExecuteTime": {
     "end_time": "2019-06-10T05:03:33.922348Z",
     "start_time": "2019-06-10T05:03:33.919876Z"
    }
   },
   "outputs": [],
   "source": [
    "# 拟合模型\n",
    "# model.fit(X_train, y_train)\n",
    "# 模型预测\n",
    "# model.predict(X_test)\n",
    "# 获得这个模型的参数\n",
    "# model.get_params()\n",
    "# 为模型进行打分\n",
    "# model.score(data_X, data_y) # 回归问题：以R2参数为标准 分类问题：以准确率为标准"
   ]
  },
  {
   "cell_type": "code",
   "execution_count": null,
   "metadata": {
    "ExecuteTime": {
     "end_time": "2019-06-10T05:03:42.420274Z",
     "start_time": "2019-06-10T05:03:42.408124Z"
    }
   },
   "outputs": [],
   "source": [
    "import sklearn.linear_model as sk_linear\n",
    "model = sk_linear.LinearRegression(fit_intercept=True,normalize=False,copy_X=True,n_jobs=1)\n",
    "model.fit(X_train,y_train)\n",
    "acc=model.score(X_test,y_test) #返回预测的确定系数R2\n",
    "print('线性回归:')\n",
    "print('截距:',model.intercept_) #输出截距\n",
    "print('系数:',model.coef_) #输出系数\n",
    "print('线性回归模型评价:',acc)"
   ]
  },
  {
   "cell_type": "code",
   "execution_count": null,
   "metadata": {
    "ExecuteTime": {
     "end_time": "2019-06-10T05:03:53.188736Z",
     "start_time": "2019-06-10T05:03:53.176484Z"
    }
   },
   "outputs": [],
   "source": [
    "import sklearn.linear_model as sk_linear\n",
    "model = sk_linear.LogisticRegression(penalty='l2',dual=False,C=1.0,n_jobs=1,random_state=20,fit_intercept=True)\n",
    "model.fit(X_train,y_train) #对模型进行训练\n",
    "acc=model.score(X_test,y_test) #根据给定数据与标签返回正确率的均值\n",
    "print('逻辑回归模型评价:',acc)"
   ]
  },
  {
   "cell_type": "code",
   "execution_count": null,
   "metadata": {
    "ExecuteTime": {
     "end_time": "2019-06-10T05:04:18.611648Z",
     "start_time": "2019-06-10T05:04:18.604050Z"
    }
   },
   "outputs": [],
   "source": [
    "import sklearn.naive_bayes as sk_bayes\n",
    "model = sk_bayes.MultinomialNB(alpha=1.0,fit_prior=True,class_prior=None) #多项式分布的朴素贝叶斯\n",
    "model = sk_bayes.BernoulliNB(alpha=1.0,binarize=0.0,fit_prior=True,class_prior=None) #伯努利分布的朴素贝叶斯\n",
    "model = sk_bayes.GaussianNB()#高斯分布的朴素贝叶斯\n",
    "model.fit(X_train,y_train)\n",
    "acc=model.score(X_test,y_test) #根据给定数据与标签返回正确率的均值\n",
    "print('朴素贝叶斯(高斯分布)模型评价:',acc)"
   ]
  },
  {
   "cell_type": "code",
   "execution_count": null,
   "metadata": {
    "ExecuteTime": {
     "end_time": "2019-06-10T05:04:26.973498Z",
     "start_time": "2019-06-10T05:04:26.959608Z"
    }
   },
   "outputs": [],
   "source": [
    "import sklearn.tree as sk_tree\n",
    "model = sk_tree.DecisionTreeClassifier(criterion='entropy',max_depth=None,min_samples_split=2,min_samples_leaf=1,max_features=None,max_leaf_nodes=None,min_impurity_decrease=0)\n",
    "model.fit(X_train,y_train)\n",
    "acc=model.score(X_test,y_test) #根据给定数据与标签返回正确率的均值\n",
    "print('决策树模型评价:',acc)"
   ]
  },
  {
   "cell_type": "code",
   "execution_count": null,
   "metadata": {
    "ExecuteTime": {
     "end_time": "2019-06-10T05:04:34.218435Z",
     "start_time": "2019-06-10T05:04:34.209379Z"
    }
   },
   "outputs": [],
   "source": [
    "import sklearn.svm as sk_svm\n",
    "model = sk_svm.SVC(C=1.0,kernel='rbf',gamma='auto')\n",
    "model.fit(X_train,y_train)\n",
    "acc=model.score(X_test,y_test) #根据给定数据与标签返回正确率的均值\n",
    "print('SVM模型评价:',acc)"
   ]
  },
  {
   "cell_type": "code",
   "execution_count": null,
   "metadata": {
    "ExecuteTime": {
     "end_time": "2019-06-10T05:04:43.557303Z",
     "start_time": "2019-06-10T05:04:43.413937Z"
    }
   },
   "outputs": [],
   "source": [
    "import sklearn.neural_network as sk_nn\n",
    "model = sk_nn.MLPClassifier(activation='tanh',solver='adam',alpha=0.0001,learning_rate='adaptive',learning_rate_init=0.001,max_iter=200)\n",
    "model.fit(X_train,y_train)\n",
    "acc=model.score(X_test,y_test) #根据给定数据与标签返回正确率的均值\n",
    "print('神经网络模型评价:',acc)"
   ]
  },
  {
   "cell_type": "code",
   "execution_count": null,
   "metadata": {
    "ExecuteTime": {
     "end_time": "2019-06-10T05:04:51.606301Z",
     "start_time": "2019-06-10T05:04:51.592920Z"
    }
   },
   "outputs": [],
   "source": [
    "import sklearn.neighbors as sk_neighbors\n",
    "#KNN分类\n",
    "model = sk_neighbors.KNeighborsClassifier(n_neighbors=5,n_jobs=1) \n",
    "model.fit(X_train,y_train)\n",
    "acc=model.score(X_test,y_test) #根据给定数据与标签返回正确率的均值\n",
    "print('KNN模型(分类)评价:',acc)\n",
    "\n",
    "#KNN回归\n",
    "model = sk_neighbors.KNeighborsRegressor(n_neighbors=5,n_jobs=1) \n",
    "model.fit(X_train,y_train)\n",
    "acc=model.score(X_test,y_test) #返回预测的确定系数R2\n",
    "print('KNN模型(回归)评价:',acc)"
   ]
  },
  {
   "cell_type": "code",
   "execution_count": null,
   "metadata": {
    "ExecuteTime": {
     "end_time": "2019-06-10T05:05:16.740402Z",
     "start_time": "2019-06-10T05:05:16.718327Z"
    }
   },
   "outputs": [],
   "source": [
    "model = sk_neighbors.KNeighborsClassifier(n_neighbors=5,n_jobs=1) #KNN分类\n",
    "import sklearn.model_selection as sk_model_selection\n",
    "accs=sk_model_selection.cross_val_score(model, X_train, y=y_train, scoring=None,cv=10, n_jobs=1)\n",
    "print('交叉验证结果:',accs)"
   ]
  },
  {
   "cell_type": "code",
   "execution_count": null,
   "metadata": {
    "ExecuteTime": {
     "end_time": "2019-06-10T05:05:27.842437Z",
     "start_time": "2019-06-10T05:05:27.836645Z"
    }
   },
   "outputs": [],
   "source": [
    "import sklearn.externals as sk_externals\n",
    "sk_externals.joblib.dump(model,'model.pickle') #保存\n",
    "model = sk_externals.joblib.load('model.pickle') #载入"
   ]
  },
  {
   "cell_type": "code",
   "execution_count": null,
   "metadata": {},
   "outputs": [],
   "source": []
  }
 ],
 "metadata": {
  "kernelspec": {
   "display_name": "Python 3",
   "language": "python",
   "name": "python3"
  },
  "language_info": {
   "codemirror_mode": {
    "name": "ipython",
    "version": 3
   },
   "file_extension": ".py",
   "mimetype": "text/x-python",
   "name": "python",
   "nbconvert_exporter": "python",
   "pygments_lexer": "ipython3",
   "version": "3.7.3"
  }
 },
 "nbformat": 4,
 "nbformat_minor": 2
}
