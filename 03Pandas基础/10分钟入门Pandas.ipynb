{
 "cells": [
  {
   "cell_type": "markdown",
   "metadata": {},
   "source": [
    "# 教程链接\n",
    "https://www.pypandas.cn/document/10min.html"
   ]
  },
  {
   "cell_type": "code",
   "execution_count": 1,
   "metadata": {
    "ExecuteTime": {
     "end_time": "2019-06-07T08:52:00.564388Z",
     "start_time": "2019-06-07T08:52:00.561515Z"
    }
   },
   "outputs": [],
   "source": [
    "import numpy as np\n",
    "import pandas as pd\n",
    "import matplotlib.pyplot as plt"
   ]
  },
  {
   "cell_type": "code",
   "execution_count": 2,
   "metadata": {
    "ExecuteTime": {
     "end_time": "2019-06-07T08:49:43.284400Z",
     "start_time": "2019-06-07T08:49:43.280839Z"
    }
   },
   "outputs": [],
   "source": [
    "s = pd.Series([1,3,5,np.nan,6,8])"
   ]
  },
  {
   "cell_type": "code",
   "execution_count": 3,
   "metadata": {
    "ExecuteTime": {
     "end_time": "2019-06-07T08:49:44.038863Z",
     "start_time": "2019-06-07T08:49:44.032431Z"
    }
   },
   "outputs": [
    {
     "data": {
      "text/plain": [
       "0    1.0\n",
       "1    3.0\n",
       "2    5.0\n",
       "3    NaN\n",
       "4    6.0\n",
       "5    8.0\n",
       "dtype: float64"
      ]
     },
     "execution_count": 3,
     "metadata": {},
     "output_type": "execute_result"
    }
   ],
   "source": [
    "s"
   ]
  },
  {
   "cell_type": "code",
   "execution_count": 4,
   "metadata": {
    "ExecuteTime": {
     "end_time": "2019-06-07T08:52:58.331972Z",
     "start_time": "2019-06-07T08:52:58.326339Z"
    }
   },
   "outputs": [
    {
     "data": {
      "text/plain": [
       "DatetimeIndex(['2031-01-01', '2031-01-02', '2031-01-03', '2031-01-04',\n",
       "               '2031-01-05', '2031-01-06'],\n",
       "              dtype='datetime64[ns]', freq='D')"
      ]
     },
     "execution_count": 4,
     "metadata": {},
     "output_type": "execute_result"
    }
   ],
   "source": [
    "dates = pd.date_range('20310101',periods=6)\n",
    "dates"
   ]
  },
  {
   "cell_type": "code",
   "execution_count": 5,
   "metadata": {
    "ExecuteTime": {
     "end_time": "2019-06-07T08:54:23.064715Z",
     "start_time": "2019-06-07T08:54:23.047827Z"
    }
   },
   "outputs": [
    {
     "data": {
      "text/html": [
       "<div>\n",
       "<style scoped>\n",
       "    .dataframe tbody tr th:only-of-type {\n",
       "        vertical-align: middle;\n",
       "    }\n",
       "\n",
       "    .dataframe tbody tr th {\n",
       "        vertical-align: top;\n",
       "    }\n",
       "\n",
       "    .dataframe thead th {\n",
       "        text-align: right;\n",
       "    }\n",
       "</style>\n",
       "<table border=\"1\" class=\"dataframe\">\n",
       "  <thead>\n",
       "    <tr style=\"text-align: right;\">\n",
       "      <th></th>\n",
       "      <th>A</th>\n",
       "      <th>B</th>\n",
       "      <th>C</th>\n",
       "      <th>D</th>\n",
       "    </tr>\n",
       "  </thead>\n",
       "  <tbody>\n",
       "    <tr>\n",
       "      <th>2031-01-01</th>\n",
       "      <td>0.162226</td>\n",
       "      <td>0.071008</td>\n",
       "      <td>-0.868200</td>\n",
       "      <td>0.191746</td>\n",
       "    </tr>\n",
       "    <tr>\n",
       "      <th>2031-01-02</th>\n",
       "      <td>0.595785</td>\n",
       "      <td>0.891839</td>\n",
       "      <td>1.882152</td>\n",
       "      <td>-0.622370</td>\n",
       "    </tr>\n",
       "    <tr>\n",
       "      <th>2031-01-03</th>\n",
       "      <td>-0.683741</td>\n",
       "      <td>1.437541</td>\n",
       "      <td>-0.797711</td>\n",
       "      <td>-0.034379</td>\n",
       "    </tr>\n",
       "    <tr>\n",
       "      <th>2031-01-04</th>\n",
       "      <td>0.767239</td>\n",
       "      <td>-1.349358</td>\n",
       "      <td>-0.925965</td>\n",
       "      <td>-0.384152</td>\n",
       "    </tr>\n",
       "    <tr>\n",
       "      <th>2031-01-05</th>\n",
       "      <td>-0.825114</td>\n",
       "      <td>-0.852004</td>\n",
       "      <td>0.265521</td>\n",
       "      <td>0.633665</td>\n",
       "    </tr>\n",
       "    <tr>\n",
       "      <th>2031-01-06</th>\n",
       "      <td>-0.036639</td>\n",
       "      <td>0.105031</td>\n",
       "      <td>-1.365430</td>\n",
       "      <td>-0.026106</td>\n",
       "    </tr>\n",
       "  </tbody>\n",
       "</table>\n",
       "</div>"
      ],
      "text/plain": [
       "                   A         B         C         D\n",
       "2031-01-01  0.162226  0.071008 -0.868200  0.191746\n",
       "2031-01-02  0.595785  0.891839  1.882152 -0.622370\n",
       "2031-01-03 -0.683741  1.437541 -0.797711 -0.034379\n",
       "2031-01-04  0.767239 -1.349358 -0.925965 -0.384152\n",
       "2031-01-05 -0.825114 -0.852004  0.265521  0.633665\n",
       "2031-01-06 -0.036639  0.105031 -1.365430 -0.026106"
      ]
     },
     "execution_count": 5,
     "metadata": {},
     "output_type": "execute_result"
    }
   ],
   "source": [
    "df = pd.DataFrame(np.random.randn(6,4),index=dates,columns=list('ABCD'))\n",
    "df"
   ]
  },
  {
   "cell_type": "code",
   "execution_count": 6,
   "metadata": {
    "ExecuteTime": {
     "end_time": "2019-06-07T09:05:51.572515Z",
     "start_time": "2019-06-07T09:05:51.566467Z"
    }
   },
   "outputs": [],
   "source": [
    "df2 = pd.DataFrame({\n",
    "    'A':1.,\n",
    "    \"B\": pd.Timestamp('20130102'),\n",
    "    \"C\": pd.Series(1,index=list(range(4)),dtype='float32'),\n",
    "    'D': np.array([3] * 4, dtype='int32'),\n",
    "    'E': pd.Categorical(['test','train','test','train']),\n",
    "    'F': 'foo'})"
   ]
  },
  {
   "cell_type": "code",
   "execution_count": 7,
   "metadata": {
    "ExecuteTime": {
     "end_time": "2019-06-07T09:01:22.306208Z",
     "start_time": "2019-06-07T09:01:22.295964Z"
    }
   },
   "outputs": [
    {
     "data": {
      "text/html": [
       "<div>\n",
       "<style scoped>\n",
       "    .dataframe tbody tr th:only-of-type {\n",
       "        vertical-align: middle;\n",
       "    }\n",
       "\n",
       "    .dataframe tbody tr th {\n",
       "        vertical-align: top;\n",
       "    }\n",
       "\n",
       "    .dataframe thead th {\n",
       "        text-align: right;\n",
       "    }\n",
       "</style>\n",
       "<table border=\"1\" class=\"dataframe\">\n",
       "  <thead>\n",
       "    <tr style=\"text-align: right;\">\n",
       "      <th></th>\n",
       "      <th>A</th>\n",
       "      <th>B</th>\n",
       "      <th>C</th>\n",
       "      <th>D</th>\n",
       "      <th>E</th>\n",
       "      <th>F</th>\n",
       "    </tr>\n",
       "  </thead>\n",
       "  <tbody>\n",
       "    <tr>\n",
       "      <th>0</th>\n",
       "      <td>1.0</td>\n",
       "      <td>2013-01-02</td>\n",
       "      <td>1.0</td>\n",
       "      <td>3</td>\n",
       "      <td>test</td>\n",
       "      <td>foo</td>\n",
       "    </tr>\n",
       "    <tr>\n",
       "      <th>1</th>\n",
       "      <td>1.0</td>\n",
       "      <td>2013-01-02</td>\n",
       "      <td>1.0</td>\n",
       "      <td>3</td>\n",
       "      <td>train</td>\n",
       "      <td>foo</td>\n",
       "    </tr>\n",
       "    <tr>\n",
       "      <th>2</th>\n",
       "      <td>1.0</td>\n",
       "      <td>2013-01-02</td>\n",
       "      <td>1.0</td>\n",
       "      <td>3</td>\n",
       "      <td>test</td>\n",
       "      <td>foo</td>\n",
       "    </tr>\n",
       "    <tr>\n",
       "      <th>3</th>\n",
       "      <td>1.0</td>\n",
       "      <td>2013-01-02</td>\n",
       "      <td>1.0</td>\n",
       "      <td>3</td>\n",
       "      <td>train</td>\n",
       "      <td>foo</td>\n",
       "    </tr>\n",
       "  </tbody>\n",
       "</table>\n",
       "</div>"
      ],
      "text/plain": [
       "     A          B    C  D      E    F\n",
       "0  1.0 2013-01-02  1.0  3   test  foo\n",
       "1  1.0 2013-01-02  1.0  3  train  foo\n",
       "2  1.0 2013-01-02  1.0  3   test  foo\n",
       "3  1.0 2013-01-02  1.0  3  train  foo"
      ]
     },
     "execution_count": 7,
     "metadata": {},
     "output_type": "execute_result"
    }
   ],
   "source": [
    "df2"
   ]
  },
  {
   "cell_type": "code",
   "execution_count": 8,
   "metadata": {
    "ExecuteTime": {
     "end_time": "2019-06-07T09:10:06.820131Z",
     "start_time": "2019-06-07T09:10:06.815062Z"
    }
   },
   "outputs": [
    {
     "data": {
      "text/plain": [
       "A           float64\n",
       "B    datetime64[ns]\n",
       "C           float32\n",
       "D             int32\n",
       "E          category\n",
       "F            object\n",
       "dtype: object"
      ]
     },
     "execution_count": 8,
     "metadata": {},
     "output_type": "execute_result"
    }
   ],
   "source": [
    "df2.dtypes"
   ]
  },
  {
   "cell_type": "code",
   "execution_count": null,
   "metadata": {
    "ExecuteTime": {
     "end_time": "2019-06-07T10:48:45.368027Z",
     "start_time": "2019-06-07T10:48:45.360544Z"
    }
   },
   "outputs": [],
   "source": []
  },
  {
   "cell_type": "code",
   "execution_count": 9,
   "metadata": {
    "ExecuteTime": {
     "end_time": "2019-06-07T10:49:53.940237Z",
     "start_time": "2019-06-07T10:49:53.930016Z"
    }
   },
   "outputs": [
    {
     "data": {
      "text/html": [
       "<div>\n",
       "<style scoped>\n",
       "    .dataframe tbody tr th:only-of-type {\n",
       "        vertical-align: middle;\n",
       "    }\n",
       "\n",
       "    .dataframe tbody tr th {\n",
       "        vertical-align: top;\n",
       "    }\n",
       "\n",
       "    .dataframe thead th {\n",
       "        text-align: right;\n",
       "    }\n",
       "</style>\n",
       "<table border=\"1\" class=\"dataframe\">\n",
       "  <thead>\n",
       "    <tr style=\"text-align: right;\">\n",
       "      <th></th>\n",
       "      <th>A</th>\n",
       "      <th>B</th>\n",
       "      <th>C</th>\n",
       "      <th>D</th>\n",
       "      <th>E</th>\n",
       "      <th>F</th>\n",
       "    </tr>\n",
       "  </thead>\n",
       "  <tbody>\n",
       "    <tr>\n",
       "      <th>0</th>\n",
       "      <td>1.0</td>\n",
       "      <td>2013-01-02</td>\n",
       "      <td>1.0</td>\n",
       "      <td>3</td>\n",
       "      <td>test</td>\n",
       "      <td>foo</td>\n",
       "    </tr>\n",
       "    <tr>\n",
       "      <th>1</th>\n",
       "      <td>1.0</td>\n",
       "      <td>2013-01-02</td>\n",
       "      <td>1.0</td>\n",
       "      <td>3</td>\n",
       "      <td>train</td>\n",
       "      <td>foo</td>\n",
       "    </tr>\n",
       "    <tr>\n",
       "      <th>2</th>\n",
       "      <td>1.0</td>\n",
       "      <td>2013-01-02</td>\n",
       "      <td>1.0</td>\n",
       "      <td>3</td>\n",
       "      <td>test</td>\n",
       "      <td>foo</td>\n",
       "    </tr>\n",
       "    <tr>\n",
       "      <th>3</th>\n",
       "      <td>1.0</td>\n",
       "      <td>2013-01-02</td>\n",
       "      <td>1.0</td>\n",
       "      <td>3</td>\n",
       "      <td>train</td>\n",
       "      <td>foo</td>\n",
       "    </tr>\n",
       "  </tbody>\n",
       "</table>\n",
       "</div>"
      ],
      "text/plain": [
       "     A          B    C  D      E    F\n",
       "0  1.0 2013-01-02  1.0  3   test  foo\n",
       "1  1.0 2013-01-02  1.0  3  train  foo\n",
       "2  1.0 2013-01-02  1.0  3   test  foo\n",
       "3  1.0 2013-01-02  1.0  3  train  foo"
      ]
     },
     "execution_count": 9,
     "metadata": {},
     "output_type": "execute_result"
    }
   ],
   "source": [
    "df2"
   ]
  },
  {
   "cell_type": "code",
   "execution_count": 10,
   "metadata": {
    "ExecuteTime": {
     "end_time": "2019-06-07T10:49:58.897530Z",
     "start_time": "2019-06-07T10:49:58.889082Z"
    }
   },
   "outputs": [
    {
     "data": {
      "text/html": [
       "<div>\n",
       "<style scoped>\n",
       "    .dataframe tbody tr th:only-of-type {\n",
       "        vertical-align: middle;\n",
       "    }\n",
       "\n",
       "    .dataframe tbody tr th {\n",
       "        vertical-align: top;\n",
       "    }\n",
       "\n",
       "    .dataframe thead th {\n",
       "        text-align: right;\n",
       "    }\n",
       "</style>\n",
       "<table border=\"1\" class=\"dataframe\">\n",
       "  <thead>\n",
       "    <tr style=\"text-align: right;\">\n",
       "      <th></th>\n",
       "      <th>A</th>\n",
       "      <th>B</th>\n",
       "      <th>C</th>\n",
       "      <th>D</th>\n",
       "    </tr>\n",
       "  </thead>\n",
       "  <tbody>\n",
       "    <tr>\n",
       "      <th>2031-01-01</th>\n",
       "      <td>0.162226</td>\n",
       "      <td>0.071008</td>\n",
       "      <td>-0.868200</td>\n",
       "      <td>0.191746</td>\n",
       "    </tr>\n",
       "    <tr>\n",
       "      <th>2031-01-02</th>\n",
       "      <td>0.595785</td>\n",
       "      <td>0.891839</td>\n",
       "      <td>1.882152</td>\n",
       "      <td>-0.622370</td>\n",
       "    </tr>\n",
       "    <tr>\n",
       "      <th>2031-01-03</th>\n",
       "      <td>-0.683741</td>\n",
       "      <td>1.437541</td>\n",
       "      <td>-0.797711</td>\n",
       "      <td>-0.034379</td>\n",
       "    </tr>\n",
       "    <tr>\n",
       "      <th>2031-01-04</th>\n",
       "      <td>0.767239</td>\n",
       "      <td>-1.349358</td>\n",
       "      <td>-0.925965</td>\n",
       "      <td>-0.384152</td>\n",
       "    </tr>\n",
       "    <tr>\n",
       "      <th>2031-01-05</th>\n",
       "      <td>-0.825114</td>\n",
       "      <td>-0.852004</td>\n",
       "      <td>0.265521</td>\n",
       "      <td>0.633665</td>\n",
       "    </tr>\n",
       "    <tr>\n",
       "      <th>2031-01-06</th>\n",
       "      <td>-0.036639</td>\n",
       "      <td>0.105031</td>\n",
       "      <td>-1.365430</td>\n",
       "      <td>-0.026106</td>\n",
       "    </tr>\n",
       "  </tbody>\n",
       "</table>\n",
       "</div>"
      ],
      "text/plain": [
       "                   A         B         C         D\n",
       "2031-01-01  0.162226  0.071008 -0.868200  0.191746\n",
       "2031-01-02  0.595785  0.891839  1.882152 -0.622370\n",
       "2031-01-03 -0.683741  1.437541 -0.797711 -0.034379\n",
       "2031-01-04  0.767239 -1.349358 -0.925965 -0.384152\n",
       "2031-01-05 -0.825114 -0.852004  0.265521  0.633665\n",
       "2031-01-06 -0.036639  0.105031 -1.365430 -0.026106"
      ]
     },
     "execution_count": 10,
     "metadata": {},
     "output_type": "execute_result"
    }
   ],
   "source": [
    "df"
   ]
  },
  {
   "cell_type": "code",
   "execution_count": 11,
   "metadata": {
    "ExecuteTime": {
     "end_time": "2019-06-07T10:50:30.422516Z",
     "start_time": "2019-06-07T10:50:30.414192Z"
    }
   },
   "outputs": [
    {
     "data": {
      "text/html": [
       "<div>\n",
       "<style scoped>\n",
       "    .dataframe tbody tr th:only-of-type {\n",
       "        vertical-align: middle;\n",
       "    }\n",
       "\n",
       "    .dataframe tbody tr th {\n",
       "        vertical-align: top;\n",
       "    }\n",
       "\n",
       "    .dataframe thead th {\n",
       "        text-align: right;\n",
       "    }\n",
       "</style>\n",
       "<table border=\"1\" class=\"dataframe\">\n",
       "  <thead>\n",
       "    <tr style=\"text-align: right;\">\n",
       "      <th></th>\n",
       "      <th>A</th>\n",
       "      <th>B</th>\n",
       "      <th>C</th>\n",
       "      <th>D</th>\n",
       "    </tr>\n",
       "  </thead>\n",
       "  <tbody>\n",
       "    <tr>\n",
       "      <th>2031-01-01</th>\n",
       "      <td>0.162226</td>\n",
       "      <td>0.071008</td>\n",
       "      <td>-0.868200</td>\n",
       "      <td>0.191746</td>\n",
       "    </tr>\n",
       "    <tr>\n",
       "      <th>2031-01-02</th>\n",
       "      <td>0.595785</td>\n",
       "      <td>0.891839</td>\n",
       "      <td>1.882152</td>\n",
       "      <td>-0.622370</td>\n",
       "    </tr>\n",
       "    <tr>\n",
       "      <th>2031-01-03</th>\n",
       "      <td>-0.683741</td>\n",
       "      <td>1.437541</td>\n",
       "      <td>-0.797711</td>\n",
       "      <td>-0.034379</td>\n",
       "    </tr>\n",
       "    <tr>\n",
       "      <th>2031-01-04</th>\n",
       "      <td>0.767239</td>\n",
       "      <td>-1.349358</td>\n",
       "      <td>-0.925965</td>\n",
       "      <td>-0.384152</td>\n",
       "    </tr>\n",
       "    <tr>\n",
       "      <th>2031-01-05</th>\n",
       "      <td>-0.825114</td>\n",
       "      <td>-0.852004</td>\n",
       "      <td>0.265521</td>\n",
       "      <td>0.633665</td>\n",
       "    </tr>\n",
       "  </tbody>\n",
       "</table>\n",
       "</div>"
      ],
      "text/plain": [
       "                   A         B         C         D\n",
       "2031-01-01  0.162226  0.071008 -0.868200  0.191746\n",
       "2031-01-02  0.595785  0.891839  1.882152 -0.622370\n",
       "2031-01-03 -0.683741  1.437541 -0.797711 -0.034379\n",
       "2031-01-04  0.767239 -1.349358 -0.925965 -0.384152\n",
       "2031-01-05 -0.825114 -0.852004  0.265521  0.633665"
      ]
     },
     "execution_count": 11,
     "metadata": {},
     "output_type": "execute_result"
    }
   ],
   "source": [
    "df.head()"
   ]
  },
  {
   "cell_type": "code",
   "execution_count": 12,
   "metadata": {
    "ExecuteTime": {
     "end_time": "2019-06-07T10:50:45.725905Z",
     "start_time": "2019-06-07T10:50:45.717164Z"
    }
   },
   "outputs": [
    {
     "data": {
      "text/html": [
       "<div>\n",
       "<style scoped>\n",
       "    .dataframe tbody tr th:only-of-type {\n",
       "        vertical-align: middle;\n",
       "    }\n",
       "\n",
       "    .dataframe tbody tr th {\n",
       "        vertical-align: top;\n",
       "    }\n",
       "\n",
       "    .dataframe thead th {\n",
       "        text-align: right;\n",
       "    }\n",
       "</style>\n",
       "<table border=\"1\" class=\"dataframe\">\n",
       "  <thead>\n",
       "    <tr style=\"text-align: right;\">\n",
       "      <th></th>\n",
       "      <th>A</th>\n",
       "      <th>B</th>\n",
       "      <th>C</th>\n",
       "      <th>D</th>\n",
       "    </tr>\n",
       "  </thead>\n",
       "  <tbody>\n",
       "    <tr>\n",
       "      <th>2031-01-01</th>\n",
       "      <td>0.162226</td>\n",
       "      <td>0.071008</td>\n",
       "      <td>-0.868200</td>\n",
       "      <td>0.191746</td>\n",
       "    </tr>\n",
       "    <tr>\n",
       "      <th>2031-01-02</th>\n",
       "      <td>0.595785</td>\n",
       "      <td>0.891839</td>\n",
       "      <td>1.882152</td>\n",
       "      <td>-0.622370</td>\n",
       "    </tr>\n",
       "  </tbody>\n",
       "</table>\n",
       "</div>"
      ],
      "text/plain": [
       "                   A         B         C         D\n",
       "2031-01-01  0.162226  0.071008 -0.868200  0.191746\n",
       "2031-01-02  0.595785  0.891839  1.882152 -0.622370"
      ]
     },
     "execution_count": 12,
     "metadata": {},
     "output_type": "execute_result"
    }
   ],
   "source": [
    "df.head(2)"
   ]
  },
  {
   "cell_type": "code",
   "execution_count": 13,
   "metadata": {
    "ExecuteTime": {
     "end_time": "2019-06-07T10:51:26.323748Z",
     "start_time": "2019-06-07T10:51:26.314566Z"
    }
   },
   "outputs": [
    {
     "data": {
      "text/html": [
       "<div>\n",
       "<style scoped>\n",
       "    .dataframe tbody tr th:only-of-type {\n",
       "        vertical-align: middle;\n",
       "    }\n",
       "\n",
       "    .dataframe tbody tr th {\n",
       "        vertical-align: top;\n",
       "    }\n",
       "\n",
       "    .dataframe thead th {\n",
       "        text-align: right;\n",
       "    }\n",
       "</style>\n",
       "<table border=\"1\" class=\"dataframe\">\n",
       "  <thead>\n",
       "    <tr style=\"text-align: right;\">\n",
       "      <th></th>\n",
       "      <th>A</th>\n",
       "      <th>B</th>\n",
       "      <th>C</th>\n",
       "      <th>D</th>\n",
       "    </tr>\n",
       "  </thead>\n",
       "  <tbody>\n",
       "    <tr>\n",
       "      <th>2031-01-05</th>\n",
       "      <td>-0.825114</td>\n",
       "      <td>-0.852004</td>\n",
       "      <td>0.265521</td>\n",
       "      <td>0.633665</td>\n",
       "    </tr>\n",
       "    <tr>\n",
       "      <th>2031-01-06</th>\n",
       "      <td>-0.036639</td>\n",
       "      <td>0.105031</td>\n",
       "      <td>-1.365430</td>\n",
       "      <td>-0.026106</td>\n",
       "    </tr>\n",
       "  </tbody>\n",
       "</table>\n",
       "</div>"
      ],
      "text/plain": [
       "                   A         B         C         D\n",
       "2031-01-05 -0.825114 -0.852004  0.265521  0.633665\n",
       "2031-01-06 -0.036639  0.105031 -1.365430 -0.026106"
      ]
     },
     "execution_count": 13,
     "metadata": {},
     "output_type": "execute_result"
    }
   ],
   "source": [
    "df.tail(2)"
   ]
  },
  {
   "cell_type": "code",
   "execution_count": 14,
   "metadata": {
    "ExecuteTime": {
     "end_time": "2019-06-07T10:51:43.270956Z",
     "start_time": "2019-06-07T10:51:43.266062Z"
    }
   },
   "outputs": [
    {
     "data": {
      "text/plain": [
       "DatetimeIndex(['2031-01-01', '2031-01-02', '2031-01-03', '2031-01-04',\n",
       "               '2031-01-05', '2031-01-06'],\n",
       "              dtype='datetime64[ns]', freq='D')"
      ]
     },
     "execution_count": 14,
     "metadata": {},
     "output_type": "execute_result"
    }
   ],
   "source": [
    "df.index"
   ]
  },
  {
   "cell_type": "code",
   "execution_count": 15,
   "metadata": {
    "ExecuteTime": {
     "end_time": "2019-06-07T10:51:52.397589Z",
     "start_time": "2019-06-07T10:51:52.393129Z"
    }
   },
   "outputs": [
    {
     "data": {
      "text/plain": [
       "DatetimeIndex(['2031-01-01', '2031-01-02', '2031-01-03', '2031-01-04',\n",
       "               '2031-01-05', '2031-01-06'],\n",
       "              dtype='datetime64[ns]', freq='D')"
      ]
     },
     "execution_count": 15,
     "metadata": {},
     "output_type": "execute_result"
    }
   ],
   "source": [
    "df.index"
   ]
  },
  {
   "cell_type": "code",
   "execution_count": 16,
   "metadata": {
    "ExecuteTime": {
     "end_time": "2019-06-07T10:52:17.298258Z",
     "start_time": "2019-06-07T10:52:17.293910Z"
    }
   },
   "outputs": [
    {
     "data": {
      "text/plain": [
       "Index(['A', 'B', 'C', 'D'], dtype='object')"
      ]
     },
     "execution_count": 16,
     "metadata": {},
     "output_type": "execute_result"
    }
   ],
   "source": [
    "df.columns"
   ]
  },
  {
   "cell_type": "code",
   "execution_count": 17,
   "metadata": {
    "ExecuteTime": {
     "end_time": "2019-06-07T10:52:22.819495Z",
     "start_time": "2019-06-07T10:52:22.814833Z"
    }
   },
   "outputs": [
    {
     "data": {
      "text/plain": [
       "array([[ 0.16222615,  0.07100773, -0.86820045,  0.19174617],\n",
       "       [ 0.59578459,  0.89183932,  1.88215241, -0.62236984],\n",
       "       [-0.68374098,  1.43754141, -0.79771072, -0.03437893],\n",
       "       [ 0.76723941, -1.34935772, -0.92596544, -0.38415185],\n",
       "       [-0.82511388, -0.8520045 ,  0.26552057,  0.63366545],\n",
       "       [-0.03663889,  0.10503086, -1.36542994, -0.02610641]])"
      ]
     },
     "execution_count": 17,
     "metadata": {},
     "output_type": "execute_result"
    }
   ],
   "source": [
    "df.values"
   ]
  },
  {
   "cell_type": "code",
   "execution_count": 18,
   "metadata": {
    "ExecuteTime": {
     "end_time": "2019-06-07T10:52:39.489160Z",
     "start_time": "2019-06-07T10:52:39.469216Z"
    }
   },
   "outputs": [
    {
     "data": {
      "text/html": [
       "<div>\n",
       "<style scoped>\n",
       "    .dataframe tbody tr th:only-of-type {\n",
       "        vertical-align: middle;\n",
       "    }\n",
       "\n",
       "    .dataframe tbody tr th {\n",
       "        vertical-align: top;\n",
       "    }\n",
       "\n",
       "    .dataframe thead th {\n",
       "        text-align: right;\n",
       "    }\n",
       "</style>\n",
       "<table border=\"1\" class=\"dataframe\">\n",
       "  <thead>\n",
       "    <tr style=\"text-align: right;\">\n",
       "      <th></th>\n",
       "      <th>A</th>\n",
       "      <th>B</th>\n",
       "      <th>C</th>\n",
       "      <th>D</th>\n",
       "    </tr>\n",
       "  </thead>\n",
       "  <tbody>\n",
       "    <tr>\n",
       "      <th>count</th>\n",
       "      <td>6.000000</td>\n",
       "      <td>6.000000</td>\n",
       "      <td>6.000000</td>\n",
       "      <td>6.000000</td>\n",
       "    </tr>\n",
       "    <tr>\n",
       "      <th>mean</th>\n",
       "      <td>-0.003374</td>\n",
       "      <td>0.050676</td>\n",
       "      <td>-0.301606</td>\n",
       "      <td>-0.040266</td>\n",
       "    </tr>\n",
       "    <tr>\n",
       "      <th>std</th>\n",
       "      <td>0.651079</td>\n",
       "      <td>1.040120</td>\n",
       "      <td>1.198259</td>\n",
       "      <td>0.439397</td>\n",
       "    </tr>\n",
       "    <tr>\n",
       "      <th>min</th>\n",
       "      <td>-0.825114</td>\n",
       "      <td>-1.349358</td>\n",
       "      <td>-1.365430</td>\n",
       "      <td>-0.622370</td>\n",
       "    </tr>\n",
       "    <tr>\n",
       "      <th>25%</th>\n",
       "      <td>-0.521965</td>\n",
       "      <td>-0.621251</td>\n",
       "      <td>-0.911524</td>\n",
       "      <td>-0.296709</td>\n",
       "    </tr>\n",
       "    <tr>\n",
       "      <th>50%</th>\n",
       "      <td>0.062794</td>\n",
       "      <td>0.088019</td>\n",
       "      <td>-0.832956</td>\n",
       "      <td>-0.030243</td>\n",
       "    </tr>\n",
       "    <tr>\n",
       "      <th>75%</th>\n",
       "      <td>0.487395</td>\n",
       "      <td>0.695137</td>\n",
       "      <td>-0.000287</td>\n",
       "      <td>0.137283</td>\n",
       "    </tr>\n",
       "    <tr>\n",
       "      <th>max</th>\n",
       "      <td>0.767239</td>\n",
       "      <td>1.437541</td>\n",
       "      <td>1.882152</td>\n",
       "      <td>0.633665</td>\n",
       "    </tr>\n",
       "  </tbody>\n",
       "</table>\n",
       "</div>"
      ],
      "text/plain": [
       "              A         B         C         D\n",
       "count  6.000000  6.000000  6.000000  6.000000\n",
       "mean  -0.003374  0.050676 -0.301606 -0.040266\n",
       "std    0.651079  1.040120  1.198259  0.439397\n",
       "min   -0.825114 -1.349358 -1.365430 -0.622370\n",
       "25%   -0.521965 -0.621251 -0.911524 -0.296709\n",
       "50%    0.062794  0.088019 -0.832956 -0.030243\n",
       "75%    0.487395  0.695137 -0.000287  0.137283\n",
       "max    0.767239  1.437541  1.882152  0.633665"
      ]
     },
     "execution_count": 18,
     "metadata": {},
     "output_type": "execute_result"
    }
   ],
   "source": [
    "df.describe()"
   ]
  },
  {
   "cell_type": "code",
   "execution_count": 19,
   "metadata": {
    "ExecuteTime": {
     "end_time": "2019-06-07T10:53:50.597616Z",
     "start_time": "2019-06-07T10:53:50.586798Z"
    }
   },
   "outputs": [
    {
     "data": {
      "text/html": [
       "<div>\n",
       "<style scoped>\n",
       "    .dataframe tbody tr th:only-of-type {\n",
       "        vertical-align: middle;\n",
       "    }\n",
       "\n",
       "    .dataframe tbody tr th {\n",
       "        vertical-align: top;\n",
       "    }\n",
       "\n",
       "    .dataframe thead th {\n",
       "        text-align: right;\n",
       "    }\n",
       "</style>\n",
       "<table border=\"1\" class=\"dataframe\">\n",
       "  <thead>\n",
       "    <tr style=\"text-align: right;\">\n",
       "      <th></th>\n",
       "      <th>2031-01-01 00:00:00</th>\n",
       "      <th>2031-01-02 00:00:00</th>\n",
       "      <th>2031-01-03 00:00:00</th>\n",
       "      <th>2031-01-04 00:00:00</th>\n",
       "      <th>2031-01-05 00:00:00</th>\n",
       "      <th>2031-01-06 00:00:00</th>\n",
       "    </tr>\n",
       "  </thead>\n",
       "  <tbody>\n",
       "    <tr>\n",
       "      <th>A</th>\n",
       "      <td>0.162226</td>\n",
       "      <td>0.595785</td>\n",
       "      <td>-0.683741</td>\n",
       "      <td>0.767239</td>\n",
       "      <td>-0.825114</td>\n",
       "      <td>-0.036639</td>\n",
       "    </tr>\n",
       "    <tr>\n",
       "      <th>B</th>\n",
       "      <td>0.071008</td>\n",
       "      <td>0.891839</td>\n",
       "      <td>1.437541</td>\n",
       "      <td>-1.349358</td>\n",
       "      <td>-0.852004</td>\n",
       "      <td>0.105031</td>\n",
       "    </tr>\n",
       "    <tr>\n",
       "      <th>C</th>\n",
       "      <td>-0.868200</td>\n",
       "      <td>1.882152</td>\n",
       "      <td>-0.797711</td>\n",
       "      <td>-0.925965</td>\n",
       "      <td>0.265521</td>\n",
       "      <td>-1.365430</td>\n",
       "    </tr>\n",
       "    <tr>\n",
       "      <th>D</th>\n",
       "      <td>0.191746</td>\n",
       "      <td>-0.622370</td>\n",
       "      <td>-0.034379</td>\n",
       "      <td>-0.384152</td>\n",
       "      <td>0.633665</td>\n",
       "      <td>-0.026106</td>\n",
       "    </tr>\n",
       "  </tbody>\n",
       "</table>\n",
       "</div>"
      ],
      "text/plain": [
       "   2031-01-01  2031-01-02  2031-01-03  2031-01-04  2031-01-05  2031-01-06\n",
       "A    0.162226    0.595785   -0.683741    0.767239   -0.825114   -0.036639\n",
       "B    0.071008    0.891839    1.437541   -1.349358   -0.852004    0.105031\n",
       "C   -0.868200    1.882152   -0.797711   -0.925965    0.265521   -1.365430\n",
       "D    0.191746   -0.622370   -0.034379   -0.384152    0.633665   -0.026106"
      ]
     },
     "execution_count": 19,
     "metadata": {},
     "output_type": "execute_result"
    }
   ],
   "source": [
    "df.T\n"
   ]
  },
  {
   "cell_type": "code",
   "execution_count": 20,
   "metadata": {
    "ExecuteTime": {
     "end_time": "2019-06-07T10:59:49.161677Z",
     "start_time": "2019-06-07T10:59:49.133053Z"
    }
   },
   "outputs": [
    {
     "data": {
      "text/html": [
       "<div>\n",
       "<style scoped>\n",
       "    .dataframe tbody tr th:only-of-type {\n",
       "        vertical-align: middle;\n",
       "    }\n",
       "\n",
       "    .dataframe tbody tr th {\n",
       "        vertical-align: top;\n",
       "    }\n",
       "\n",
       "    .dataframe thead th {\n",
       "        text-align: right;\n",
       "    }\n",
       "</style>\n",
       "<table border=\"1\" class=\"dataframe\">\n",
       "  <thead>\n",
       "    <tr style=\"text-align: right;\">\n",
       "      <th></th>\n",
       "      <th>D</th>\n",
       "      <th>C</th>\n",
       "      <th>B</th>\n",
       "      <th>A</th>\n",
       "    </tr>\n",
       "  </thead>\n",
       "  <tbody>\n",
       "    <tr>\n",
       "      <th>2031-01-01</th>\n",
       "      <td>0.191746</td>\n",
       "      <td>-0.868200</td>\n",
       "      <td>0.071008</td>\n",
       "      <td>0.162226</td>\n",
       "    </tr>\n",
       "    <tr>\n",
       "      <th>2031-01-02</th>\n",
       "      <td>-0.622370</td>\n",
       "      <td>1.882152</td>\n",
       "      <td>0.891839</td>\n",
       "      <td>0.595785</td>\n",
       "    </tr>\n",
       "    <tr>\n",
       "      <th>2031-01-03</th>\n",
       "      <td>-0.034379</td>\n",
       "      <td>-0.797711</td>\n",
       "      <td>1.437541</td>\n",
       "      <td>-0.683741</td>\n",
       "    </tr>\n",
       "    <tr>\n",
       "      <th>2031-01-04</th>\n",
       "      <td>-0.384152</td>\n",
       "      <td>-0.925965</td>\n",
       "      <td>-1.349358</td>\n",
       "      <td>0.767239</td>\n",
       "    </tr>\n",
       "    <tr>\n",
       "      <th>2031-01-05</th>\n",
       "      <td>0.633665</td>\n",
       "      <td>0.265521</td>\n",
       "      <td>-0.852004</td>\n",
       "      <td>-0.825114</td>\n",
       "    </tr>\n",
       "    <tr>\n",
       "      <th>2031-01-06</th>\n",
       "      <td>-0.026106</td>\n",
       "      <td>-1.365430</td>\n",
       "      <td>0.105031</td>\n",
       "      <td>-0.036639</td>\n",
       "    </tr>\n",
       "  </tbody>\n",
       "</table>\n",
       "</div>"
      ],
      "text/plain": [
       "                   D         C         B         A\n",
       "2031-01-01  0.191746 -0.868200  0.071008  0.162226\n",
       "2031-01-02 -0.622370  1.882152  0.891839  0.595785\n",
       "2031-01-03 -0.034379 -0.797711  1.437541 -0.683741\n",
       "2031-01-04 -0.384152 -0.925965 -1.349358  0.767239\n",
       "2031-01-05  0.633665  0.265521 -0.852004 -0.825114\n",
       "2031-01-06 -0.026106 -1.365430  0.105031 -0.036639"
      ]
     },
     "execution_count": 20,
     "metadata": {},
     "output_type": "execute_result"
    }
   ],
   "source": [
    "df.sort_index(axis=1, ascending=False)#axis=0指的是逐行，axis=1指的是逐列。\n"
   ]
  },
  {
   "cell_type": "code",
   "execution_count": 21,
   "metadata": {
    "ExecuteTime": {
     "end_time": "2019-06-07T10:58:06.317067Z",
     "start_time": "2019-06-07T10:58:06.308369Z"
    }
   },
   "outputs": [
    {
     "data": {
      "text/html": [
       "<div>\n",
       "<style scoped>\n",
       "    .dataframe tbody tr th:only-of-type {\n",
       "        vertical-align: middle;\n",
       "    }\n",
       "\n",
       "    .dataframe tbody tr th {\n",
       "        vertical-align: top;\n",
       "    }\n",
       "\n",
       "    .dataframe thead th {\n",
       "        text-align: right;\n",
       "    }\n",
       "</style>\n",
       "<table border=\"1\" class=\"dataframe\">\n",
       "  <thead>\n",
       "    <tr style=\"text-align: right;\">\n",
       "      <th></th>\n",
       "      <th>A</th>\n",
       "      <th>B</th>\n",
       "      <th>C</th>\n",
       "      <th>D</th>\n",
       "    </tr>\n",
       "  </thead>\n",
       "  <tbody>\n",
       "    <tr>\n",
       "      <th>2031-01-04</th>\n",
       "      <td>0.767239</td>\n",
       "      <td>-1.349358</td>\n",
       "      <td>-0.925965</td>\n",
       "      <td>-0.384152</td>\n",
       "    </tr>\n",
       "    <tr>\n",
       "      <th>2031-01-05</th>\n",
       "      <td>-0.825114</td>\n",
       "      <td>-0.852004</td>\n",
       "      <td>0.265521</td>\n",
       "      <td>0.633665</td>\n",
       "    </tr>\n",
       "    <tr>\n",
       "      <th>2031-01-01</th>\n",
       "      <td>0.162226</td>\n",
       "      <td>0.071008</td>\n",
       "      <td>-0.868200</td>\n",
       "      <td>0.191746</td>\n",
       "    </tr>\n",
       "    <tr>\n",
       "      <th>2031-01-06</th>\n",
       "      <td>-0.036639</td>\n",
       "      <td>0.105031</td>\n",
       "      <td>-1.365430</td>\n",
       "      <td>-0.026106</td>\n",
       "    </tr>\n",
       "    <tr>\n",
       "      <th>2031-01-02</th>\n",
       "      <td>0.595785</td>\n",
       "      <td>0.891839</td>\n",
       "      <td>1.882152</td>\n",
       "      <td>-0.622370</td>\n",
       "    </tr>\n",
       "    <tr>\n",
       "      <th>2031-01-03</th>\n",
       "      <td>-0.683741</td>\n",
       "      <td>1.437541</td>\n",
       "      <td>-0.797711</td>\n",
       "      <td>-0.034379</td>\n",
       "    </tr>\n",
       "  </tbody>\n",
       "</table>\n",
       "</div>"
      ],
      "text/plain": [
       "                   A         B         C         D\n",
       "2031-01-04  0.767239 -1.349358 -0.925965 -0.384152\n",
       "2031-01-05 -0.825114 -0.852004  0.265521  0.633665\n",
       "2031-01-01  0.162226  0.071008 -0.868200  0.191746\n",
       "2031-01-06 -0.036639  0.105031 -1.365430 -0.026106\n",
       "2031-01-02  0.595785  0.891839  1.882152 -0.622370\n",
       "2031-01-03 -0.683741  1.437541 -0.797711 -0.034379"
      ]
     },
     "execution_count": 21,
     "metadata": {},
     "output_type": "execute_result"
    }
   ],
   "source": [
    "df.sort_values(by='B')"
   ]
  },
  {
   "cell_type": "code",
   "execution_count": 22,
   "metadata": {
    "ExecuteTime": {
     "end_time": "2019-06-07T11:01:16.560474Z",
     "start_time": "2019-06-07T11:01:16.555464Z"
    }
   },
   "outputs": [
    {
     "data": {
      "text/plain": [
       "2031-01-01    0.162226\n",
       "2031-01-02    0.595785\n",
       "2031-01-03   -0.683741\n",
       "2031-01-04    0.767239\n",
       "2031-01-05   -0.825114\n",
       "2031-01-06   -0.036639\n",
       "Freq: D, Name: A, dtype: float64"
      ]
     },
     "execution_count": 22,
     "metadata": {},
     "output_type": "execute_result"
    }
   ],
   "source": [
    "df['A']"
   ]
  },
  {
   "cell_type": "code",
   "execution_count": 23,
   "metadata": {
    "ExecuteTime": {
     "end_time": "2019-06-07T11:01:45.914507Z",
     "start_time": "2019-06-07T11:01:45.906024Z"
    }
   },
   "outputs": [
    {
     "data": {
      "text/html": [
       "<div>\n",
       "<style scoped>\n",
       "    .dataframe tbody tr th:only-of-type {\n",
       "        vertical-align: middle;\n",
       "    }\n",
       "\n",
       "    .dataframe tbody tr th {\n",
       "        vertical-align: top;\n",
       "    }\n",
       "\n",
       "    .dataframe thead th {\n",
       "        text-align: right;\n",
       "    }\n",
       "</style>\n",
       "<table border=\"1\" class=\"dataframe\">\n",
       "  <thead>\n",
       "    <tr style=\"text-align: right;\">\n",
       "      <th></th>\n",
       "      <th>A</th>\n",
       "      <th>B</th>\n",
       "      <th>C</th>\n",
       "      <th>D</th>\n",
       "    </tr>\n",
       "  </thead>\n",
       "  <tbody>\n",
       "    <tr>\n",
       "      <th>2031-01-01</th>\n",
       "      <td>0.162226</td>\n",
       "      <td>0.071008</td>\n",
       "      <td>-0.868200</td>\n",
       "      <td>0.191746</td>\n",
       "    </tr>\n",
       "    <tr>\n",
       "      <th>2031-01-02</th>\n",
       "      <td>0.595785</td>\n",
       "      <td>0.891839</td>\n",
       "      <td>1.882152</td>\n",
       "      <td>-0.622370</td>\n",
       "    </tr>\n",
       "    <tr>\n",
       "      <th>2031-01-03</th>\n",
       "      <td>-0.683741</td>\n",
       "      <td>1.437541</td>\n",
       "      <td>-0.797711</td>\n",
       "      <td>-0.034379</td>\n",
       "    </tr>\n",
       "  </tbody>\n",
       "</table>\n",
       "</div>"
      ],
      "text/plain": [
       "                   A         B         C         D\n",
       "2031-01-01  0.162226  0.071008 -0.868200  0.191746\n",
       "2031-01-02  0.595785  0.891839  1.882152 -0.622370\n",
       "2031-01-03 -0.683741  1.437541 -0.797711 -0.034379"
      ]
     },
     "execution_count": 23,
     "metadata": {},
     "output_type": "execute_result"
    }
   ],
   "source": [
    "df[0:3]"
   ]
  },
  {
   "cell_type": "code",
   "execution_count": 24,
   "metadata": {
    "ExecuteTime": {
     "end_time": "2019-06-07T11:02:18.578769Z",
     "start_time": "2019-06-07T11:02:18.569040Z"
    }
   },
   "outputs": [
    {
     "data": {
      "text/html": [
       "<div>\n",
       "<style scoped>\n",
       "    .dataframe tbody tr th:only-of-type {\n",
       "        vertical-align: middle;\n",
       "    }\n",
       "\n",
       "    .dataframe tbody tr th {\n",
       "        vertical-align: top;\n",
       "    }\n",
       "\n",
       "    .dataframe thead th {\n",
       "        text-align: right;\n",
       "    }\n",
       "</style>\n",
       "<table border=\"1\" class=\"dataframe\">\n",
       "  <thead>\n",
       "    <tr style=\"text-align: right;\">\n",
       "      <th></th>\n",
       "      <th>A</th>\n",
       "      <th>B</th>\n",
       "      <th>C</th>\n",
       "      <th>D</th>\n",
       "    </tr>\n",
       "  </thead>\n",
       "  <tbody>\n",
       "    <tr>\n",
       "      <th>2031-01-02</th>\n",
       "      <td>0.595785</td>\n",
       "      <td>0.891839</td>\n",
       "      <td>1.882152</td>\n",
       "      <td>-0.622370</td>\n",
       "    </tr>\n",
       "    <tr>\n",
       "      <th>2031-01-03</th>\n",
       "      <td>-0.683741</td>\n",
       "      <td>1.437541</td>\n",
       "      <td>-0.797711</td>\n",
       "      <td>-0.034379</td>\n",
       "    </tr>\n",
       "    <tr>\n",
       "      <th>2031-01-04</th>\n",
       "      <td>0.767239</td>\n",
       "      <td>-1.349358</td>\n",
       "      <td>-0.925965</td>\n",
       "      <td>-0.384152</td>\n",
       "    </tr>\n",
       "  </tbody>\n",
       "</table>\n",
       "</div>"
      ],
      "text/plain": [
       "                   A         B         C         D\n",
       "2031-01-02  0.595785  0.891839  1.882152 -0.622370\n",
       "2031-01-03 -0.683741  1.437541 -0.797711 -0.034379\n",
       "2031-01-04  0.767239 -1.349358 -0.925965 -0.384152"
      ]
     },
     "execution_count": 24,
     "metadata": {},
     "output_type": "execute_result"
    }
   ],
   "source": [
    "df['20310102':'20310104']"
   ]
  },
  {
   "cell_type": "code",
   "execution_count": 25,
   "metadata": {
    "ExecuteTime": {
     "end_time": "2019-06-07T11:03:27.480545Z",
     "start_time": "2019-06-07T11:03:27.475094Z"
    }
   },
   "outputs": [
    {
     "data": {
      "text/plain": [
       "A    0.162226\n",
       "B    0.071008\n",
       "C   -0.868200\n",
       "D    0.191746\n",
       "Name: 2031-01-01 00:00:00, dtype: float64"
      ]
     },
     "execution_count": 25,
     "metadata": {},
     "output_type": "execute_result"
    }
   ],
   "source": [
    "df.loc[dates[0]]"
   ]
  },
  {
   "cell_type": "code",
   "execution_count": 26,
   "metadata": {
    "ExecuteTime": {
     "end_time": "2019-06-07T11:03:50.873764Z",
     "start_time": "2019-06-07T11:03:50.865206Z"
    }
   },
   "outputs": [
    {
     "data": {
      "text/html": [
       "<div>\n",
       "<style scoped>\n",
       "    .dataframe tbody tr th:only-of-type {\n",
       "        vertical-align: middle;\n",
       "    }\n",
       "\n",
       "    .dataframe tbody tr th {\n",
       "        vertical-align: top;\n",
       "    }\n",
       "\n",
       "    .dataframe thead th {\n",
       "        text-align: right;\n",
       "    }\n",
       "</style>\n",
       "<table border=\"1\" class=\"dataframe\">\n",
       "  <thead>\n",
       "    <tr style=\"text-align: right;\">\n",
       "      <th></th>\n",
       "      <th>A</th>\n",
       "      <th>B</th>\n",
       "    </tr>\n",
       "  </thead>\n",
       "  <tbody>\n",
       "    <tr>\n",
       "      <th>2031-01-01</th>\n",
       "      <td>0.162226</td>\n",
       "      <td>0.071008</td>\n",
       "    </tr>\n",
       "    <tr>\n",
       "      <th>2031-01-02</th>\n",
       "      <td>0.595785</td>\n",
       "      <td>0.891839</td>\n",
       "    </tr>\n",
       "    <tr>\n",
       "      <th>2031-01-03</th>\n",
       "      <td>-0.683741</td>\n",
       "      <td>1.437541</td>\n",
       "    </tr>\n",
       "    <tr>\n",
       "      <th>2031-01-04</th>\n",
       "      <td>0.767239</td>\n",
       "      <td>-1.349358</td>\n",
       "    </tr>\n",
       "    <tr>\n",
       "      <th>2031-01-05</th>\n",
       "      <td>-0.825114</td>\n",
       "      <td>-0.852004</td>\n",
       "    </tr>\n",
       "    <tr>\n",
       "      <th>2031-01-06</th>\n",
       "      <td>-0.036639</td>\n",
       "      <td>0.105031</td>\n",
       "    </tr>\n",
       "  </tbody>\n",
       "</table>\n",
       "</div>"
      ],
      "text/plain": [
       "                   A         B\n",
       "2031-01-01  0.162226  0.071008\n",
       "2031-01-02  0.595785  0.891839\n",
       "2031-01-03 -0.683741  1.437541\n",
       "2031-01-04  0.767239 -1.349358\n",
       "2031-01-05 -0.825114 -0.852004\n",
       "2031-01-06 -0.036639  0.105031"
      ]
     },
     "execution_count": 26,
     "metadata": {},
     "output_type": "execute_result"
    }
   ],
   "source": [
    "df.loc[:, ['A','B']]"
   ]
  },
  {
   "cell_type": "code",
   "execution_count": 27,
   "metadata": {
    "ExecuteTime": {
     "end_time": "2019-06-07T11:04:40.716420Z",
     "start_time": "2019-06-07T11:04:40.706891Z"
    }
   },
   "outputs": [
    {
     "data": {
      "text/html": [
       "<div>\n",
       "<style scoped>\n",
       "    .dataframe tbody tr th:only-of-type {\n",
       "        vertical-align: middle;\n",
       "    }\n",
       "\n",
       "    .dataframe tbody tr th {\n",
       "        vertical-align: top;\n",
       "    }\n",
       "\n",
       "    .dataframe thead th {\n",
       "        text-align: right;\n",
       "    }\n",
       "</style>\n",
       "<table border=\"1\" class=\"dataframe\">\n",
       "  <thead>\n",
       "    <tr style=\"text-align: right;\">\n",
       "      <th></th>\n",
       "      <th>A</th>\n",
       "      <th>C</th>\n",
       "    </tr>\n",
       "  </thead>\n",
       "  <tbody>\n",
       "    <tr>\n",
       "      <th>2031-01-01</th>\n",
       "      <td>0.162226</td>\n",
       "      <td>-0.868200</td>\n",
       "    </tr>\n",
       "    <tr>\n",
       "      <th>2031-01-02</th>\n",
       "      <td>0.595785</td>\n",
       "      <td>1.882152</td>\n",
       "    </tr>\n",
       "    <tr>\n",
       "      <th>2031-01-03</th>\n",
       "      <td>-0.683741</td>\n",
       "      <td>-0.797711</td>\n",
       "    </tr>\n",
       "    <tr>\n",
       "      <th>2031-01-04</th>\n",
       "      <td>0.767239</td>\n",
       "      <td>-0.925965</td>\n",
       "    </tr>\n",
       "  </tbody>\n",
       "</table>\n",
       "</div>"
      ],
      "text/plain": [
       "                   A         C\n",
       "2031-01-01  0.162226 -0.868200\n",
       "2031-01-02  0.595785  1.882152\n",
       "2031-01-03 -0.683741 -0.797711\n",
       "2031-01-04  0.767239 -0.925965"
      ]
     },
     "execution_count": 27,
     "metadata": {},
     "output_type": "execute_result"
    }
   ],
   "source": [
    "df.loc['20310101':'20310104',['A','C']]"
   ]
  },
  {
   "cell_type": "code",
   "execution_count": 28,
   "metadata": {
    "ExecuteTime": {
     "end_time": "2019-06-07T11:05:03.105464Z",
     "start_time": "2019-06-07T11:05:03.098437Z"
    }
   },
   "outputs": [
    {
     "data": {
      "text/plain": [
       "A    0.595785\n",
       "B    0.891839\n",
       "Name: 2031-01-02 00:00:00, dtype: float64"
      ]
     },
     "execution_count": 28,
     "metadata": {},
     "output_type": "execute_result"
    }
   ],
   "source": [
    "df.loc['20310102',['A','B']]"
   ]
  },
  {
   "cell_type": "code",
   "execution_count": 29,
   "metadata": {
    "ExecuteTime": {
     "end_time": "2019-06-07T11:06:13.886448Z",
     "start_time": "2019-06-07T11:06:13.881790Z"
    }
   },
   "outputs": [
    {
     "data": {
      "text/plain": [
       "0.16222615271767915"
      ]
     },
     "execution_count": 29,
     "metadata": {},
     "output_type": "execute_result"
    }
   ],
   "source": [
    "df.loc[dates[0],'A']"
   ]
  },
  {
   "cell_type": "code",
   "execution_count": 30,
   "metadata": {
    "ExecuteTime": {
     "end_time": "2019-06-07T11:07:27.766876Z",
     "start_time": "2019-06-07T11:07:27.762838Z"
    }
   },
   "outputs": [
    {
     "data": {
      "text/plain": [
       "0.16222615271767915"
      ]
     },
     "execution_count": 30,
     "metadata": {},
     "output_type": "execute_result"
    }
   ],
   "source": [
    "df.at[dates[0],'A']"
   ]
  },
  {
   "cell_type": "code",
   "execution_count": 31,
   "metadata": {
    "ExecuteTime": {
     "end_time": "2019-06-07T11:09:36.654109Z",
     "start_time": "2019-06-07T11:09:36.648753Z"
    }
   },
   "outputs": [
    {
     "data": {
      "text/plain": [
       "A    0.767239\n",
       "B   -1.349358\n",
       "C   -0.925965\n",
       "D   -0.384152\n",
       "Name: 2031-01-04 00:00:00, dtype: float64"
      ]
     },
     "execution_count": 31,
     "metadata": {},
     "output_type": "execute_result"
    }
   ],
   "source": [
    "df.iloc[3]"
   ]
  },
  {
   "cell_type": "code",
   "execution_count": 32,
   "metadata": {
    "ExecuteTime": {
     "end_time": "2019-06-07T11:10:41.071351Z",
     "start_time": "2019-06-07T11:10:41.064056Z"
    }
   },
   "outputs": [
    {
     "data": {
      "text/html": [
       "<div>\n",
       "<style scoped>\n",
       "    .dataframe tbody tr th:only-of-type {\n",
       "        vertical-align: middle;\n",
       "    }\n",
       "\n",
       "    .dataframe tbody tr th {\n",
       "        vertical-align: top;\n",
       "    }\n",
       "\n",
       "    .dataframe thead th {\n",
       "        text-align: right;\n",
       "    }\n",
       "</style>\n",
       "<table border=\"1\" class=\"dataframe\">\n",
       "  <thead>\n",
       "    <tr style=\"text-align: right;\">\n",
       "      <th></th>\n",
       "      <th>A</th>\n",
       "      <th>B</th>\n",
       "    </tr>\n",
       "  </thead>\n",
       "  <tbody>\n",
       "    <tr>\n",
       "      <th>2031-01-04</th>\n",
       "      <td>0.767239</td>\n",
       "      <td>-1.349358</td>\n",
       "    </tr>\n",
       "    <tr>\n",
       "      <th>2031-01-05</th>\n",
       "      <td>-0.825114</td>\n",
       "      <td>-0.852004</td>\n",
       "    </tr>\n",
       "  </tbody>\n",
       "</table>\n",
       "</div>"
      ],
      "text/plain": [
       "                   A         B\n",
       "2031-01-04  0.767239 -1.349358\n",
       "2031-01-05 -0.825114 -0.852004"
      ]
     },
     "execution_count": 32,
     "metadata": {},
     "output_type": "execute_result"
    }
   ],
   "source": [
    "df.iloc[3:5,0:2]"
   ]
  },
  {
   "cell_type": "code",
   "execution_count": 33,
   "metadata": {
    "ExecuteTime": {
     "end_time": "2019-06-07T11:13:50.951559Z",
     "start_time": "2019-06-07T11:13:50.943252Z"
    }
   },
   "outputs": [
    {
     "data": {
      "text/html": [
       "<div>\n",
       "<style scoped>\n",
       "    .dataframe tbody tr th:only-of-type {\n",
       "        vertical-align: middle;\n",
       "    }\n",
       "\n",
       "    .dataframe tbody tr th {\n",
       "        vertical-align: top;\n",
       "    }\n",
       "\n",
       "    .dataframe thead th {\n",
       "        text-align: right;\n",
       "    }\n",
       "</style>\n",
       "<table border=\"1\" class=\"dataframe\">\n",
       "  <thead>\n",
       "    <tr style=\"text-align: right;\">\n",
       "      <th></th>\n",
       "      <th>A</th>\n",
       "      <th>B</th>\n",
       "      <th>C</th>\n",
       "      <th>D</th>\n",
       "    </tr>\n",
       "  </thead>\n",
       "  <tbody>\n",
       "    <tr>\n",
       "      <th>2031-01-02</th>\n",
       "      <td>0.595785</td>\n",
       "      <td>0.891839</td>\n",
       "      <td>1.882152</td>\n",
       "      <td>-0.622370</td>\n",
       "    </tr>\n",
       "    <tr>\n",
       "      <th>2031-01-03</th>\n",
       "      <td>-0.683741</td>\n",
       "      <td>1.437541</td>\n",
       "      <td>-0.797711</td>\n",
       "      <td>-0.034379</td>\n",
       "    </tr>\n",
       "  </tbody>\n",
       "</table>\n",
       "</div>"
      ],
      "text/plain": [
       "                   A         B         C         D\n",
       "2031-01-02  0.595785  0.891839  1.882152 -0.622370\n",
       "2031-01-03 -0.683741  1.437541 -0.797711 -0.034379"
      ]
     },
     "execution_count": 33,
     "metadata": {},
     "output_type": "execute_result"
    }
   ],
   "source": [
    "df.iloc[1:3,:]"
   ]
  },
  {
   "cell_type": "code",
   "execution_count": 34,
   "metadata": {
    "ExecuteTime": {
     "end_time": "2019-06-07T11:17:28.062213Z",
     "start_time": "2019-06-07T11:17:28.053529Z"
    }
   },
   "outputs": [
    {
     "data": {
      "text/html": [
       "<div>\n",
       "<style scoped>\n",
       "    .dataframe tbody tr th:only-of-type {\n",
       "        vertical-align: middle;\n",
       "    }\n",
       "\n",
       "    .dataframe tbody tr th {\n",
       "        vertical-align: top;\n",
       "    }\n",
       "\n",
       "    .dataframe thead th {\n",
       "        text-align: right;\n",
       "    }\n",
       "</style>\n",
       "<table border=\"1\" class=\"dataframe\">\n",
       "  <thead>\n",
       "    <tr style=\"text-align: right;\">\n",
       "      <th></th>\n",
       "      <th>A</th>\n",
       "      <th>C</th>\n",
       "    </tr>\n",
       "  </thead>\n",
       "  <tbody>\n",
       "    <tr>\n",
       "      <th>2031-01-02</th>\n",
       "      <td>0.595785</td>\n",
       "      <td>1.882152</td>\n",
       "    </tr>\n",
       "    <tr>\n",
       "      <th>2031-01-03</th>\n",
       "      <td>-0.683741</td>\n",
       "      <td>-0.797711</td>\n",
       "    </tr>\n",
       "    <tr>\n",
       "      <th>2031-01-05</th>\n",
       "      <td>-0.825114</td>\n",
       "      <td>0.265521</td>\n",
       "    </tr>\n",
       "  </tbody>\n",
       "</table>\n",
       "</div>"
      ],
      "text/plain": [
       "                   A         C\n",
       "2031-01-02  0.595785  1.882152\n",
       "2031-01-03 -0.683741 -0.797711\n",
       "2031-01-05 -0.825114  0.265521"
      ]
     },
     "execution_count": 34,
     "metadata": {},
     "output_type": "execute_result"
    }
   ],
   "source": [
    "df.iloc[[1,2,4],[0,2]]"
   ]
  },
  {
   "cell_type": "code",
   "execution_count": 35,
   "metadata": {
    "ExecuteTime": {
     "end_time": "2019-06-07T11:20:17.698668Z",
     "start_time": "2019-06-07T11:20:17.690089Z"
    }
   },
   "outputs": [
    {
     "data": {
      "text/html": [
       "<div>\n",
       "<style scoped>\n",
       "    .dataframe tbody tr th:only-of-type {\n",
       "        vertical-align: middle;\n",
       "    }\n",
       "\n",
       "    .dataframe tbody tr th {\n",
       "        vertical-align: top;\n",
       "    }\n",
       "\n",
       "    .dataframe thead th {\n",
       "        text-align: right;\n",
       "    }\n",
       "</style>\n",
       "<table border=\"1\" class=\"dataframe\">\n",
       "  <thead>\n",
       "    <tr style=\"text-align: right;\">\n",
       "      <th></th>\n",
       "      <th>A</th>\n",
       "      <th>B</th>\n",
       "      <th>C</th>\n",
       "      <th>D</th>\n",
       "    </tr>\n",
       "  </thead>\n",
       "  <tbody>\n",
       "    <tr>\n",
       "      <th>2031-01-02</th>\n",
       "      <td>0.595785</td>\n",
       "      <td>0.891839</td>\n",
       "      <td>1.882152</td>\n",
       "      <td>-0.622370</td>\n",
       "    </tr>\n",
       "    <tr>\n",
       "      <th>2031-01-03</th>\n",
       "      <td>-0.683741</td>\n",
       "      <td>1.437541</td>\n",
       "      <td>-0.797711</td>\n",
       "      <td>-0.034379</td>\n",
       "    </tr>\n",
       "  </tbody>\n",
       "</table>\n",
       "</div>"
      ],
      "text/plain": [
       "                   A         B         C         D\n",
       "2031-01-02  0.595785  0.891839  1.882152 -0.622370\n",
       "2031-01-03 -0.683741  1.437541 -0.797711 -0.034379"
      ]
     },
     "execution_count": 35,
     "metadata": {},
     "output_type": "execute_result"
    }
   ],
   "source": [
    "df.iloc[1:3,:]"
   ]
  },
  {
   "cell_type": "code",
   "execution_count": 36,
   "metadata": {
    "ExecuteTime": {
     "end_time": "2019-06-07T11:22:19.584316Z",
     "start_time": "2019-06-07T11:22:19.576738Z"
    }
   },
   "outputs": [
    {
     "data": {
      "text/html": [
       "<div>\n",
       "<style scoped>\n",
       "    .dataframe tbody tr th:only-of-type {\n",
       "        vertical-align: middle;\n",
       "    }\n",
       "\n",
       "    .dataframe tbody tr th {\n",
       "        vertical-align: top;\n",
       "    }\n",
       "\n",
       "    .dataframe thead th {\n",
       "        text-align: right;\n",
       "    }\n",
       "</style>\n",
       "<table border=\"1\" class=\"dataframe\">\n",
       "  <thead>\n",
       "    <tr style=\"text-align: right;\">\n",
       "      <th></th>\n",
       "      <th>A</th>\n",
       "      <th>B</th>\n",
       "      <th>C</th>\n",
       "      <th>D</th>\n",
       "    </tr>\n",
       "  </thead>\n",
       "  <tbody>\n",
       "    <tr>\n",
       "      <th>2031-01-02</th>\n",
       "      <td>0.595785</td>\n",
       "      <td>0.891839</td>\n",
       "      <td>1.882152</td>\n",
       "      <td>-0.622370</td>\n",
       "    </tr>\n",
       "    <tr>\n",
       "      <th>2031-01-03</th>\n",
       "      <td>-0.683741</td>\n",
       "      <td>1.437541</td>\n",
       "      <td>-0.797711</td>\n",
       "      <td>-0.034379</td>\n",
       "    </tr>\n",
       "  </tbody>\n",
       "</table>\n",
       "</div>"
      ],
      "text/plain": [
       "                   A         B         C         D\n",
       "2031-01-02  0.595785  0.891839  1.882152 -0.622370\n",
       "2031-01-03 -0.683741  1.437541 -0.797711 -0.034379"
      ]
     },
     "execution_count": 36,
     "metadata": {},
     "output_type": "execute_result"
    }
   ],
   "source": [
    "df.iloc[1:3,:]"
   ]
  },
  {
   "cell_type": "code",
   "execution_count": 37,
   "metadata": {
    "ExecuteTime": {
     "end_time": "2019-06-07T11:22:25.553640Z",
     "start_time": "2019-06-07T11:22:25.545763Z"
    }
   },
   "outputs": [
    {
     "data": {
      "text/html": [
       "<div>\n",
       "<style scoped>\n",
       "    .dataframe tbody tr th:only-of-type {\n",
       "        vertical-align: middle;\n",
       "    }\n",
       "\n",
       "    .dataframe tbody tr th {\n",
       "        vertical-align: top;\n",
       "    }\n",
       "\n",
       "    .dataframe thead th {\n",
       "        text-align: right;\n",
       "    }\n",
       "</style>\n",
       "<table border=\"1\" class=\"dataframe\">\n",
       "  <thead>\n",
       "    <tr style=\"text-align: right;\">\n",
       "      <th></th>\n",
       "      <th>B</th>\n",
       "      <th>C</th>\n",
       "    </tr>\n",
       "  </thead>\n",
       "  <tbody>\n",
       "    <tr>\n",
       "      <th>2031-01-01</th>\n",
       "      <td>0.071008</td>\n",
       "      <td>-0.868200</td>\n",
       "    </tr>\n",
       "    <tr>\n",
       "      <th>2031-01-02</th>\n",
       "      <td>0.891839</td>\n",
       "      <td>1.882152</td>\n",
       "    </tr>\n",
       "    <tr>\n",
       "      <th>2031-01-03</th>\n",
       "      <td>1.437541</td>\n",
       "      <td>-0.797711</td>\n",
       "    </tr>\n",
       "    <tr>\n",
       "      <th>2031-01-04</th>\n",
       "      <td>-1.349358</td>\n",
       "      <td>-0.925965</td>\n",
       "    </tr>\n",
       "    <tr>\n",
       "      <th>2031-01-05</th>\n",
       "      <td>-0.852004</td>\n",
       "      <td>0.265521</td>\n",
       "    </tr>\n",
       "    <tr>\n",
       "      <th>2031-01-06</th>\n",
       "      <td>0.105031</td>\n",
       "      <td>-1.365430</td>\n",
       "    </tr>\n",
       "  </tbody>\n",
       "</table>\n",
       "</div>"
      ],
      "text/plain": [
       "                   B         C\n",
       "2031-01-01  0.071008 -0.868200\n",
       "2031-01-02  0.891839  1.882152\n",
       "2031-01-03  1.437541 -0.797711\n",
       "2031-01-04 -1.349358 -0.925965\n",
       "2031-01-05 -0.852004  0.265521\n",
       "2031-01-06  0.105031 -1.365430"
      ]
     },
     "execution_count": 37,
     "metadata": {},
     "output_type": "execute_result"
    }
   ],
   "source": [
    "df.iloc[:,1:3]"
   ]
  },
  {
   "cell_type": "code",
   "execution_count": 38,
   "metadata": {
    "ExecuteTime": {
     "end_time": "2019-06-07T11:23:32.514791Z",
     "start_time": "2019-06-07T11:23:32.510994Z"
    }
   },
   "outputs": [
    {
     "data": {
      "text/plain": [
       "0.8918393239193134"
      ]
     },
     "execution_count": 38,
     "metadata": {},
     "output_type": "execute_result"
    }
   ],
   "source": [
    "df.iloc[1,1]"
   ]
  },
  {
   "cell_type": "code",
   "execution_count": 39,
   "metadata": {
    "ExecuteTime": {
     "end_time": "2019-06-07T11:23:41.149983Z",
     "start_time": "2019-06-07T11:23:41.146089Z"
    }
   },
   "outputs": [
    {
     "data": {
      "text/plain": [
       "0.8918393239193134"
      ]
     },
     "execution_count": 39,
     "metadata": {},
     "output_type": "execute_result"
    }
   ],
   "source": [
    "df.iat[1,1]"
   ]
  },
  {
   "cell_type": "code",
   "execution_count": 40,
   "metadata": {
    "ExecuteTime": {
     "end_time": "2019-06-07T11:24:08.249597Z",
     "start_time": "2019-06-07T11:24:08.241431Z"
    }
   },
   "outputs": [
    {
     "data": {
      "text/html": [
       "<div>\n",
       "<style scoped>\n",
       "    .dataframe tbody tr th:only-of-type {\n",
       "        vertical-align: middle;\n",
       "    }\n",
       "\n",
       "    .dataframe tbody tr th {\n",
       "        vertical-align: top;\n",
       "    }\n",
       "\n",
       "    .dataframe thead th {\n",
       "        text-align: right;\n",
       "    }\n",
       "</style>\n",
       "<table border=\"1\" class=\"dataframe\">\n",
       "  <thead>\n",
       "    <tr style=\"text-align: right;\">\n",
       "      <th></th>\n",
       "      <th>A</th>\n",
       "      <th>B</th>\n",
       "      <th>C</th>\n",
       "      <th>D</th>\n",
       "    </tr>\n",
       "  </thead>\n",
       "  <tbody>\n",
       "    <tr>\n",
       "      <th>2031-01-01</th>\n",
       "      <td>0.162226</td>\n",
       "      <td>0.071008</td>\n",
       "      <td>-0.868200</td>\n",
       "      <td>0.191746</td>\n",
       "    </tr>\n",
       "    <tr>\n",
       "      <th>2031-01-02</th>\n",
       "      <td>0.595785</td>\n",
       "      <td>0.891839</td>\n",
       "      <td>1.882152</td>\n",
       "      <td>-0.622370</td>\n",
       "    </tr>\n",
       "    <tr>\n",
       "      <th>2031-01-04</th>\n",
       "      <td>0.767239</td>\n",
       "      <td>-1.349358</td>\n",
       "      <td>-0.925965</td>\n",
       "      <td>-0.384152</td>\n",
       "    </tr>\n",
       "  </tbody>\n",
       "</table>\n",
       "</div>"
      ],
      "text/plain": [
       "                   A         B         C         D\n",
       "2031-01-01  0.162226  0.071008 -0.868200  0.191746\n",
       "2031-01-02  0.595785  0.891839  1.882152 -0.622370\n",
       "2031-01-04  0.767239 -1.349358 -0.925965 -0.384152"
      ]
     },
     "execution_count": 40,
     "metadata": {},
     "output_type": "execute_result"
    }
   ],
   "source": [
    "df[df.A > 0]"
   ]
  },
  {
   "cell_type": "code",
   "execution_count": 41,
   "metadata": {
    "ExecuteTime": {
     "end_time": "2019-06-07T11:26:54.637961Z",
     "start_time": "2019-06-07T11:26:54.627927Z"
    }
   },
   "outputs": [
    {
     "data": {
      "text/html": [
       "<div>\n",
       "<style scoped>\n",
       "    .dataframe tbody tr th:only-of-type {\n",
       "        vertical-align: middle;\n",
       "    }\n",
       "\n",
       "    .dataframe tbody tr th {\n",
       "        vertical-align: top;\n",
       "    }\n",
       "\n",
       "    .dataframe thead th {\n",
       "        text-align: right;\n",
       "    }\n",
       "</style>\n",
       "<table border=\"1\" class=\"dataframe\">\n",
       "  <thead>\n",
       "    <tr style=\"text-align: right;\">\n",
       "      <th></th>\n",
       "      <th>A</th>\n",
       "      <th>B</th>\n",
       "      <th>C</th>\n",
       "      <th>D</th>\n",
       "    </tr>\n",
       "  </thead>\n",
       "  <tbody>\n",
       "    <tr>\n",
       "      <th>2031-01-01</th>\n",
       "      <td>0.162226</td>\n",
       "      <td>0.071008</td>\n",
       "      <td>NaN</td>\n",
       "      <td>0.191746</td>\n",
       "    </tr>\n",
       "    <tr>\n",
       "      <th>2031-01-02</th>\n",
       "      <td>0.595785</td>\n",
       "      <td>0.891839</td>\n",
       "      <td>1.882152</td>\n",
       "      <td>NaN</td>\n",
       "    </tr>\n",
       "    <tr>\n",
       "      <th>2031-01-03</th>\n",
       "      <td>NaN</td>\n",
       "      <td>1.437541</td>\n",
       "      <td>NaN</td>\n",
       "      <td>NaN</td>\n",
       "    </tr>\n",
       "    <tr>\n",
       "      <th>2031-01-04</th>\n",
       "      <td>0.767239</td>\n",
       "      <td>NaN</td>\n",
       "      <td>NaN</td>\n",
       "      <td>NaN</td>\n",
       "    </tr>\n",
       "    <tr>\n",
       "      <th>2031-01-05</th>\n",
       "      <td>NaN</td>\n",
       "      <td>NaN</td>\n",
       "      <td>0.265521</td>\n",
       "      <td>0.633665</td>\n",
       "    </tr>\n",
       "    <tr>\n",
       "      <th>2031-01-06</th>\n",
       "      <td>NaN</td>\n",
       "      <td>0.105031</td>\n",
       "      <td>NaN</td>\n",
       "      <td>NaN</td>\n",
       "    </tr>\n",
       "  </tbody>\n",
       "</table>\n",
       "</div>"
      ],
      "text/plain": [
       "                   A         B         C         D\n",
       "2031-01-01  0.162226  0.071008       NaN  0.191746\n",
       "2031-01-02  0.595785  0.891839  1.882152       NaN\n",
       "2031-01-03       NaN  1.437541       NaN       NaN\n",
       "2031-01-04  0.767239       NaN       NaN       NaN\n",
       "2031-01-05       NaN       NaN  0.265521  0.633665\n",
       "2031-01-06       NaN  0.105031       NaN       NaN"
      ]
     },
     "execution_count": 41,
     "metadata": {},
     "output_type": "execute_result"
    }
   ],
   "source": [
    "df[df>0]"
   ]
  },
  {
   "cell_type": "code",
   "execution_count": 42,
   "metadata": {
    "ExecuteTime": {
     "end_time": "2019-06-07T11:27:47.876888Z",
     "start_time": "2019-06-07T11:27:47.871082Z"
    }
   },
   "outputs": [],
   "source": [
    "df2 = df.copy()\n",
    "df2['E'] = ['one','one','two','three','four','three']"
   ]
  },
  {
   "cell_type": "code",
   "execution_count": 43,
   "metadata": {
    "ExecuteTime": {
     "end_time": "2019-06-07T11:27:50.223966Z",
     "start_time": "2019-06-07T11:27:50.214714Z"
    }
   },
   "outputs": [
    {
     "data": {
      "text/html": [
       "<div>\n",
       "<style scoped>\n",
       "    .dataframe tbody tr th:only-of-type {\n",
       "        vertical-align: middle;\n",
       "    }\n",
       "\n",
       "    .dataframe tbody tr th {\n",
       "        vertical-align: top;\n",
       "    }\n",
       "\n",
       "    .dataframe thead th {\n",
       "        text-align: right;\n",
       "    }\n",
       "</style>\n",
       "<table border=\"1\" class=\"dataframe\">\n",
       "  <thead>\n",
       "    <tr style=\"text-align: right;\">\n",
       "      <th></th>\n",
       "      <th>A</th>\n",
       "      <th>B</th>\n",
       "      <th>C</th>\n",
       "      <th>D</th>\n",
       "      <th>E</th>\n",
       "    </tr>\n",
       "  </thead>\n",
       "  <tbody>\n",
       "    <tr>\n",
       "      <th>2031-01-01</th>\n",
       "      <td>0.162226</td>\n",
       "      <td>0.071008</td>\n",
       "      <td>-0.868200</td>\n",
       "      <td>0.191746</td>\n",
       "      <td>one</td>\n",
       "    </tr>\n",
       "    <tr>\n",
       "      <th>2031-01-02</th>\n",
       "      <td>0.595785</td>\n",
       "      <td>0.891839</td>\n",
       "      <td>1.882152</td>\n",
       "      <td>-0.622370</td>\n",
       "      <td>one</td>\n",
       "    </tr>\n",
       "    <tr>\n",
       "      <th>2031-01-03</th>\n",
       "      <td>-0.683741</td>\n",
       "      <td>1.437541</td>\n",
       "      <td>-0.797711</td>\n",
       "      <td>-0.034379</td>\n",
       "      <td>two</td>\n",
       "    </tr>\n",
       "    <tr>\n",
       "      <th>2031-01-04</th>\n",
       "      <td>0.767239</td>\n",
       "      <td>-1.349358</td>\n",
       "      <td>-0.925965</td>\n",
       "      <td>-0.384152</td>\n",
       "      <td>three</td>\n",
       "    </tr>\n",
       "    <tr>\n",
       "      <th>2031-01-05</th>\n",
       "      <td>-0.825114</td>\n",
       "      <td>-0.852004</td>\n",
       "      <td>0.265521</td>\n",
       "      <td>0.633665</td>\n",
       "      <td>four</td>\n",
       "    </tr>\n",
       "    <tr>\n",
       "      <th>2031-01-06</th>\n",
       "      <td>-0.036639</td>\n",
       "      <td>0.105031</td>\n",
       "      <td>-1.365430</td>\n",
       "      <td>-0.026106</td>\n",
       "      <td>three</td>\n",
       "    </tr>\n",
       "  </tbody>\n",
       "</table>\n",
       "</div>"
      ],
      "text/plain": [
       "                   A         B         C         D      E\n",
       "2031-01-01  0.162226  0.071008 -0.868200  0.191746    one\n",
       "2031-01-02  0.595785  0.891839  1.882152 -0.622370    one\n",
       "2031-01-03 -0.683741  1.437541 -0.797711 -0.034379    two\n",
       "2031-01-04  0.767239 -1.349358 -0.925965 -0.384152  three\n",
       "2031-01-05 -0.825114 -0.852004  0.265521  0.633665   four\n",
       "2031-01-06 -0.036639  0.105031 -1.365430 -0.026106  three"
      ]
     },
     "execution_count": 43,
     "metadata": {},
     "output_type": "execute_result"
    }
   ],
   "source": [
    "df2"
   ]
  },
  {
   "cell_type": "code",
   "execution_count": 44,
   "metadata": {
    "ExecuteTime": {
     "end_time": "2019-06-07T11:29:00.729965Z",
     "start_time": "2019-06-07T11:29:00.720116Z"
    }
   },
   "outputs": [
    {
     "data": {
      "text/html": [
       "<div>\n",
       "<style scoped>\n",
       "    .dataframe tbody tr th:only-of-type {\n",
       "        vertical-align: middle;\n",
       "    }\n",
       "\n",
       "    .dataframe tbody tr th {\n",
       "        vertical-align: top;\n",
       "    }\n",
       "\n",
       "    .dataframe thead th {\n",
       "        text-align: right;\n",
       "    }\n",
       "</style>\n",
       "<table border=\"1\" class=\"dataframe\">\n",
       "  <thead>\n",
       "    <tr style=\"text-align: right;\">\n",
       "      <th></th>\n",
       "      <th>A</th>\n",
       "      <th>B</th>\n",
       "      <th>C</th>\n",
       "      <th>D</th>\n",
       "      <th>E</th>\n",
       "    </tr>\n",
       "  </thead>\n",
       "  <tbody>\n",
       "    <tr>\n",
       "      <th>2031-01-03</th>\n",
       "      <td>-0.683741</td>\n",
       "      <td>1.437541</td>\n",
       "      <td>-0.797711</td>\n",
       "      <td>-0.034379</td>\n",
       "      <td>two</td>\n",
       "    </tr>\n",
       "    <tr>\n",
       "      <th>2031-01-05</th>\n",
       "      <td>-0.825114</td>\n",
       "      <td>-0.852004</td>\n",
       "      <td>0.265521</td>\n",
       "      <td>0.633665</td>\n",
       "      <td>four</td>\n",
       "    </tr>\n",
       "  </tbody>\n",
       "</table>\n",
       "</div>"
      ],
      "text/plain": [
       "                   A         B         C         D     E\n",
       "2031-01-03 -0.683741  1.437541 -0.797711 -0.034379   two\n",
       "2031-01-05 -0.825114 -0.852004  0.265521  0.633665  four"
      ]
     },
     "execution_count": 44,
     "metadata": {},
     "output_type": "execute_result"
    }
   ],
   "source": [
    "df2[df2['E'].isin(['two','four'])]"
   ]
  },
  {
   "cell_type": "code",
   "execution_count": 45,
   "metadata": {
    "ExecuteTime": {
     "end_time": "2019-06-07T11:33:52.563677Z",
     "start_time": "2019-06-07T11:33:52.560217Z"
    }
   },
   "outputs": [],
   "source": [
    "s1= pd.Series([1,2,3,4,5,6],index=pd.date_range('20310102',periods=6))"
   ]
  },
  {
   "cell_type": "code",
   "execution_count": 46,
   "metadata": {
    "ExecuteTime": {
     "end_time": "2019-06-07T11:31:40.266399Z",
     "start_time": "2019-06-07T11:31:40.261940Z"
    }
   },
   "outputs": [
    {
     "data": {
      "text/plain": [
       "2031-01-02    1\n",
       "2031-01-03    2\n",
       "2031-01-04    3\n",
       "2031-01-05    4\n",
       "2031-01-06    5\n",
       "2031-01-07    6\n",
       "Freq: D, dtype: int64"
      ]
     },
     "execution_count": 46,
     "metadata": {},
     "output_type": "execute_result"
    }
   ],
   "source": [
    "s1"
   ]
  },
  {
   "cell_type": "code",
   "execution_count": 47,
   "metadata": {
    "ExecuteTime": {
     "end_time": "2019-06-07T11:33:31.439443Z",
     "start_time": "2019-06-07T11:33:31.434810Z"
    }
   },
   "outputs": [
    {
     "data": {
      "text/plain": [
       "2031-01-02    1\n",
       "2031-01-03    2\n",
       "2031-01-04    3\n",
       "2031-01-05    4\n",
       "2031-01-06    5\n",
       "2031-01-07    6\n",
       "Freq: D, dtype: int64"
      ]
     },
     "execution_count": 47,
     "metadata": {},
     "output_type": "execute_result"
    }
   ],
   "source": [
    "s1"
   ]
  },
  {
   "cell_type": "code",
   "execution_count": 48,
   "metadata": {
    "ExecuteTime": {
     "end_time": "2019-06-07T11:33:55.053310Z",
     "start_time": "2019-06-07T11:33:55.049875Z"
    }
   },
   "outputs": [],
   "source": [
    "df['F'] = s1"
   ]
  },
  {
   "cell_type": "code",
   "execution_count": 49,
   "metadata": {
    "ExecuteTime": {
     "end_time": "2019-06-07T11:33:57.818320Z",
     "start_time": "2019-06-07T11:33:57.809022Z"
    }
   },
   "outputs": [
    {
     "data": {
      "text/html": [
       "<div>\n",
       "<style scoped>\n",
       "    .dataframe tbody tr th:only-of-type {\n",
       "        vertical-align: middle;\n",
       "    }\n",
       "\n",
       "    .dataframe tbody tr th {\n",
       "        vertical-align: top;\n",
       "    }\n",
       "\n",
       "    .dataframe thead th {\n",
       "        text-align: right;\n",
       "    }\n",
       "</style>\n",
       "<table border=\"1\" class=\"dataframe\">\n",
       "  <thead>\n",
       "    <tr style=\"text-align: right;\">\n",
       "      <th></th>\n",
       "      <th>A</th>\n",
       "      <th>B</th>\n",
       "      <th>C</th>\n",
       "      <th>D</th>\n",
       "      <th>F</th>\n",
       "    </tr>\n",
       "  </thead>\n",
       "  <tbody>\n",
       "    <tr>\n",
       "      <th>2031-01-01</th>\n",
       "      <td>0.162226</td>\n",
       "      <td>0.071008</td>\n",
       "      <td>-0.868200</td>\n",
       "      <td>0.191746</td>\n",
       "      <td>NaN</td>\n",
       "    </tr>\n",
       "    <tr>\n",
       "      <th>2031-01-02</th>\n",
       "      <td>0.595785</td>\n",
       "      <td>0.891839</td>\n",
       "      <td>1.882152</td>\n",
       "      <td>-0.622370</td>\n",
       "      <td>1.0</td>\n",
       "    </tr>\n",
       "    <tr>\n",
       "      <th>2031-01-03</th>\n",
       "      <td>-0.683741</td>\n",
       "      <td>1.437541</td>\n",
       "      <td>-0.797711</td>\n",
       "      <td>-0.034379</td>\n",
       "      <td>2.0</td>\n",
       "    </tr>\n",
       "    <tr>\n",
       "      <th>2031-01-04</th>\n",
       "      <td>0.767239</td>\n",
       "      <td>-1.349358</td>\n",
       "      <td>-0.925965</td>\n",
       "      <td>-0.384152</td>\n",
       "      <td>3.0</td>\n",
       "    </tr>\n",
       "    <tr>\n",
       "      <th>2031-01-05</th>\n",
       "      <td>-0.825114</td>\n",
       "      <td>-0.852004</td>\n",
       "      <td>0.265521</td>\n",
       "      <td>0.633665</td>\n",
       "      <td>4.0</td>\n",
       "    </tr>\n",
       "    <tr>\n",
       "      <th>2031-01-06</th>\n",
       "      <td>-0.036639</td>\n",
       "      <td>0.105031</td>\n",
       "      <td>-1.365430</td>\n",
       "      <td>-0.026106</td>\n",
       "      <td>5.0</td>\n",
       "    </tr>\n",
       "  </tbody>\n",
       "</table>\n",
       "</div>"
      ],
      "text/plain": [
       "                   A         B         C         D    F\n",
       "2031-01-01  0.162226  0.071008 -0.868200  0.191746  NaN\n",
       "2031-01-02  0.595785  0.891839  1.882152 -0.622370  1.0\n",
       "2031-01-03 -0.683741  1.437541 -0.797711 -0.034379  2.0\n",
       "2031-01-04  0.767239 -1.349358 -0.925965 -0.384152  3.0\n",
       "2031-01-05 -0.825114 -0.852004  0.265521  0.633665  4.0\n",
       "2031-01-06 -0.036639  0.105031 -1.365430 -0.026106  5.0"
      ]
     },
     "execution_count": 49,
     "metadata": {},
     "output_type": "execute_result"
    }
   ],
   "source": [
    "df"
   ]
  },
  {
   "cell_type": "code",
   "execution_count": 50,
   "metadata": {
    "ExecuteTime": {
     "end_time": "2019-06-07T11:38:54.075995Z",
     "start_time": "2019-06-07T11:38:54.072925Z"
    }
   },
   "outputs": [],
   "source": [
    "df.at[dates[0],'A'] = 0"
   ]
  },
  {
   "cell_type": "code",
   "execution_count": 51,
   "metadata": {
    "ExecuteTime": {
     "end_time": "2019-06-07T11:38:57.529412Z",
     "start_time": "2019-06-07T11:38:57.519901Z"
    }
   },
   "outputs": [
    {
     "data": {
      "text/html": [
       "<div>\n",
       "<style scoped>\n",
       "    .dataframe tbody tr th:only-of-type {\n",
       "        vertical-align: middle;\n",
       "    }\n",
       "\n",
       "    .dataframe tbody tr th {\n",
       "        vertical-align: top;\n",
       "    }\n",
       "\n",
       "    .dataframe thead th {\n",
       "        text-align: right;\n",
       "    }\n",
       "</style>\n",
       "<table border=\"1\" class=\"dataframe\">\n",
       "  <thead>\n",
       "    <tr style=\"text-align: right;\">\n",
       "      <th></th>\n",
       "      <th>A</th>\n",
       "      <th>B</th>\n",
       "      <th>C</th>\n",
       "      <th>D</th>\n",
       "      <th>F</th>\n",
       "    </tr>\n",
       "  </thead>\n",
       "  <tbody>\n",
       "    <tr>\n",
       "      <th>2031-01-01</th>\n",
       "      <td>0.000000</td>\n",
       "      <td>0.071008</td>\n",
       "      <td>-0.868200</td>\n",
       "      <td>0.191746</td>\n",
       "      <td>NaN</td>\n",
       "    </tr>\n",
       "    <tr>\n",
       "      <th>2031-01-02</th>\n",
       "      <td>0.595785</td>\n",
       "      <td>0.891839</td>\n",
       "      <td>1.882152</td>\n",
       "      <td>-0.622370</td>\n",
       "      <td>1.0</td>\n",
       "    </tr>\n",
       "    <tr>\n",
       "      <th>2031-01-03</th>\n",
       "      <td>-0.683741</td>\n",
       "      <td>1.437541</td>\n",
       "      <td>-0.797711</td>\n",
       "      <td>-0.034379</td>\n",
       "      <td>2.0</td>\n",
       "    </tr>\n",
       "    <tr>\n",
       "      <th>2031-01-04</th>\n",
       "      <td>0.767239</td>\n",
       "      <td>-1.349358</td>\n",
       "      <td>-0.925965</td>\n",
       "      <td>-0.384152</td>\n",
       "      <td>3.0</td>\n",
       "    </tr>\n",
       "    <tr>\n",
       "      <th>2031-01-05</th>\n",
       "      <td>-0.825114</td>\n",
       "      <td>-0.852004</td>\n",
       "      <td>0.265521</td>\n",
       "      <td>0.633665</td>\n",
       "      <td>4.0</td>\n",
       "    </tr>\n",
       "    <tr>\n",
       "      <th>2031-01-06</th>\n",
       "      <td>-0.036639</td>\n",
       "      <td>0.105031</td>\n",
       "      <td>-1.365430</td>\n",
       "      <td>-0.026106</td>\n",
       "      <td>5.0</td>\n",
       "    </tr>\n",
       "  </tbody>\n",
       "</table>\n",
       "</div>"
      ],
      "text/plain": [
       "                   A         B         C         D    F\n",
       "2031-01-01  0.000000  0.071008 -0.868200  0.191746  NaN\n",
       "2031-01-02  0.595785  0.891839  1.882152 -0.622370  1.0\n",
       "2031-01-03 -0.683741  1.437541 -0.797711 -0.034379  2.0\n",
       "2031-01-04  0.767239 -1.349358 -0.925965 -0.384152  3.0\n",
       "2031-01-05 -0.825114 -0.852004  0.265521  0.633665  4.0\n",
       "2031-01-06 -0.036639  0.105031 -1.365430 -0.026106  5.0"
      ]
     },
     "execution_count": 51,
     "metadata": {},
     "output_type": "execute_result"
    }
   ],
   "source": [
    "df"
   ]
  },
  {
   "cell_type": "code",
   "execution_count": 52,
   "metadata": {
    "ExecuteTime": {
     "end_time": "2019-06-07T11:39:08.194539Z",
     "start_time": "2019-06-07T11:39:08.191704Z"
    }
   },
   "outputs": [],
   "source": [
    "df.iat[0,1] = 0"
   ]
  },
  {
   "cell_type": "code",
   "execution_count": 53,
   "metadata": {
    "ExecuteTime": {
     "end_time": "2019-06-07T11:39:09.152809Z",
     "start_time": "2019-06-07T11:39:09.143541Z"
    }
   },
   "outputs": [
    {
     "data": {
      "text/html": [
       "<div>\n",
       "<style scoped>\n",
       "    .dataframe tbody tr th:only-of-type {\n",
       "        vertical-align: middle;\n",
       "    }\n",
       "\n",
       "    .dataframe tbody tr th {\n",
       "        vertical-align: top;\n",
       "    }\n",
       "\n",
       "    .dataframe thead th {\n",
       "        text-align: right;\n",
       "    }\n",
       "</style>\n",
       "<table border=\"1\" class=\"dataframe\">\n",
       "  <thead>\n",
       "    <tr style=\"text-align: right;\">\n",
       "      <th></th>\n",
       "      <th>A</th>\n",
       "      <th>B</th>\n",
       "      <th>C</th>\n",
       "      <th>D</th>\n",
       "      <th>F</th>\n",
       "    </tr>\n",
       "  </thead>\n",
       "  <tbody>\n",
       "    <tr>\n",
       "      <th>2031-01-01</th>\n",
       "      <td>0.000000</td>\n",
       "      <td>0.000000</td>\n",
       "      <td>-0.868200</td>\n",
       "      <td>0.191746</td>\n",
       "      <td>NaN</td>\n",
       "    </tr>\n",
       "    <tr>\n",
       "      <th>2031-01-02</th>\n",
       "      <td>0.595785</td>\n",
       "      <td>0.891839</td>\n",
       "      <td>1.882152</td>\n",
       "      <td>-0.622370</td>\n",
       "      <td>1.0</td>\n",
       "    </tr>\n",
       "    <tr>\n",
       "      <th>2031-01-03</th>\n",
       "      <td>-0.683741</td>\n",
       "      <td>1.437541</td>\n",
       "      <td>-0.797711</td>\n",
       "      <td>-0.034379</td>\n",
       "      <td>2.0</td>\n",
       "    </tr>\n",
       "    <tr>\n",
       "      <th>2031-01-04</th>\n",
       "      <td>0.767239</td>\n",
       "      <td>-1.349358</td>\n",
       "      <td>-0.925965</td>\n",
       "      <td>-0.384152</td>\n",
       "      <td>3.0</td>\n",
       "    </tr>\n",
       "    <tr>\n",
       "      <th>2031-01-05</th>\n",
       "      <td>-0.825114</td>\n",
       "      <td>-0.852004</td>\n",
       "      <td>0.265521</td>\n",
       "      <td>0.633665</td>\n",
       "      <td>4.0</td>\n",
       "    </tr>\n",
       "    <tr>\n",
       "      <th>2031-01-06</th>\n",
       "      <td>-0.036639</td>\n",
       "      <td>0.105031</td>\n",
       "      <td>-1.365430</td>\n",
       "      <td>-0.026106</td>\n",
       "      <td>5.0</td>\n",
       "    </tr>\n",
       "  </tbody>\n",
       "</table>\n",
       "</div>"
      ],
      "text/plain": [
       "                   A         B         C         D    F\n",
       "2031-01-01  0.000000  0.000000 -0.868200  0.191746  NaN\n",
       "2031-01-02  0.595785  0.891839  1.882152 -0.622370  1.0\n",
       "2031-01-03 -0.683741  1.437541 -0.797711 -0.034379  2.0\n",
       "2031-01-04  0.767239 -1.349358 -0.925965 -0.384152  3.0\n",
       "2031-01-05 -0.825114 -0.852004  0.265521  0.633665  4.0\n",
       "2031-01-06 -0.036639  0.105031 -1.365430 -0.026106  5.0"
      ]
     },
     "execution_count": 53,
     "metadata": {},
     "output_type": "execute_result"
    }
   ],
   "source": [
    "df"
   ]
  },
  {
   "cell_type": "code",
   "execution_count": 54,
   "metadata": {
    "ExecuteTime": {
     "end_time": "2019-06-07T11:39:31.748094Z",
     "start_time": "2019-06-07T11:39:31.744121Z"
    }
   },
   "outputs": [],
   "source": [
    "df.loc[:,'D'] = np.array([5]*len(df))"
   ]
  },
  {
   "cell_type": "code",
   "execution_count": 55,
   "metadata": {
    "ExecuteTime": {
     "end_time": "2019-06-07T11:39:32.889404Z",
     "start_time": "2019-06-07T11:39:32.880703Z"
    }
   },
   "outputs": [
    {
     "data": {
      "text/html": [
       "<div>\n",
       "<style scoped>\n",
       "    .dataframe tbody tr th:only-of-type {\n",
       "        vertical-align: middle;\n",
       "    }\n",
       "\n",
       "    .dataframe tbody tr th {\n",
       "        vertical-align: top;\n",
       "    }\n",
       "\n",
       "    .dataframe thead th {\n",
       "        text-align: right;\n",
       "    }\n",
       "</style>\n",
       "<table border=\"1\" class=\"dataframe\">\n",
       "  <thead>\n",
       "    <tr style=\"text-align: right;\">\n",
       "      <th></th>\n",
       "      <th>A</th>\n",
       "      <th>B</th>\n",
       "      <th>C</th>\n",
       "      <th>D</th>\n",
       "      <th>F</th>\n",
       "    </tr>\n",
       "  </thead>\n",
       "  <tbody>\n",
       "    <tr>\n",
       "      <th>2031-01-01</th>\n",
       "      <td>0.000000</td>\n",
       "      <td>0.000000</td>\n",
       "      <td>-0.868200</td>\n",
       "      <td>5</td>\n",
       "      <td>NaN</td>\n",
       "    </tr>\n",
       "    <tr>\n",
       "      <th>2031-01-02</th>\n",
       "      <td>0.595785</td>\n",
       "      <td>0.891839</td>\n",
       "      <td>1.882152</td>\n",
       "      <td>5</td>\n",
       "      <td>1.0</td>\n",
       "    </tr>\n",
       "    <tr>\n",
       "      <th>2031-01-03</th>\n",
       "      <td>-0.683741</td>\n",
       "      <td>1.437541</td>\n",
       "      <td>-0.797711</td>\n",
       "      <td>5</td>\n",
       "      <td>2.0</td>\n",
       "    </tr>\n",
       "    <tr>\n",
       "      <th>2031-01-04</th>\n",
       "      <td>0.767239</td>\n",
       "      <td>-1.349358</td>\n",
       "      <td>-0.925965</td>\n",
       "      <td>5</td>\n",
       "      <td>3.0</td>\n",
       "    </tr>\n",
       "    <tr>\n",
       "      <th>2031-01-05</th>\n",
       "      <td>-0.825114</td>\n",
       "      <td>-0.852004</td>\n",
       "      <td>0.265521</td>\n",
       "      <td>5</td>\n",
       "      <td>4.0</td>\n",
       "    </tr>\n",
       "    <tr>\n",
       "      <th>2031-01-06</th>\n",
       "      <td>-0.036639</td>\n",
       "      <td>0.105031</td>\n",
       "      <td>-1.365430</td>\n",
       "      <td>5</td>\n",
       "      <td>5.0</td>\n",
       "    </tr>\n",
       "  </tbody>\n",
       "</table>\n",
       "</div>"
      ],
      "text/plain": [
       "                   A         B         C  D    F\n",
       "2031-01-01  0.000000  0.000000 -0.868200  5  NaN\n",
       "2031-01-02  0.595785  0.891839  1.882152  5  1.0\n",
       "2031-01-03 -0.683741  1.437541 -0.797711  5  2.0\n",
       "2031-01-04  0.767239 -1.349358 -0.925965  5  3.0\n",
       "2031-01-05 -0.825114 -0.852004  0.265521  5  4.0\n",
       "2031-01-06 -0.036639  0.105031 -1.365430  5  5.0"
      ]
     },
     "execution_count": 55,
     "metadata": {},
     "output_type": "execute_result"
    }
   ],
   "source": [
    "df"
   ]
  },
  {
   "cell_type": "code",
   "execution_count": 56,
   "metadata": {
    "ExecuteTime": {
     "end_time": "2019-06-07T11:39:46.834595Z",
     "start_time": "2019-06-07T11:39:46.830811Z"
    }
   },
   "outputs": [
    {
     "data": {
      "text/plain": [
       "[5, 5, 5, 5]"
      ]
     },
     "execution_count": 56,
     "metadata": {},
     "output_type": "execute_result"
    }
   ],
   "source": [
    "[5]*4"
   ]
  },
  {
   "cell_type": "code",
   "execution_count": 57,
   "metadata": {
    "ExecuteTime": {
     "end_time": "2019-06-07T11:41:35.126640Z",
     "start_time": "2019-06-07T11:41:35.123016Z"
    }
   },
   "outputs": [
    {
     "data": {
      "text/plain": [
       "6"
      ]
     },
     "execution_count": 57,
     "metadata": {},
     "output_type": "execute_result"
    }
   ],
   "source": [
    "len(df)"
   ]
  },
  {
   "cell_type": "code",
   "execution_count": 58,
   "metadata": {
    "ExecuteTime": {
     "end_time": "2019-06-07T11:43:23.879206Z",
     "start_time": "2019-06-07T11:43:23.875427Z"
    }
   },
   "outputs": [
    {
     "data": {
      "text/plain": [
       "[5, 5, 5, 5, 5, 5, 5, 5, 5, 5]"
      ]
     },
     "execution_count": 58,
     "metadata": {},
     "output_type": "execute_result"
    }
   ],
   "source": [
    "[5] * 10"
   ]
  },
  {
   "cell_type": "code",
   "execution_count": 59,
   "metadata": {
    "ExecuteTime": {
     "end_time": "2019-06-07T11:44:14.640402Z",
     "start_time": "2019-06-07T11:44:14.637307Z"
    }
   },
   "outputs": [],
   "source": [
    "df2 = df.copy()"
   ]
  },
  {
   "cell_type": "code",
   "execution_count": 60,
   "metadata": {
    "ExecuteTime": {
     "end_time": "2019-06-07T11:44:24.571615Z",
     "start_time": "2019-06-07T11:44:24.564122Z"
    }
   },
   "outputs": [],
   "source": [
    "df2[df2>0] = -df"
   ]
  },
  {
   "cell_type": "code",
   "execution_count": 61,
   "metadata": {
    "ExecuteTime": {
     "end_time": "2019-06-07T11:44:26.025862Z",
     "start_time": "2019-06-07T11:44:26.017509Z"
    }
   },
   "outputs": [
    {
     "data": {
      "text/html": [
       "<div>\n",
       "<style scoped>\n",
       "    .dataframe tbody tr th:only-of-type {\n",
       "        vertical-align: middle;\n",
       "    }\n",
       "\n",
       "    .dataframe tbody tr th {\n",
       "        vertical-align: top;\n",
       "    }\n",
       "\n",
       "    .dataframe thead th {\n",
       "        text-align: right;\n",
       "    }\n",
       "</style>\n",
       "<table border=\"1\" class=\"dataframe\">\n",
       "  <thead>\n",
       "    <tr style=\"text-align: right;\">\n",
       "      <th></th>\n",
       "      <th>A</th>\n",
       "      <th>B</th>\n",
       "      <th>C</th>\n",
       "      <th>D</th>\n",
       "      <th>F</th>\n",
       "    </tr>\n",
       "  </thead>\n",
       "  <tbody>\n",
       "    <tr>\n",
       "      <th>2031-01-01</th>\n",
       "      <td>0.000000</td>\n",
       "      <td>0.000000</td>\n",
       "      <td>-0.868200</td>\n",
       "      <td>-5</td>\n",
       "      <td>NaN</td>\n",
       "    </tr>\n",
       "    <tr>\n",
       "      <th>2031-01-02</th>\n",
       "      <td>-0.595785</td>\n",
       "      <td>-0.891839</td>\n",
       "      <td>-1.882152</td>\n",
       "      <td>-5</td>\n",
       "      <td>-1.0</td>\n",
       "    </tr>\n",
       "    <tr>\n",
       "      <th>2031-01-03</th>\n",
       "      <td>-0.683741</td>\n",
       "      <td>-1.437541</td>\n",
       "      <td>-0.797711</td>\n",
       "      <td>-5</td>\n",
       "      <td>-2.0</td>\n",
       "    </tr>\n",
       "    <tr>\n",
       "      <th>2031-01-04</th>\n",
       "      <td>-0.767239</td>\n",
       "      <td>-1.349358</td>\n",
       "      <td>-0.925965</td>\n",
       "      <td>-5</td>\n",
       "      <td>-3.0</td>\n",
       "    </tr>\n",
       "    <tr>\n",
       "      <th>2031-01-05</th>\n",
       "      <td>-0.825114</td>\n",
       "      <td>-0.852004</td>\n",
       "      <td>-0.265521</td>\n",
       "      <td>-5</td>\n",
       "      <td>-4.0</td>\n",
       "    </tr>\n",
       "    <tr>\n",
       "      <th>2031-01-06</th>\n",
       "      <td>-0.036639</td>\n",
       "      <td>-0.105031</td>\n",
       "      <td>-1.365430</td>\n",
       "      <td>-5</td>\n",
       "      <td>-5.0</td>\n",
       "    </tr>\n",
       "  </tbody>\n",
       "</table>\n",
       "</div>"
      ],
      "text/plain": [
       "                   A         B         C  D    F\n",
       "2031-01-01  0.000000  0.000000 -0.868200 -5  NaN\n",
       "2031-01-02 -0.595785 -0.891839 -1.882152 -5 -1.0\n",
       "2031-01-03 -0.683741 -1.437541 -0.797711 -5 -2.0\n",
       "2031-01-04 -0.767239 -1.349358 -0.925965 -5 -3.0\n",
       "2031-01-05 -0.825114 -0.852004 -0.265521 -5 -4.0\n",
       "2031-01-06 -0.036639 -0.105031 -1.365430 -5 -5.0"
      ]
     },
     "execution_count": 61,
     "metadata": {},
     "output_type": "execute_result"
    }
   ],
   "source": [
    "df2"
   ]
  },
  {
   "cell_type": "code",
   "execution_count": 62,
   "metadata": {
    "ExecuteTime": {
     "end_time": "2019-06-07T11:45:47.442600Z",
     "start_time": "2019-06-07T11:45:47.434226Z"
    }
   },
   "outputs": [
    {
     "data": {
      "text/html": [
       "<div>\n",
       "<style scoped>\n",
       "    .dataframe tbody tr th:only-of-type {\n",
       "        vertical-align: middle;\n",
       "    }\n",
       "\n",
       "    .dataframe tbody tr th {\n",
       "        vertical-align: top;\n",
       "    }\n",
       "\n",
       "    .dataframe thead th {\n",
       "        text-align: right;\n",
       "    }\n",
       "</style>\n",
       "<table border=\"1\" class=\"dataframe\">\n",
       "  <thead>\n",
       "    <tr style=\"text-align: right;\">\n",
       "      <th></th>\n",
       "      <th>A</th>\n",
       "      <th>B</th>\n",
       "      <th>C</th>\n",
       "      <th>D</th>\n",
       "      <th>F</th>\n",
       "    </tr>\n",
       "  </thead>\n",
       "  <tbody>\n",
       "    <tr>\n",
       "      <th>2031-01-01</th>\n",
       "      <td>0.000000</td>\n",
       "      <td>0.000000</td>\n",
       "      <td>-0.868200</td>\n",
       "      <td>-5</td>\n",
       "      <td>NaN</td>\n",
       "    </tr>\n",
       "    <tr>\n",
       "      <th>2031-01-02</th>\n",
       "      <td>-0.595785</td>\n",
       "      <td>-0.891839</td>\n",
       "      <td>-1.882152</td>\n",
       "      <td>-5</td>\n",
       "      <td>-1.0</td>\n",
       "    </tr>\n",
       "    <tr>\n",
       "      <th>2031-01-03</th>\n",
       "      <td>-0.683741</td>\n",
       "      <td>-1.437541</td>\n",
       "      <td>-0.797711</td>\n",
       "      <td>-5</td>\n",
       "      <td>-2.0</td>\n",
       "    </tr>\n",
       "    <tr>\n",
       "      <th>2031-01-04</th>\n",
       "      <td>-0.767239</td>\n",
       "      <td>-1.349358</td>\n",
       "      <td>-0.925965</td>\n",
       "      <td>-5</td>\n",
       "      <td>-3.0</td>\n",
       "    </tr>\n",
       "    <tr>\n",
       "      <th>2031-01-05</th>\n",
       "      <td>-0.825114</td>\n",
       "      <td>-0.852004</td>\n",
       "      <td>-0.265521</td>\n",
       "      <td>-5</td>\n",
       "      <td>-4.0</td>\n",
       "    </tr>\n",
       "    <tr>\n",
       "      <th>2031-01-06</th>\n",
       "      <td>-0.036639</td>\n",
       "      <td>-0.105031</td>\n",
       "      <td>-1.365430</td>\n",
       "      <td>-5</td>\n",
       "      <td>-5.0</td>\n",
       "    </tr>\n",
       "  </tbody>\n",
       "</table>\n",
       "</div>"
      ],
      "text/plain": [
       "                   A         B         C  D    F\n",
       "2031-01-01  0.000000  0.000000 -0.868200 -5  NaN\n",
       "2031-01-02 -0.595785 -0.891839 -1.882152 -5 -1.0\n",
       "2031-01-03 -0.683741 -1.437541 -0.797711 -5 -2.0\n",
       "2031-01-04 -0.767239 -1.349358 -0.925965 -5 -3.0\n",
       "2031-01-05 -0.825114 -0.852004 -0.265521 -5 -4.0\n",
       "2031-01-06 -0.036639 -0.105031 -1.365430 -5 -5.0"
      ]
     },
     "execution_count": 62,
     "metadata": {},
     "output_type": "execute_result"
    }
   ],
   "source": [
    "df2"
   ]
  },
  {
   "cell_type": "code",
   "execution_count": 63,
   "metadata": {
    "ExecuteTime": {
     "end_time": "2019-06-07T11:50:55.305953Z",
     "start_time": "2019-06-07T11:50:55.300695Z"
    }
   },
   "outputs": [],
   "source": [
    "df1 = df.reindex(index=dates[0:4],columns=list(df.columns)+['E'])"
   ]
  },
  {
   "cell_type": "code",
   "execution_count": 64,
   "metadata": {
    "ExecuteTime": {
     "end_time": "2019-06-07T11:50:57.309998Z",
     "start_time": "2019-06-07T11:50:57.300597Z"
    }
   },
   "outputs": [
    {
     "data": {
      "text/html": [
       "<div>\n",
       "<style scoped>\n",
       "    .dataframe tbody tr th:only-of-type {\n",
       "        vertical-align: middle;\n",
       "    }\n",
       "\n",
       "    .dataframe tbody tr th {\n",
       "        vertical-align: top;\n",
       "    }\n",
       "\n",
       "    .dataframe thead th {\n",
       "        text-align: right;\n",
       "    }\n",
       "</style>\n",
       "<table border=\"1\" class=\"dataframe\">\n",
       "  <thead>\n",
       "    <tr style=\"text-align: right;\">\n",
       "      <th></th>\n",
       "      <th>A</th>\n",
       "      <th>B</th>\n",
       "      <th>C</th>\n",
       "      <th>D</th>\n",
       "      <th>F</th>\n",
       "      <th>E</th>\n",
       "    </tr>\n",
       "  </thead>\n",
       "  <tbody>\n",
       "    <tr>\n",
       "      <th>2031-01-01</th>\n",
       "      <td>0.000000</td>\n",
       "      <td>0.000000</td>\n",
       "      <td>-0.868200</td>\n",
       "      <td>5</td>\n",
       "      <td>NaN</td>\n",
       "      <td>NaN</td>\n",
       "    </tr>\n",
       "    <tr>\n",
       "      <th>2031-01-02</th>\n",
       "      <td>0.595785</td>\n",
       "      <td>0.891839</td>\n",
       "      <td>1.882152</td>\n",
       "      <td>5</td>\n",
       "      <td>1.0</td>\n",
       "      <td>NaN</td>\n",
       "    </tr>\n",
       "    <tr>\n",
       "      <th>2031-01-03</th>\n",
       "      <td>-0.683741</td>\n",
       "      <td>1.437541</td>\n",
       "      <td>-0.797711</td>\n",
       "      <td>5</td>\n",
       "      <td>2.0</td>\n",
       "      <td>NaN</td>\n",
       "    </tr>\n",
       "    <tr>\n",
       "      <th>2031-01-04</th>\n",
       "      <td>0.767239</td>\n",
       "      <td>-1.349358</td>\n",
       "      <td>-0.925965</td>\n",
       "      <td>5</td>\n",
       "      <td>3.0</td>\n",
       "      <td>NaN</td>\n",
       "    </tr>\n",
       "  </tbody>\n",
       "</table>\n",
       "</div>"
      ],
      "text/plain": [
       "                   A         B         C  D    F   E\n",
       "2031-01-01  0.000000  0.000000 -0.868200  5  NaN NaN\n",
       "2031-01-02  0.595785  0.891839  1.882152  5  1.0 NaN\n",
       "2031-01-03 -0.683741  1.437541 -0.797711  5  2.0 NaN\n",
       "2031-01-04  0.767239 -1.349358 -0.925965  5  3.0 NaN"
      ]
     },
     "execution_count": 64,
     "metadata": {},
     "output_type": "execute_result"
    }
   ],
   "source": [
    "df1"
   ]
  },
  {
   "cell_type": "code",
   "execution_count": 65,
   "metadata": {
    "ExecuteTime": {
     "end_time": "2019-06-07T11:51:59.656501Z",
     "start_time": "2019-06-07T11:51:59.652631Z"
    }
   },
   "outputs": [],
   "source": [
    "df1.loc[dates[0]:dates[1],'E'] = 1"
   ]
  },
  {
   "cell_type": "code",
   "execution_count": 66,
   "metadata": {
    "ExecuteTime": {
     "end_time": "2019-06-07T11:52:01.989848Z",
     "start_time": "2019-06-07T11:52:01.980378Z"
    }
   },
   "outputs": [
    {
     "data": {
      "text/html": [
       "<div>\n",
       "<style scoped>\n",
       "    .dataframe tbody tr th:only-of-type {\n",
       "        vertical-align: middle;\n",
       "    }\n",
       "\n",
       "    .dataframe tbody tr th {\n",
       "        vertical-align: top;\n",
       "    }\n",
       "\n",
       "    .dataframe thead th {\n",
       "        text-align: right;\n",
       "    }\n",
       "</style>\n",
       "<table border=\"1\" class=\"dataframe\">\n",
       "  <thead>\n",
       "    <tr style=\"text-align: right;\">\n",
       "      <th></th>\n",
       "      <th>A</th>\n",
       "      <th>B</th>\n",
       "      <th>C</th>\n",
       "      <th>D</th>\n",
       "      <th>F</th>\n",
       "      <th>E</th>\n",
       "    </tr>\n",
       "  </thead>\n",
       "  <tbody>\n",
       "    <tr>\n",
       "      <th>2031-01-01</th>\n",
       "      <td>0.000000</td>\n",
       "      <td>0.000000</td>\n",
       "      <td>-0.868200</td>\n",
       "      <td>5</td>\n",
       "      <td>NaN</td>\n",
       "      <td>1.0</td>\n",
       "    </tr>\n",
       "    <tr>\n",
       "      <th>2031-01-02</th>\n",
       "      <td>0.595785</td>\n",
       "      <td>0.891839</td>\n",
       "      <td>1.882152</td>\n",
       "      <td>5</td>\n",
       "      <td>1.0</td>\n",
       "      <td>1.0</td>\n",
       "    </tr>\n",
       "    <tr>\n",
       "      <th>2031-01-03</th>\n",
       "      <td>-0.683741</td>\n",
       "      <td>1.437541</td>\n",
       "      <td>-0.797711</td>\n",
       "      <td>5</td>\n",
       "      <td>2.0</td>\n",
       "      <td>NaN</td>\n",
       "    </tr>\n",
       "    <tr>\n",
       "      <th>2031-01-04</th>\n",
       "      <td>0.767239</td>\n",
       "      <td>-1.349358</td>\n",
       "      <td>-0.925965</td>\n",
       "      <td>5</td>\n",
       "      <td>3.0</td>\n",
       "      <td>NaN</td>\n",
       "    </tr>\n",
       "  </tbody>\n",
       "</table>\n",
       "</div>"
      ],
      "text/plain": [
       "                   A         B         C  D    F    E\n",
       "2031-01-01  0.000000  0.000000 -0.868200  5  NaN  1.0\n",
       "2031-01-02  0.595785  0.891839  1.882152  5  1.0  1.0\n",
       "2031-01-03 -0.683741  1.437541 -0.797711  5  2.0  NaN\n",
       "2031-01-04  0.767239 -1.349358 -0.925965  5  3.0  NaN"
      ]
     },
     "execution_count": 66,
     "metadata": {},
     "output_type": "execute_result"
    }
   ],
   "source": [
    "df1"
   ]
  },
  {
   "cell_type": "code",
   "execution_count": 67,
   "metadata": {
    "ExecuteTime": {
     "end_time": "2019-06-07T12:02:39.734598Z",
     "start_time": "2019-06-07T12:02:39.724543Z"
    }
   },
   "outputs": [
    {
     "data": {
      "text/html": [
       "<div>\n",
       "<style scoped>\n",
       "    .dataframe tbody tr th:only-of-type {\n",
       "        vertical-align: middle;\n",
       "    }\n",
       "\n",
       "    .dataframe tbody tr th {\n",
       "        vertical-align: top;\n",
       "    }\n",
       "\n",
       "    .dataframe thead th {\n",
       "        text-align: right;\n",
       "    }\n",
       "</style>\n",
       "<table border=\"1\" class=\"dataframe\">\n",
       "  <thead>\n",
       "    <tr style=\"text-align: right;\">\n",
       "      <th></th>\n",
       "      <th>A</th>\n",
       "      <th>B</th>\n",
       "      <th>C</th>\n",
       "      <th>D</th>\n",
       "      <th>F</th>\n",
       "      <th>E</th>\n",
       "    </tr>\n",
       "  </thead>\n",
       "  <tbody>\n",
       "    <tr>\n",
       "      <th>2031-01-02</th>\n",
       "      <td>0.595785</td>\n",
       "      <td>0.891839</td>\n",
       "      <td>1.882152</td>\n",
       "      <td>5</td>\n",
       "      <td>1.0</td>\n",
       "      <td>1.0</td>\n",
       "    </tr>\n",
       "  </tbody>\n",
       "</table>\n",
       "</div>"
      ],
      "text/plain": [
       "                   A         B         C  D    F    E\n",
       "2031-01-02  0.595785  0.891839  1.882152  5  1.0  1.0"
      ]
     },
     "execution_count": 67,
     "metadata": {},
     "output_type": "execute_result"
    }
   ],
   "source": [
    "df1.dropna(how='any')"
   ]
  },
  {
   "cell_type": "code",
   "execution_count": 68,
   "metadata": {
    "ExecuteTime": {
     "end_time": "2019-06-07T12:02:42.698311Z",
     "start_time": "2019-06-07T12:02:42.689145Z"
    }
   },
   "outputs": [
    {
     "data": {
      "text/html": [
       "<div>\n",
       "<style scoped>\n",
       "    .dataframe tbody tr th:only-of-type {\n",
       "        vertical-align: middle;\n",
       "    }\n",
       "\n",
       "    .dataframe tbody tr th {\n",
       "        vertical-align: top;\n",
       "    }\n",
       "\n",
       "    .dataframe thead th {\n",
       "        text-align: right;\n",
       "    }\n",
       "</style>\n",
       "<table border=\"1\" class=\"dataframe\">\n",
       "  <thead>\n",
       "    <tr style=\"text-align: right;\">\n",
       "      <th></th>\n",
       "      <th>A</th>\n",
       "      <th>B</th>\n",
       "      <th>C</th>\n",
       "      <th>D</th>\n",
       "      <th>F</th>\n",
       "      <th>E</th>\n",
       "    </tr>\n",
       "  </thead>\n",
       "  <tbody>\n",
       "    <tr>\n",
       "      <th>2031-01-01</th>\n",
       "      <td>0.000000</td>\n",
       "      <td>0.000000</td>\n",
       "      <td>-0.868200</td>\n",
       "      <td>5</td>\n",
       "      <td>NaN</td>\n",
       "      <td>1.0</td>\n",
       "    </tr>\n",
       "    <tr>\n",
       "      <th>2031-01-02</th>\n",
       "      <td>0.595785</td>\n",
       "      <td>0.891839</td>\n",
       "      <td>1.882152</td>\n",
       "      <td>5</td>\n",
       "      <td>1.0</td>\n",
       "      <td>1.0</td>\n",
       "    </tr>\n",
       "    <tr>\n",
       "      <th>2031-01-03</th>\n",
       "      <td>-0.683741</td>\n",
       "      <td>1.437541</td>\n",
       "      <td>-0.797711</td>\n",
       "      <td>5</td>\n",
       "      <td>2.0</td>\n",
       "      <td>NaN</td>\n",
       "    </tr>\n",
       "    <tr>\n",
       "      <th>2031-01-04</th>\n",
       "      <td>0.767239</td>\n",
       "      <td>-1.349358</td>\n",
       "      <td>-0.925965</td>\n",
       "      <td>5</td>\n",
       "      <td>3.0</td>\n",
       "      <td>NaN</td>\n",
       "    </tr>\n",
       "  </tbody>\n",
       "</table>\n",
       "</div>"
      ],
      "text/plain": [
       "                   A         B         C  D    F    E\n",
       "2031-01-01  0.000000  0.000000 -0.868200  5  NaN  1.0\n",
       "2031-01-02  0.595785  0.891839  1.882152  5  1.0  1.0\n",
       "2031-01-03 -0.683741  1.437541 -0.797711  5  2.0  NaN\n",
       "2031-01-04  0.767239 -1.349358 -0.925965  5  3.0  NaN"
      ]
     },
     "execution_count": 68,
     "metadata": {},
     "output_type": "execute_result"
    }
   ],
   "source": [
    "df1"
   ]
  },
  {
   "cell_type": "code",
   "execution_count": 69,
   "metadata": {
    "ExecuteTime": {
     "end_time": "2019-06-07T12:03:41.820432Z",
     "start_time": "2019-06-07T12:03:41.811808Z"
    }
   },
   "outputs": [
    {
     "data": {
      "text/html": [
       "<div>\n",
       "<style scoped>\n",
       "    .dataframe tbody tr th:only-of-type {\n",
       "        vertical-align: middle;\n",
       "    }\n",
       "\n",
       "    .dataframe tbody tr th {\n",
       "        vertical-align: top;\n",
       "    }\n",
       "\n",
       "    .dataframe thead th {\n",
       "        text-align: right;\n",
       "    }\n",
       "</style>\n",
       "<table border=\"1\" class=\"dataframe\">\n",
       "  <thead>\n",
       "    <tr style=\"text-align: right;\">\n",
       "      <th></th>\n",
       "      <th>A</th>\n",
       "      <th>B</th>\n",
       "      <th>C</th>\n",
       "      <th>D</th>\n",
       "      <th>F</th>\n",
       "      <th>E</th>\n",
       "    </tr>\n",
       "  </thead>\n",
       "  <tbody>\n",
       "    <tr>\n",
       "      <th>2031-01-01</th>\n",
       "      <td>0.000000</td>\n",
       "      <td>0.000000</td>\n",
       "      <td>-0.868200</td>\n",
       "      <td>5</td>\n",
       "      <td>5.0</td>\n",
       "      <td>1.0</td>\n",
       "    </tr>\n",
       "    <tr>\n",
       "      <th>2031-01-02</th>\n",
       "      <td>0.595785</td>\n",
       "      <td>0.891839</td>\n",
       "      <td>1.882152</td>\n",
       "      <td>5</td>\n",
       "      <td>1.0</td>\n",
       "      <td>1.0</td>\n",
       "    </tr>\n",
       "    <tr>\n",
       "      <th>2031-01-03</th>\n",
       "      <td>-0.683741</td>\n",
       "      <td>1.437541</td>\n",
       "      <td>-0.797711</td>\n",
       "      <td>5</td>\n",
       "      <td>2.0</td>\n",
       "      <td>5.0</td>\n",
       "    </tr>\n",
       "    <tr>\n",
       "      <th>2031-01-04</th>\n",
       "      <td>0.767239</td>\n",
       "      <td>-1.349358</td>\n",
       "      <td>-0.925965</td>\n",
       "      <td>5</td>\n",
       "      <td>3.0</td>\n",
       "      <td>5.0</td>\n",
       "    </tr>\n",
       "  </tbody>\n",
       "</table>\n",
       "</div>"
      ],
      "text/plain": [
       "                   A         B         C  D    F    E\n",
       "2031-01-01  0.000000  0.000000 -0.868200  5  5.0  1.0\n",
       "2031-01-02  0.595785  0.891839  1.882152  5  1.0  1.0\n",
       "2031-01-03 -0.683741  1.437541 -0.797711  5  2.0  5.0\n",
       "2031-01-04  0.767239 -1.349358 -0.925965  5  3.0  5.0"
      ]
     },
     "execution_count": 69,
     "metadata": {},
     "output_type": "execute_result"
    }
   ],
   "source": [
    "df1.fillna(value=5)"
   ]
  },
  {
   "cell_type": "code",
   "execution_count": 70,
   "metadata": {
    "ExecuteTime": {
     "end_time": "2019-06-07T12:03:43.665411Z",
     "start_time": "2019-06-07T12:03:43.655925Z"
    }
   },
   "outputs": [
    {
     "data": {
      "text/html": [
       "<div>\n",
       "<style scoped>\n",
       "    .dataframe tbody tr th:only-of-type {\n",
       "        vertical-align: middle;\n",
       "    }\n",
       "\n",
       "    .dataframe tbody tr th {\n",
       "        vertical-align: top;\n",
       "    }\n",
       "\n",
       "    .dataframe thead th {\n",
       "        text-align: right;\n",
       "    }\n",
       "</style>\n",
       "<table border=\"1\" class=\"dataframe\">\n",
       "  <thead>\n",
       "    <tr style=\"text-align: right;\">\n",
       "      <th></th>\n",
       "      <th>A</th>\n",
       "      <th>B</th>\n",
       "      <th>C</th>\n",
       "      <th>D</th>\n",
       "      <th>F</th>\n",
       "      <th>E</th>\n",
       "    </tr>\n",
       "  </thead>\n",
       "  <tbody>\n",
       "    <tr>\n",
       "      <th>2031-01-01</th>\n",
       "      <td>0.000000</td>\n",
       "      <td>0.000000</td>\n",
       "      <td>-0.868200</td>\n",
       "      <td>5</td>\n",
       "      <td>NaN</td>\n",
       "      <td>1.0</td>\n",
       "    </tr>\n",
       "    <tr>\n",
       "      <th>2031-01-02</th>\n",
       "      <td>0.595785</td>\n",
       "      <td>0.891839</td>\n",
       "      <td>1.882152</td>\n",
       "      <td>5</td>\n",
       "      <td>1.0</td>\n",
       "      <td>1.0</td>\n",
       "    </tr>\n",
       "    <tr>\n",
       "      <th>2031-01-03</th>\n",
       "      <td>-0.683741</td>\n",
       "      <td>1.437541</td>\n",
       "      <td>-0.797711</td>\n",
       "      <td>5</td>\n",
       "      <td>2.0</td>\n",
       "      <td>NaN</td>\n",
       "    </tr>\n",
       "    <tr>\n",
       "      <th>2031-01-04</th>\n",
       "      <td>0.767239</td>\n",
       "      <td>-1.349358</td>\n",
       "      <td>-0.925965</td>\n",
       "      <td>5</td>\n",
       "      <td>3.0</td>\n",
       "      <td>NaN</td>\n",
       "    </tr>\n",
       "  </tbody>\n",
       "</table>\n",
       "</div>"
      ],
      "text/plain": [
       "                   A         B         C  D    F    E\n",
       "2031-01-01  0.000000  0.000000 -0.868200  5  NaN  1.0\n",
       "2031-01-02  0.595785  0.891839  1.882152  5  1.0  1.0\n",
       "2031-01-03 -0.683741  1.437541 -0.797711  5  2.0  NaN\n",
       "2031-01-04  0.767239 -1.349358 -0.925965  5  3.0  NaN"
      ]
     },
     "execution_count": 70,
     "metadata": {},
     "output_type": "execute_result"
    }
   ],
   "source": [
    "df1"
   ]
  },
  {
   "cell_type": "code",
   "execution_count": 71,
   "metadata": {
    "ExecuteTime": {
     "end_time": "2019-06-07T12:04:51.448902Z",
     "start_time": "2019-06-07T12:04:51.438845Z"
    }
   },
   "outputs": [
    {
     "data": {
      "text/html": [
       "<div>\n",
       "<style scoped>\n",
       "    .dataframe tbody tr th:only-of-type {\n",
       "        vertical-align: middle;\n",
       "    }\n",
       "\n",
       "    .dataframe tbody tr th {\n",
       "        vertical-align: top;\n",
       "    }\n",
       "\n",
       "    .dataframe thead th {\n",
       "        text-align: right;\n",
       "    }\n",
       "</style>\n",
       "<table border=\"1\" class=\"dataframe\">\n",
       "  <thead>\n",
       "    <tr style=\"text-align: right;\">\n",
       "      <th></th>\n",
       "      <th>A</th>\n",
       "      <th>B</th>\n",
       "      <th>C</th>\n",
       "      <th>D</th>\n",
       "      <th>F</th>\n",
       "      <th>E</th>\n",
       "    </tr>\n",
       "  </thead>\n",
       "  <tbody>\n",
       "    <tr>\n",
       "      <th>2031-01-01</th>\n",
       "      <td>False</td>\n",
       "      <td>False</td>\n",
       "      <td>False</td>\n",
       "      <td>False</td>\n",
       "      <td>True</td>\n",
       "      <td>False</td>\n",
       "    </tr>\n",
       "    <tr>\n",
       "      <th>2031-01-02</th>\n",
       "      <td>False</td>\n",
       "      <td>False</td>\n",
       "      <td>False</td>\n",
       "      <td>False</td>\n",
       "      <td>False</td>\n",
       "      <td>False</td>\n",
       "    </tr>\n",
       "    <tr>\n",
       "      <th>2031-01-03</th>\n",
       "      <td>False</td>\n",
       "      <td>False</td>\n",
       "      <td>False</td>\n",
       "      <td>False</td>\n",
       "      <td>False</td>\n",
       "      <td>True</td>\n",
       "    </tr>\n",
       "    <tr>\n",
       "      <th>2031-01-04</th>\n",
       "      <td>False</td>\n",
       "      <td>False</td>\n",
       "      <td>False</td>\n",
       "      <td>False</td>\n",
       "      <td>False</td>\n",
       "      <td>True</td>\n",
       "    </tr>\n",
       "  </tbody>\n",
       "</table>\n",
       "</div>"
      ],
      "text/plain": [
       "                A      B      C      D      F      E\n",
       "2031-01-01  False  False  False  False   True  False\n",
       "2031-01-02  False  False  False  False  False  False\n",
       "2031-01-03  False  False  False  False  False   True\n",
       "2031-01-04  False  False  False  False  False   True"
      ]
     },
     "execution_count": 71,
     "metadata": {},
     "output_type": "execute_result"
    }
   ],
   "source": [
    "pd.isna(df1)"
   ]
  },
  {
   "cell_type": "code",
   "execution_count": 72,
   "metadata": {
    "ExecuteTime": {
     "end_time": "2019-06-07T12:06:28.786157Z",
     "start_time": "2019-06-07T12:06:28.781040Z"
    }
   },
   "outputs": [
    {
     "data": {
      "text/plain": [
       "A   -0.030412\n",
       "B    0.038842\n",
       "C   -0.301606\n",
       "D    5.000000\n",
       "F    3.000000\n",
       "dtype: float64"
      ]
     },
     "execution_count": 72,
     "metadata": {},
     "output_type": "execute_result"
    }
   ],
   "source": [
    "df.mean()"
   ]
  },
  {
   "cell_type": "code",
   "execution_count": 73,
   "metadata": {
    "ExecuteTime": {
     "end_time": "2019-06-07T12:07:08.556886Z",
     "start_time": "2019-06-07T12:07:08.551779Z"
    }
   },
   "outputs": [
    {
     "data": {
      "text/plain": [
       "2031-01-01    1.032950\n",
       "2031-01-02    1.873955\n",
       "2031-01-03    1.391218\n",
       "2031-01-04    1.298383\n",
       "2031-01-05    1.517680\n",
       "2031-01-06    1.740592\n",
       "Freq: D, dtype: float64"
      ]
     },
     "execution_count": 73,
     "metadata": {},
     "output_type": "execute_result"
    }
   ],
   "source": [
    "df.mean(1)"
   ]
  },
  {
   "cell_type": "code",
   "execution_count": 74,
   "metadata": {
    "ExecuteTime": {
     "end_time": "2019-06-07T12:10:07.320017Z",
     "start_time": "2019-06-07T12:10:07.314644Z"
    }
   },
   "outputs": [
    {
     "data": {
      "text/plain": [
       "2031-01-01    1.0\n",
       "2031-01-02    3.0\n",
       "2031-01-03    5.0\n",
       "2031-01-04    NaN\n",
       "2031-01-05    6.0\n",
       "2031-01-06    8.0\n",
       "Freq: D, dtype: float64"
      ]
     },
     "execution_count": 74,
     "metadata": {},
     "output_type": "execute_result"
    }
   ],
   "source": [
    "s = pd.Series([1,3,5,np.nan,6,8], index=dates);s"
   ]
  },
  {
   "cell_type": "code",
   "execution_count": 75,
   "metadata": {
    "ExecuteTime": {
     "end_time": "2019-06-07T12:10:15.062788Z",
     "start_time": "2019-06-07T12:10:15.057536Z"
    }
   },
   "outputs": [
    {
     "data": {
      "text/plain": [
       "2031-01-01    NaN\n",
       "2031-01-02    NaN\n",
       "2031-01-03    1.0\n",
       "2031-01-04    3.0\n",
       "2031-01-05    5.0\n",
       "2031-01-06    NaN\n",
       "Freq: D, dtype: float64"
      ]
     },
     "execution_count": 75,
     "metadata": {},
     "output_type": "execute_result"
    }
   ],
   "source": [
    "s.shift(2)"
   ]
  },
  {
   "cell_type": "code",
   "execution_count": 76,
   "metadata": {
    "ExecuteTime": {
     "end_time": "2019-06-07T12:10:46.809690Z",
     "start_time": "2019-06-07T12:10:46.800181Z"
    }
   },
   "outputs": [
    {
     "data": {
      "text/html": [
       "<div>\n",
       "<style scoped>\n",
       "    .dataframe tbody tr th:only-of-type {\n",
       "        vertical-align: middle;\n",
       "    }\n",
       "\n",
       "    .dataframe tbody tr th {\n",
       "        vertical-align: top;\n",
       "    }\n",
       "\n",
       "    .dataframe thead th {\n",
       "        text-align: right;\n",
       "    }\n",
       "</style>\n",
       "<table border=\"1\" class=\"dataframe\">\n",
       "  <thead>\n",
       "    <tr style=\"text-align: right;\">\n",
       "      <th></th>\n",
       "      <th>A</th>\n",
       "      <th>B</th>\n",
       "      <th>C</th>\n",
       "      <th>D</th>\n",
       "      <th>F</th>\n",
       "    </tr>\n",
       "  </thead>\n",
       "  <tbody>\n",
       "    <tr>\n",
       "      <th>2031-01-01</th>\n",
       "      <td>-1.000000</td>\n",
       "      <td>-1.000000</td>\n",
       "      <td>-1.868200</td>\n",
       "      <td>4.0</td>\n",
       "      <td>NaN</td>\n",
       "    </tr>\n",
       "    <tr>\n",
       "      <th>2031-01-02</th>\n",
       "      <td>-2.404215</td>\n",
       "      <td>-2.108161</td>\n",
       "      <td>-1.117848</td>\n",
       "      <td>2.0</td>\n",
       "      <td>-2.0</td>\n",
       "    </tr>\n",
       "    <tr>\n",
       "      <th>2031-01-03</th>\n",
       "      <td>-5.683741</td>\n",
       "      <td>-3.562459</td>\n",
       "      <td>-5.797711</td>\n",
       "      <td>0.0</td>\n",
       "      <td>-3.0</td>\n",
       "    </tr>\n",
       "    <tr>\n",
       "      <th>2031-01-04</th>\n",
       "      <td>NaN</td>\n",
       "      <td>NaN</td>\n",
       "      <td>NaN</td>\n",
       "      <td>NaN</td>\n",
       "      <td>NaN</td>\n",
       "    </tr>\n",
       "    <tr>\n",
       "      <th>2031-01-05</th>\n",
       "      <td>-6.825114</td>\n",
       "      <td>-6.852004</td>\n",
       "      <td>-5.734479</td>\n",
       "      <td>-1.0</td>\n",
       "      <td>-2.0</td>\n",
       "    </tr>\n",
       "    <tr>\n",
       "      <th>2031-01-06</th>\n",
       "      <td>-8.036639</td>\n",
       "      <td>-7.894969</td>\n",
       "      <td>-9.365430</td>\n",
       "      <td>-3.0</td>\n",
       "      <td>-3.0</td>\n",
       "    </tr>\n",
       "  </tbody>\n",
       "</table>\n",
       "</div>"
      ],
      "text/plain": [
       "                   A         B         C    D    F\n",
       "2031-01-01 -1.000000 -1.000000 -1.868200  4.0  NaN\n",
       "2031-01-02 -2.404215 -2.108161 -1.117848  2.0 -2.0\n",
       "2031-01-03 -5.683741 -3.562459 -5.797711  0.0 -3.0\n",
       "2031-01-04       NaN       NaN       NaN  NaN  NaN\n",
       "2031-01-05 -6.825114 -6.852004 -5.734479 -1.0 -2.0\n",
       "2031-01-06 -8.036639 -7.894969 -9.365430 -3.0 -3.0"
      ]
     },
     "execution_count": 76,
     "metadata": {},
     "output_type": "execute_result"
    }
   ],
   "source": [
    "df.sub(s,axis='index')"
   ]
  },
  {
   "cell_type": "code",
   "execution_count": 77,
   "metadata": {
    "ExecuteTime": {
     "end_time": "2019-06-07T12:15:36.508477Z",
     "start_time": "2019-06-07T12:15:36.499514Z"
    }
   },
   "outputs": [
    {
     "data": {
      "text/html": [
       "<div>\n",
       "<style scoped>\n",
       "    .dataframe tbody tr th:only-of-type {\n",
       "        vertical-align: middle;\n",
       "    }\n",
       "\n",
       "    .dataframe tbody tr th {\n",
       "        vertical-align: top;\n",
       "    }\n",
       "\n",
       "    .dataframe thead th {\n",
       "        text-align: right;\n",
       "    }\n",
       "</style>\n",
       "<table border=\"1\" class=\"dataframe\">\n",
       "  <thead>\n",
       "    <tr style=\"text-align: right;\">\n",
       "      <th></th>\n",
       "      <th>A</th>\n",
       "      <th>B</th>\n",
       "      <th>C</th>\n",
       "      <th>D</th>\n",
       "      <th>F</th>\n",
       "    </tr>\n",
       "  </thead>\n",
       "  <tbody>\n",
       "    <tr>\n",
       "      <th>2031-01-01</th>\n",
       "      <td>0.000000</td>\n",
       "      <td>0.000000</td>\n",
       "      <td>-0.868200</td>\n",
       "      <td>5</td>\n",
       "      <td>NaN</td>\n",
       "    </tr>\n",
       "    <tr>\n",
       "      <th>2031-01-02</th>\n",
       "      <td>0.595785</td>\n",
       "      <td>0.891839</td>\n",
       "      <td>1.882152</td>\n",
       "      <td>5</td>\n",
       "      <td>1.0</td>\n",
       "    </tr>\n",
       "    <tr>\n",
       "      <th>2031-01-03</th>\n",
       "      <td>-0.683741</td>\n",
       "      <td>1.437541</td>\n",
       "      <td>-0.797711</td>\n",
       "      <td>5</td>\n",
       "      <td>2.0</td>\n",
       "    </tr>\n",
       "    <tr>\n",
       "      <th>2031-01-04</th>\n",
       "      <td>0.767239</td>\n",
       "      <td>-1.349358</td>\n",
       "      <td>-0.925965</td>\n",
       "      <td>5</td>\n",
       "      <td>3.0</td>\n",
       "    </tr>\n",
       "    <tr>\n",
       "      <th>2031-01-05</th>\n",
       "      <td>-0.825114</td>\n",
       "      <td>-0.852004</td>\n",
       "      <td>0.265521</td>\n",
       "      <td>5</td>\n",
       "      <td>4.0</td>\n",
       "    </tr>\n",
       "    <tr>\n",
       "      <th>2031-01-06</th>\n",
       "      <td>-0.036639</td>\n",
       "      <td>0.105031</td>\n",
       "      <td>-1.365430</td>\n",
       "      <td>5</td>\n",
       "      <td>5.0</td>\n",
       "    </tr>\n",
       "  </tbody>\n",
       "</table>\n",
       "</div>"
      ],
      "text/plain": [
       "                   A         B         C  D    F\n",
       "2031-01-01  0.000000  0.000000 -0.868200  5  NaN\n",
       "2031-01-02  0.595785  0.891839  1.882152  5  1.0\n",
       "2031-01-03 -0.683741  1.437541 -0.797711  5  2.0\n",
       "2031-01-04  0.767239 -1.349358 -0.925965  5  3.0\n",
       "2031-01-05 -0.825114 -0.852004  0.265521  5  4.0\n",
       "2031-01-06 -0.036639  0.105031 -1.365430  5  5.0"
      ]
     },
     "execution_count": 77,
     "metadata": {},
     "output_type": "execute_result"
    }
   ],
   "source": [
    "df"
   ]
  },
  {
   "cell_type": "code",
   "execution_count": 78,
   "metadata": {
    "ExecuteTime": {
     "end_time": "2019-06-07T12:15:52.081059Z",
     "start_time": "2019-06-07T12:15:52.076287Z"
    }
   },
   "outputs": [
    {
     "data": {
      "text/plain": [
       "2031-01-01    1.0\n",
       "2031-01-02    3.0\n",
       "2031-01-03    5.0\n",
       "2031-01-04    NaN\n",
       "2031-01-05    6.0\n",
       "2031-01-06    8.0\n",
       "Freq: D, dtype: float64"
      ]
     },
     "execution_count": 78,
     "metadata": {},
     "output_type": "execute_result"
    }
   ],
   "source": [
    "s"
   ]
  },
  {
   "cell_type": "code",
   "execution_count": 79,
   "metadata": {
    "ExecuteTime": {
     "end_time": "2019-06-07T12:19:09.866481Z",
     "start_time": "2019-06-07T12:19:09.854795Z"
    }
   },
   "outputs": [
    {
     "data": {
      "text/html": [
       "<div>\n",
       "<style scoped>\n",
       "    .dataframe tbody tr th:only-of-type {\n",
       "        vertical-align: middle;\n",
       "    }\n",
       "\n",
       "    .dataframe tbody tr th {\n",
       "        vertical-align: top;\n",
       "    }\n",
       "\n",
       "    .dataframe thead th {\n",
       "        text-align: right;\n",
       "    }\n",
       "</style>\n",
       "<table border=\"1\" class=\"dataframe\">\n",
       "  <thead>\n",
       "    <tr style=\"text-align: right;\">\n",
       "      <th></th>\n",
       "      <th>A</th>\n",
       "      <th>B</th>\n",
       "      <th>C</th>\n",
       "      <th>D</th>\n",
       "      <th>F</th>\n",
       "    </tr>\n",
       "  </thead>\n",
       "  <tbody>\n",
       "    <tr>\n",
       "      <th>2031-01-01</th>\n",
       "      <td>0.000000</td>\n",
       "      <td>0.000000</td>\n",
       "      <td>-0.868200</td>\n",
       "      <td>4.131800</td>\n",
       "      <td>NaN</td>\n",
       "    </tr>\n",
       "    <tr>\n",
       "      <th>2031-01-02</th>\n",
       "      <td>0.595785</td>\n",
       "      <td>1.487624</td>\n",
       "      <td>3.369776</td>\n",
       "      <td>8.369776</td>\n",
       "      <td>9.369776</td>\n",
       "    </tr>\n",
       "    <tr>\n",
       "      <th>2031-01-03</th>\n",
       "      <td>-0.683741</td>\n",
       "      <td>0.753800</td>\n",
       "      <td>-0.043910</td>\n",
       "      <td>4.956090</td>\n",
       "      <td>6.956090</td>\n",
       "    </tr>\n",
       "    <tr>\n",
       "      <th>2031-01-04</th>\n",
       "      <td>0.767239</td>\n",
       "      <td>-0.582118</td>\n",
       "      <td>-1.508084</td>\n",
       "      <td>3.491916</td>\n",
       "      <td>6.491916</td>\n",
       "    </tr>\n",
       "    <tr>\n",
       "      <th>2031-01-05</th>\n",
       "      <td>-0.825114</td>\n",
       "      <td>-1.677118</td>\n",
       "      <td>-1.411598</td>\n",
       "      <td>3.588402</td>\n",
       "      <td>7.588402</td>\n",
       "    </tr>\n",
       "    <tr>\n",
       "      <th>2031-01-06</th>\n",
       "      <td>-0.036639</td>\n",
       "      <td>0.068392</td>\n",
       "      <td>-1.297038</td>\n",
       "      <td>3.702962</td>\n",
       "      <td>8.702962</td>\n",
       "    </tr>\n",
       "  </tbody>\n",
       "</table>\n",
       "</div>"
      ],
      "text/plain": [
       "                   A         B         C         D         F\n",
       "2031-01-01  0.000000  0.000000 -0.868200  4.131800       NaN\n",
       "2031-01-02  0.595785  1.487624  3.369776  8.369776  9.369776\n",
       "2031-01-03 -0.683741  0.753800 -0.043910  4.956090  6.956090\n",
       "2031-01-04  0.767239 -0.582118 -1.508084  3.491916  6.491916\n",
       "2031-01-05 -0.825114 -1.677118 -1.411598  3.588402  7.588402\n",
       "2031-01-06 -0.036639  0.068392 -1.297038  3.702962  8.702962"
      ]
     },
     "execution_count": 79,
     "metadata": {},
     "output_type": "execute_result"
    }
   ],
   "source": [
    "df.apply(np.cumsum,axis=1)"
   ]
  },
  {
   "cell_type": "code",
   "execution_count": 80,
   "metadata": {
    "ExecuteTime": {
     "end_time": "2019-06-07T12:21:56.416504Z",
     "start_time": "2019-06-07T12:21:56.409902Z"
    }
   },
   "outputs": [
    {
     "data": {
      "text/plain": [
       "A    1.592353\n",
       "B    2.786899\n",
       "C    3.247582\n",
       "D    0.000000\n",
       "F    4.000000\n",
       "dtype: float64"
      ]
     },
     "execution_count": 80,
     "metadata": {},
     "output_type": "execute_result"
    }
   ],
   "source": [
    "df.apply(lambda x: x.max() - x.min(),axis=0)"
   ]
  },
  {
   "cell_type": "code",
   "execution_count": 81,
   "metadata": {
    "ExecuteTime": {
     "end_time": "2019-06-07T12:22:34.106061Z",
     "start_time": "2019-06-07T12:22:34.103078Z"
    }
   },
   "outputs": [],
   "source": [
    "s = pd.Series(np.random.randint(0,7,size=10))"
   ]
  },
  {
   "cell_type": "code",
   "execution_count": 82,
   "metadata": {
    "ExecuteTime": {
     "end_time": "2019-06-07T12:22:35.450887Z",
     "start_time": "2019-06-07T12:22:35.446863Z"
    }
   },
   "outputs": [
    {
     "data": {
      "text/plain": [
       "0    5\n",
       "1    5\n",
       "2    4\n",
       "3    3\n",
       "4    5\n",
       "5    6\n",
       "6    1\n",
       "7    1\n",
       "8    5\n",
       "9    6\n",
       "dtype: int64"
      ]
     },
     "execution_count": 82,
     "metadata": {},
     "output_type": "execute_result"
    }
   ],
   "source": [
    "s"
   ]
  },
  {
   "cell_type": "code",
   "execution_count": 83,
   "metadata": {
    "ExecuteTime": {
     "end_time": "2019-06-07T12:23:51.374913Z",
     "start_time": "2019-06-07T12:23:51.369399Z"
    }
   },
   "outputs": [
    {
     "data": {
      "text/plain": [
       "5    4\n",
       "6    2\n",
       "1    2\n",
       "4    1\n",
       "3    1\n",
       "dtype: int64"
      ]
     },
     "execution_count": 83,
     "metadata": {},
     "output_type": "execute_result"
    }
   ],
   "source": [
    "s.value_counts()"
   ]
  },
  {
   "cell_type": "code",
   "execution_count": 84,
   "metadata": {
    "ExecuteTime": {
     "end_time": "2019-06-07T12:59:21.400437Z",
     "start_time": "2019-06-07T12:59:21.394999Z"
    }
   },
   "outputs": [
    {
     "data": {
      "text/plain": [
       "0    a\n",
       "1    b\n",
       "dtype: object"
      ]
     },
     "execution_count": 84,
     "metadata": {},
     "output_type": "execute_result"
    }
   ],
   "source": [
    "s = pd.Series(['A','B'])\n",
    "s.str.lower()"
   ]
  },
  {
   "cell_type": "code",
   "execution_count": 85,
   "metadata": {
    "ExecuteTime": {
     "end_time": "2019-06-07T12:59:22.758642Z",
     "start_time": "2019-06-07T12:59:22.754550Z"
    }
   },
   "outputs": [
    {
     "data": {
      "text/plain": [
       "0    A\n",
       "1    B\n",
       "dtype: object"
      ]
     },
     "execution_count": 85,
     "metadata": {},
     "output_type": "execute_result"
    }
   ],
   "source": [
    "s"
   ]
  },
  {
   "cell_type": "code",
   "execution_count": 86,
   "metadata": {
    "ExecuteTime": {
     "end_time": "2019-06-07T12:59:34.943887Z",
     "start_time": "2019-06-07T12:59:34.939179Z"
    }
   },
   "outputs": [
    {
     "data": {
      "text/plain": [
       "0    A\n",
       "1    B\n",
       "dtype: object"
      ]
     },
     "execution_count": 86,
     "metadata": {},
     "output_type": "execute_result"
    }
   ],
   "source": [
    "s.str.upper()"
   ]
  },
  {
   "cell_type": "code",
   "execution_count": 87,
   "metadata": {
    "ExecuteTime": {
     "end_time": "2019-06-07T12:59:36.126014Z",
     "start_time": "2019-06-07T12:59:36.121646Z"
    }
   },
   "outputs": [
    {
     "data": {
      "text/plain": [
       "0    A\n",
       "1    B\n",
       "dtype: object"
      ]
     },
     "execution_count": 87,
     "metadata": {},
     "output_type": "execute_result"
    }
   ],
   "source": [
    "s"
   ]
  },
  {
   "cell_type": "code",
   "execution_count": 88,
   "metadata": {
    "ExecuteTime": {
     "end_time": "2019-06-07T13:00:27.351608Z",
     "start_time": "2019-06-07T13:00:27.348318Z"
    }
   },
   "outputs": [],
   "source": [
    "df = pd.DataFrame(np.random.randn(10,4))"
   ]
  },
  {
   "cell_type": "code",
   "execution_count": 89,
   "metadata": {
    "ExecuteTime": {
     "end_time": "2019-06-07T13:00:57.075869Z",
     "start_time": "2019-06-07T13:00:57.072754Z"
    }
   },
   "outputs": [],
   "source": [
    "pieces = [df[:3], df[3:7],df[7:]]"
   ]
  },
  {
   "cell_type": "code",
   "execution_count": 90,
   "metadata": {
    "ExecuteTime": {
     "end_time": "2019-06-07T13:01:05.185516Z",
     "start_time": "2019-06-07T13:01:05.176278Z"
    }
   },
   "outputs": [
    {
     "data": {
      "text/html": [
       "<div>\n",
       "<style scoped>\n",
       "    .dataframe tbody tr th:only-of-type {\n",
       "        vertical-align: middle;\n",
       "    }\n",
       "\n",
       "    .dataframe tbody tr th {\n",
       "        vertical-align: top;\n",
       "    }\n",
       "\n",
       "    .dataframe thead th {\n",
       "        text-align: right;\n",
       "    }\n",
       "</style>\n",
       "<table border=\"1\" class=\"dataframe\">\n",
       "  <thead>\n",
       "    <tr style=\"text-align: right;\">\n",
       "      <th></th>\n",
       "      <th>0</th>\n",
       "      <th>1</th>\n",
       "      <th>2</th>\n",
       "      <th>3</th>\n",
       "    </tr>\n",
       "  </thead>\n",
       "  <tbody>\n",
       "    <tr>\n",
       "      <th>0</th>\n",
       "      <td>-0.635541</td>\n",
       "      <td>1.143112</td>\n",
       "      <td>-0.553710</td>\n",
       "      <td>0.340788</td>\n",
       "    </tr>\n",
       "    <tr>\n",
       "      <th>1</th>\n",
       "      <td>0.635135</td>\n",
       "      <td>-0.593026</td>\n",
       "      <td>0.079188</td>\n",
       "      <td>0.852935</td>\n",
       "    </tr>\n",
       "    <tr>\n",
       "      <th>2</th>\n",
       "      <td>0.518845</td>\n",
       "      <td>-1.285389</td>\n",
       "      <td>-0.597875</td>\n",
       "      <td>0.998888</td>\n",
       "    </tr>\n",
       "    <tr>\n",
       "      <th>3</th>\n",
       "      <td>0.408428</td>\n",
       "      <td>0.446562</td>\n",
       "      <td>0.738111</td>\n",
       "      <td>2.325124</td>\n",
       "    </tr>\n",
       "    <tr>\n",
       "      <th>4</th>\n",
       "      <td>-1.695597</td>\n",
       "      <td>0.441437</td>\n",
       "      <td>0.240469</td>\n",
       "      <td>-0.516622</td>\n",
       "    </tr>\n",
       "    <tr>\n",
       "      <th>5</th>\n",
       "      <td>1.601261</td>\n",
       "      <td>-1.399657</td>\n",
       "      <td>-1.582180</td>\n",
       "      <td>0.430264</td>\n",
       "    </tr>\n",
       "    <tr>\n",
       "      <th>6</th>\n",
       "      <td>1.107352</td>\n",
       "      <td>1.917186</td>\n",
       "      <td>0.466153</td>\n",
       "      <td>-1.868374</td>\n",
       "    </tr>\n",
       "    <tr>\n",
       "      <th>7</th>\n",
       "      <td>-0.140496</td>\n",
       "      <td>-0.820322</td>\n",
       "      <td>0.323901</td>\n",
       "      <td>1.043958</td>\n",
       "    </tr>\n",
       "    <tr>\n",
       "      <th>8</th>\n",
       "      <td>-0.660664</td>\n",
       "      <td>-0.260599</td>\n",
       "      <td>0.307823</td>\n",
       "      <td>-0.558922</td>\n",
       "    </tr>\n",
       "    <tr>\n",
       "      <th>9</th>\n",
       "      <td>-0.172883</td>\n",
       "      <td>-0.281366</td>\n",
       "      <td>0.968689</td>\n",
       "      <td>-1.204254</td>\n",
       "    </tr>\n",
       "  </tbody>\n",
       "</table>\n",
       "</div>"
      ],
      "text/plain": [
       "          0         1         2         3\n",
       "0 -0.635541  1.143112 -0.553710  0.340788\n",
       "1  0.635135 -0.593026  0.079188  0.852935\n",
       "2  0.518845 -1.285389 -0.597875  0.998888\n",
       "3  0.408428  0.446562  0.738111  2.325124\n",
       "4 -1.695597  0.441437  0.240469 -0.516622\n",
       "5  1.601261 -1.399657 -1.582180  0.430264\n",
       "6  1.107352  1.917186  0.466153 -1.868374\n",
       "7 -0.140496 -0.820322  0.323901  1.043958\n",
       "8 -0.660664 -0.260599  0.307823 -0.558922\n",
       "9 -0.172883 -0.281366  0.968689 -1.204254"
      ]
     },
     "execution_count": 90,
     "metadata": {},
     "output_type": "execute_result"
    }
   ],
   "source": [
    "pd.concat(pieces)"
   ]
  },
  {
   "cell_type": "code",
   "execution_count": 91,
   "metadata": {},
   "outputs": [],
   "source": [
    "left = pd"
   ]
  },
  {
   "cell_type": "code",
   "execution_count": null,
   "metadata": {},
   "outputs": [],
   "source": []
  }
 ],
 "metadata": {
  "kernelspec": {
   "display_name": "Python 3",
   "language": "python",
   "name": "python3"
  },
  "language_info": {
   "codemirror_mode": {
    "name": "ipython",
    "version": 3
   },
   "file_extension": ".py",
   "mimetype": "text/x-python",
   "name": "python",
   "nbconvert_exporter": "python",
   "pygments_lexer": "ipython3",
   "version": "3.7.3"
  }
 },
 "nbformat": 4,
 "nbformat_minor": 2
}
